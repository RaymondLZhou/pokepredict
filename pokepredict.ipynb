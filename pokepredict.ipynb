{
 "metadata": {
  "language_info": {
   "codemirror_mode": {
    "name": "ipython",
    "version": 3
   },
   "file_extension": ".py",
   "mimetype": "text/x-python",
   "name": "python",
   "nbconvert_exporter": "python",
   "pygments_lexer": "ipython3",
   "version": "3.8.7-final"
  },
  "orig_nbformat": 2,
  "kernelspec": {
   "name": "python3",
   "display_name": "Python 3",
   "language": "python"
  }
 },
 "nbformat": 4,
 "nbformat_minor": 2,
 "cells": [
  {
   "source": [
    "# PokéPredict"
   ],
   "cell_type": "markdown",
   "metadata": {}
  },
  {
   "cell_type": "code",
   "execution_count": 1,
   "metadata": {},
   "outputs": [],
   "source": [
    "import pandas as pd"
   ]
  },
  {
   "source": [
    "## Load data"
   ],
   "cell_type": "markdown",
   "metadata": {}
  },
  {
   "source": [
    "df = pd.read_csv(\"./data/pokedex.csv\", index_col=0)\n",
    "\n",
    "df.head()"
   ],
   "cell_type": "code",
   "metadata": {},
   "execution_count": 2,
   "outputs": [
    {
     "output_type": "execute_result",
     "data": {
      "text/plain": [
       "   pokedex_number           name  generation  status         species  \\\n",
       "0               1      Bulbasaur           1  Normal    Seed Pokémon   \n",
       "1               2        Ivysaur           1  Normal    Seed Pokémon   \n",
       "2               3       Venusaur           1  Normal    Seed Pokémon   \n",
       "3               3  Mega Venusaur           1  Normal    Seed Pokémon   \n",
       "4               4     Charmander           1  Normal  Lizard Pokémon   \n",
       "\n",
       "   type_number type_1  type_2  height_m  weight_kg  ...  speed catch_rate  \\\n",
       "0            2  Grass  Poison       0.7        6.9  ...     45         45   \n",
       "1            2  Grass  Poison       1.0       13.0  ...     60         45   \n",
       "2            2  Grass  Poison       2.0      100.0  ...     80         45   \n",
       "3            2  Grass  Poison       2.4      155.5  ...     80         45   \n",
       "4            1   Fire     NaN       0.6        8.5  ...     65         45   \n",
       "\n",
       "  base_friendship base_experience  growth_rate  egg_type_number  egg_type_1  \\\n",
       "0              50              64  Medium Slow                2       Grass   \n",
       "1              50             142  Medium Slow                2       Grass   \n",
       "2              50             236  Medium Slow                2       Grass   \n",
       "3              50             281  Medium Slow                2       Grass   \n",
       "4              50              62  Medium Slow                2      Dragon   \n",
       "\n",
       "   egg_type_2  percentage_male  egg_cycles  \n",
       "0     Monster             87.5          20  \n",
       "1     Monster             87.5          20  \n",
       "2     Monster             87.5          20  \n",
       "3     Monster             87.5          20  \n",
       "4     Monster             87.5          20  \n",
       "\n",
       "[5 rows x 30 columns]"
      ],
      "text/html": "<div>\n<style scoped>\n    .dataframe tbody tr th:only-of-type {\n        vertical-align: middle;\n    }\n\n    .dataframe tbody tr th {\n        vertical-align: top;\n    }\n\n    .dataframe thead th {\n        text-align: right;\n    }\n</style>\n<table border=\"1\" class=\"dataframe\">\n  <thead>\n    <tr style=\"text-align: right;\">\n      <th></th>\n      <th>pokedex_number</th>\n      <th>name</th>\n      <th>generation</th>\n      <th>status</th>\n      <th>species</th>\n      <th>type_number</th>\n      <th>type_1</th>\n      <th>type_2</th>\n      <th>height_m</th>\n      <th>weight_kg</th>\n      <th>...</th>\n      <th>speed</th>\n      <th>catch_rate</th>\n      <th>base_friendship</th>\n      <th>base_experience</th>\n      <th>growth_rate</th>\n      <th>egg_type_number</th>\n      <th>egg_type_1</th>\n      <th>egg_type_2</th>\n      <th>percentage_male</th>\n      <th>egg_cycles</th>\n    </tr>\n  </thead>\n  <tbody>\n    <tr>\n      <th>0</th>\n      <td>1</td>\n      <td>Bulbasaur</td>\n      <td>1</td>\n      <td>Normal</td>\n      <td>Seed Pokémon</td>\n      <td>2</td>\n      <td>Grass</td>\n      <td>Poison</td>\n      <td>0.7</td>\n      <td>6.9</td>\n      <td>...</td>\n      <td>45</td>\n      <td>45</td>\n      <td>50</td>\n      <td>64</td>\n      <td>Medium Slow</td>\n      <td>2</td>\n      <td>Grass</td>\n      <td>Monster</td>\n      <td>87.5</td>\n      <td>20</td>\n    </tr>\n    <tr>\n      <th>1</th>\n      <td>2</td>\n      <td>Ivysaur</td>\n      <td>1</td>\n      <td>Normal</td>\n      <td>Seed Pokémon</td>\n      <td>2</td>\n      <td>Grass</td>\n      <td>Poison</td>\n      <td>1.0</td>\n      <td>13.0</td>\n      <td>...</td>\n      <td>60</td>\n      <td>45</td>\n      <td>50</td>\n      <td>142</td>\n      <td>Medium Slow</td>\n      <td>2</td>\n      <td>Grass</td>\n      <td>Monster</td>\n      <td>87.5</td>\n      <td>20</td>\n    </tr>\n    <tr>\n      <th>2</th>\n      <td>3</td>\n      <td>Venusaur</td>\n      <td>1</td>\n      <td>Normal</td>\n      <td>Seed Pokémon</td>\n      <td>2</td>\n      <td>Grass</td>\n      <td>Poison</td>\n      <td>2.0</td>\n      <td>100.0</td>\n      <td>...</td>\n      <td>80</td>\n      <td>45</td>\n      <td>50</td>\n      <td>236</td>\n      <td>Medium Slow</td>\n      <td>2</td>\n      <td>Grass</td>\n      <td>Monster</td>\n      <td>87.5</td>\n      <td>20</td>\n    </tr>\n    <tr>\n      <th>3</th>\n      <td>3</td>\n      <td>Mega Venusaur</td>\n      <td>1</td>\n      <td>Normal</td>\n      <td>Seed Pokémon</td>\n      <td>2</td>\n      <td>Grass</td>\n      <td>Poison</td>\n      <td>2.4</td>\n      <td>155.5</td>\n      <td>...</td>\n      <td>80</td>\n      <td>45</td>\n      <td>50</td>\n      <td>281</td>\n      <td>Medium Slow</td>\n      <td>2</td>\n      <td>Grass</td>\n      <td>Monster</td>\n      <td>87.5</td>\n      <td>20</td>\n    </tr>\n    <tr>\n      <th>4</th>\n      <td>4</td>\n      <td>Charmander</td>\n      <td>1</td>\n      <td>Normal</td>\n      <td>Lizard Pokémon</td>\n      <td>1</td>\n      <td>Fire</td>\n      <td>NaN</td>\n      <td>0.6</td>\n      <td>8.5</td>\n      <td>...</td>\n      <td>65</td>\n      <td>45</td>\n      <td>50</td>\n      <td>62</td>\n      <td>Medium Slow</td>\n      <td>2</td>\n      <td>Dragon</td>\n      <td>Monster</td>\n      <td>87.5</td>\n      <td>20</td>\n    </tr>\n  </tbody>\n</table>\n<p>5 rows × 30 columns</p>\n</div>"
     },
     "metadata": {},
     "execution_count": 2
    }
   ]
  },
  {
   "source": [
    "## Verify data"
   ],
   "cell_type": "markdown",
   "metadata": {}
  },
  {
   "cell_type": "code",
   "execution_count": 3,
   "metadata": {},
   "outputs": [],
   "source": [
    "assert(df[df['type_number'] == 1]).equals(df[df['type_2'].isnull()])\n",
    "assert(df[df['type_number'] == 2]).equals(df[~df['type_2'].isnull()])\n",
    "\n",
    "assert(df[df['abilities_number'] == 1]).equals(df[(df['ability_2'].isnull()) & (df['ability_hidden'].isnull())])\n",
    "assert(df[df['abilities_number'] == 2]).equals(df[(df['ability_2'].isnull()) ^ (df['ability_hidden'].isnull())])\n",
    "assert(df[df['abilities_number'] == 3]).equals(df[(~df['ability_2'].isnull()) & (~df['ability_hidden'].isnull())])\n",
    "\n",
    "assert(df[df['egg_type_number'] == 1]).equals(df[df['egg_type_2'].isnull()])\n",
    "assert(df[df['egg_type_number'] == 2]).equals(df[~df['egg_type_2'].isnull()])"
   ]
  },
  {
   "cell_type": "code",
   "execution_count": 4,
   "metadata": {},
   "outputs": [
    {
     "output_type": "stream",
     "name": "stdout",
     "text": [
      "<class 'pandas.core.frame.DataFrame'>\nInt64Index: 1025 entries, 0 to 1024\nData columns (total 30 columns):\n #   Column            Non-Null Count  Dtype  \n---  ------            --------------  -----  \n 0   pokedex_number    1025 non-null   int64  \n 1   name              1025 non-null   object \n 2   generation        1025 non-null   int64  \n 3   status            1025 non-null   object \n 4   species           1025 non-null   object \n 5   type_number       1025 non-null   int64  \n 6   type_1            1025 non-null   object \n 7   type_2            541 non-null    object \n 8   height_m          1025 non-null   float64\n 9   weight_kg         1025 non-null   float64\n 10  abilities_number  1025 non-null   int64  \n 11  ability_1         1025 non-null   object \n 12  ability_2         513 non-null    object \n 13  ability_hidden    808 non-null    object \n 14  total_points      1025 non-null   int64  \n 15  hp                1025 non-null   int64  \n 16  attack            1025 non-null   int64  \n 17  defense           1025 non-null   int64  \n 18  sp_attack         1025 non-null   int64  \n 19  sp_defense        1025 non-null   int64  \n 20  speed             1025 non-null   int64  \n 21  catch_rate        1025 non-null   int64  \n 22  base_friendship   1025 non-null   int64  \n 23  base_experience   1025 non-null   int64  \n 24  growth_rate       1025 non-null   object \n 25  egg_type_number   1025 non-null   int64  \n 26  egg_type_1        1025 non-null   object \n 27  egg_type_2        282 non-null    object \n 28  percentage_male   804 non-null    float64\n 29  egg_cycles        1025 non-null   int64  \ndtypes: float64(3), int64(16), object(11)\nmemory usage: 248.2+ KB\n"
     ]
    }
   ],
   "source": [
    "df.info()"
   ]
  }
 ]
}