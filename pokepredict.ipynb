{
 "metadata": {
  "language_info": {
   "codemirror_mode": {
    "name": "ipython",
    "version": 3
   },
   "file_extension": ".py",
   "mimetype": "text/x-python",
   "name": "python",
   "nbconvert_exporter": "python",
   "pygments_lexer": "ipython3",
   "version": "3.8.7-final"
  },
  "orig_nbformat": 2,
  "kernelspec": {
   "name": "python3",
   "display_name": "Python 3",
   "language": "python"
  }
 },
 "nbformat": 4,
 "nbformat_minor": 2,
 "cells": [
  {
   "source": [
    "# PokéPredict"
   ],
   "cell_type": "markdown",
   "metadata": {}
  },
  {
   "cell_type": "code",
   "execution_count": 3,
   "metadata": {},
   "outputs": [],
   "source": [
    "import pandas as pd"
   ]
  },
  {
   "source": [
    "## Load data"
   ],
   "cell_type": "markdown",
   "metadata": {}
  },
  {
   "source": [
    "df = pd.read_csv(\"./data/pokedex.csv\")\n",
    "\n",
    "df.info()"
   ],
   "cell_type": "code",
   "metadata": {},
   "execution_count": 86,
   "outputs": [
    {
     "output_type": "stream",
     "name": "stdout",
     "text": [
      "<class 'pandas.core.frame.DataFrame'>\nRangeIndex: 1025 entries, 0 to 1024\nData columns (total 31 columns):\n #   Column            Non-Null Count  Dtype  \n---  ------            --------------  -----  \n 0   Unnamed: 0        1025 non-null   int64  \n 1   pokedex_number    1025 non-null   int64  \n 2   name              1025 non-null   object \n 3   generation        1025 non-null   int64  \n 4   status            1025 non-null   object \n 5   species           1025 non-null   object \n 6   type_number       1025 non-null   int64  \n 7   type_1            1025 non-null   object \n 8   type_2            541 non-null    object \n 9   height_m          1025 non-null   float64\n 10  weight_kg         1025 non-null   float64\n 11  abilities_number  1025 non-null   int64  \n 12  ability_1         1025 non-null   object \n 13  ability_2         513 non-null    object \n 14  ability_hidden    808 non-null    object \n 15  total_points      1025 non-null   int64  \n 16  hp                1025 non-null   int64  \n 17  attack            1025 non-null   int64  \n 18  defense           1025 non-null   int64  \n 19  sp_attack         1025 non-null   int64  \n 20  sp_defense        1025 non-null   int64  \n 21  speed             1025 non-null   int64  \n 22  catch_rate        938 non-null    float64\n 23  base_friendship   938 non-null    float64\n 24  base_experience   938 non-null    float64\n 25  growth_rate       1025 non-null   object \n 26  egg_type_number   1025 non-null   int64  \n 27  egg_type_1        1025 non-null   object \n 28  egg_type_2        282 non-null    object \n 29  percentage_male   790 non-null    float64\n 30  egg_cycles        1025 non-null   int64  \ndtypes: float64(6), int64(14), object(11)\nmemory usage: 248.4+ KB\n"
     ]
    }
   ]
  },
  {
   "source": [
    "## Clean data"
   ],
   "cell_type": "markdown",
   "metadata": {}
  },
  {
   "cell_type": "code",
   "execution_count": 87,
   "metadata": {},
   "outputs": [
    {
     "output_type": "execute_result",
     "data": {
      "text/plain": [
       "<bound method DataFrame.info of Empty DataFrame\n",
       "Columns: [Unnamed: 0, pokedex_number, name, generation, status, species, type_number, type_1, type_2, height_m, weight_kg, abilities_number, ability_1, ability_2, ability_hidden, total_points, hp, attack, defense, sp_attack, sp_defense, speed, catch_rate, base_friendship, base_experience, growth_rate, egg_type_number, egg_type_1, egg_type_2, percentage_male, egg_cycles]\n",
       "Index: []\n",
       "\n",
       "[0 rows x 31 columns]>"
      ]
     },
     "metadata": {},
     "execution_count": 87
    }
   ],
   "source": [
    "df[df['base_experience'].isnull() & ~df['base_friendship'].isnull()].info"
   ]
  },
  {
   "cell_type": "code",
   "execution_count": null,
   "metadata": {},
   "outputs": [],
   "source": []
  }
 ]
}