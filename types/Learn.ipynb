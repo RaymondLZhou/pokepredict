{
  "nbformat": 4,
  "nbformat_minor": 5,
  "metadata": {
    "kernelspec": {
      "display_name": "Python 3",
      "language": "python",
      "name": "python3"
    },
    "language_info": {
      "codemirror_mode": {
        "name": "ipython",
        "version": 3
      },
      "file_extension": ".py",
      "mimetype": "text/x-python",
      "name": "python",
      "nbconvert_exporter": "python",
      "pygments_lexer": "ipython3",
      "version": "3.8.7"
    },
    "colab": {
      "name": "Learn.ipynb",
      "provenance": [],
      "collapsed_sections": []
    },
    "accelerator": "GPU"
  },
  "cells": [
    {
      "cell_type": "code",
      "metadata": {
        "id": "close-colorado"
      },
      "source": [
        "import os\n",
        "import numpy as np \n",
        "import pandas as pd\n",
        "\n",
        "from sklearn.model_selection import train_test_split\n",
        "\n",
        "import tensorflow as tf\n",
        "import matplotlib.pyplot as plt\n",
        "\n",
        "from tensorflow.keras.applications import EfficientNetB0\n",
        "from tensorflow.keras.applications.efficientnet import preprocess_input\n",
        "from tensorflow.keras.layers import Dense, Dropout, GlobalAveragePooling2D\n",
        "from tensorflow.keras.optimizers import Adam\n",
        "from tensorflow.keras import Model\n",
        "from tensorflow.keras.callbacks import ReduceLROnPlateau, ModelCheckpoint, EarlyStopping"
      ],
      "id": "close-colorado",
      "execution_count": 1,
      "outputs": []
    },
    {
      "cell_type": "code",
      "metadata": {
        "colab": {
          "base_uri": "https://localhost:8080/"
        },
        "id": "QvtFiVRPkSFA",
        "outputId": "56994284-736d-4da1-9880-e943b2b1d320"
      },
      "source": [
        "from google.colab import drive\r\n",
        "drive.mount('/content/gdrive')"
      ],
      "id": "QvtFiVRPkSFA",
      "execution_count": 2,
      "outputs": [
        {
          "output_type": "stream",
          "text": [
            "Drive already mounted at /content/gdrive; to attempt to forcibly remount, call drive.mount(\"/content/gdrive\", force_remount=True).\n"
          ],
          "name": "stdout"
        }
      ]
    },
    {
      "cell_type": "code",
      "metadata": {
        "colab": {
          "base_uri": "https://localhost:8080/"
        },
        "id": "3ySJdy7pkVCJ",
        "outputId": "152d0a3c-e21b-4e65-c25e-4b184e41101d"
      },
      "source": [
        "%cd '/content/gdrive/My Drive/pokepredict/types'"
      ],
      "id": "3ySJdy7pkVCJ",
      "execution_count": 3,
      "outputs": [
        {
          "output_type": "stream",
          "text": [
            "/content/gdrive/My Drive/pokepredict/types\n"
          ],
          "name": "stdout"
        }
      ]
    },
    {
      "cell_type": "code",
      "metadata": {
        "colab": {
          "base_uri": "https://localhost:8080/",
          "height": 240
        },
        "id": "unlikely-solomon",
        "outputId": "ea430bfe-68fb-42e2-840e-47ebe4f1e480"
      },
      "source": [
        "df_train = pd.read_csv(\"data/type_encodings.csv\")\n",
        "print(df_train.shape)\n",
        "df_train.head()"
      ],
      "id": "unlikely-solomon",
      "execution_count": 4,
      "outputs": [
        {
          "output_type": "stream",
          "text": [
            "(8430, 19)\n"
          ],
          "name": "stdout"
        },
        {
          "output_type": "execute_result",
          "data": {
            "text/html": [
              "<div>\n",
              "<style scoped>\n",
              "    .dataframe tbody tr th:only-of-type {\n",
              "        vertical-align: middle;\n",
              "    }\n",
              "\n",
              "    .dataframe tbody tr th {\n",
              "        vertical-align: top;\n",
              "    }\n",
              "\n",
              "    .dataframe thead th {\n",
              "        text-align: right;\n",
              "    }\n",
              "</style>\n",
              "<table border=\"1\" class=\"dataframe\">\n",
              "  <thead>\n",
              "    <tr style=\"text-align: right;\">\n",
              "      <th></th>\n",
              "      <th>file</th>\n",
              "      <th>type_Bug</th>\n",
              "      <th>type_Dark</th>\n",
              "      <th>type_Dragon</th>\n",
              "      <th>type_Electric</th>\n",
              "      <th>type_Fairy</th>\n",
              "      <th>type_Fighting</th>\n",
              "      <th>type_Fire</th>\n",
              "      <th>type_Flying</th>\n",
              "      <th>type_Ghost</th>\n",
              "      <th>type_Grass</th>\n",
              "      <th>type_Ground</th>\n",
              "      <th>type_Ice</th>\n",
              "      <th>type_Normal</th>\n",
              "      <th>type_Poison</th>\n",
              "      <th>type_Psychic</th>\n",
              "      <th>type_Rock</th>\n",
              "      <th>type_Steel</th>\n",
              "      <th>type_Water</th>\n",
              "    </tr>\n",
              "  </thead>\n",
              "  <tbody>\n",
              "    <tr>\n",
              "      <th>0</th>\n",
              "      <td>0001.png</td>\n",
              "      <td>0</td>\n",
              "      <td>0</td>\n",
              "      <td>0</td>\n",
              "      <td>0</td>\n",
              "      <td>0</td>\n",
              "      <td>0</td>\n",
              "      <td>0</td>\n",
              "      <td>0</td>\n",
              "      <td>0</td>\n",
              "      <td>1</td>\n",
              "      <td>0</td>\n",
              "      <td>0</td>\n",
              "      <td>0</td>\n",
              "      <td>1</td>\n",
              "      <td>0</td>\n",
              "      <td>0</td>\n",
              "      <td>0</td>\n",
              "      <td>0</td>\n",
              "    </tr>\n",
              "    <tr>\n",
              "      <th>1</th>\n",
              "      <td>0002.png</td>\n",
              "      <td>0</td>\n",
              "      <td>0</td>\n",
              "      <td>0</td>\n",
              "      <td>0</td>\n",
              "      <td>0</td>\n",
              "      <td>0</td>\n",
              "      <td>0</td>\n",
              "      <td>0</td>\n",
              "      <td>0</td>\n",
              "      <td>1</td>\n",
              "      <td>0</td>\n",
              "      <td>0</td>\n",
              "      <td>0</td>\n",
              "      <td>1</td>\n",
              "      <td>0</td>\n",
              "      <td>0</td>\n",
              "      <td>0</td>\n",
              "      <td>0</td>\n",
              "    </tr>\n",
              "    <tr>\n",
              "      <th>2</th>\n",
              "      <td>0003.png</td>\n",
              "      <td>0</td>\n",
              "      <td>0</td>\n",
              "      <td>0</td>\n",
              "      <td>0</td>\n",
              "      <td>0</td>\n",
              "      <td>0</td>\n",
              "      <td>0</td>\n",
              "      <td>0</td>\n",
              "      <td>0</td>\n",
              "      <td>1</td>\n",
              "      <td>0</td>\n",
              "      <td>0</td>\n",
              "      <td>0</td>\n",
              "      <td>1</td>\n",
              "      <td>0</td>\n",
              "      <td>0</td>\n",
              "      <td>0</td>\n",
              "      <td>0</td>\n",
              "    </tr>\n",
              "    <tr>\n",
              "      <th>3</th>\n",
              "      <td>0004.png</td>\n",
              "      <td>0</td>\n",
              "      <td>0</td>\n",
              "      <td>0</td>\n",
              "      <td>0</td>\n",
              "      <td>0</td>\n",
              "      <td>0</td>\n",
              "      <td>1</td>\n",
              "      <td>0</td>\n",
              "      <td>0</td>\n",
              "      <td>0</td>\n",
              "      <td>0</td>\n",
              "      <td>0</td>\n",
              "      <td>0</td>\n",
              "      <td>0</td>\n",
              "      <td>0</td>\n",
              "      <td>0</td>\n",
              "      <td>0</td>\n",
              "      <td>0</td>\n",
              "    </tr>\n",
              "    <tr>\n",
              "      <th>4</th>\n",
              "      <td>0005.png</td>\n",
              "      <td>0</td>\n",
              "      <td>0</td>\n",
              "      <td>0</td>\n",
              "      <td>0</td>\n",
              "      <td>0</td>\n",
              "      <td>0</td>\n",
              "      <td>1</td>\n",
              "      <td>0</td>\n",
              "      <td>0</td>\n",
              "      <td>0</td>\n",
              "      <td>0</td>\n",
              "      <td>0</td>\n",
              "      <td>0</td>\n",
              "      <td>0</td>\n",
              "      <td>0</td>\n",
              "      <td>0</td>\n",
              "      <td>0</td>\n",
              "      <td>0</td>\n",
              "    </tr>\n",
              "  </tbody>\n",
              "</table>\n",
              "</div>"
            ],
            "text/plain": [
              "       file  type_Bug  type_Dark  ...  type_Rock  type_Steel  type_Water\n",
              "0  0001.png         0          0  ...          0           0           0\n",
              "1  0002.png         0          0  ...          0           0           0\n",
              "2  0003.png         0          0  ...          0           0           0\n",
              "3  0004.png         0          0  ...          0           0           0\n",
              "4  0005.png         0          0  ...          0           0           0\n",
              "\n",
              "[5 rows x 19 columns]"
            ]
          },
          "metadata": {
            "tags": []
          },
          "execution_count": 4
        }
      ]
    },
    {
      "cell_type": "code",
      "metadata": {
        "colab": {
          "base_uri": "https://localhost:8080/"
        },
        "id": "golden-edmonton",
        "outputId": "f1260c56-e6dd-4d07-d177-882adf9c9516"
      },
      "source": [
        "target_cols = df_train.drop(['file'], axis=1).columns.to_list()\n",
        "\n",
        "number_classes = len(target_cols)\n",
        "image_size = 450\n",
        "number_epochs = 30\n",
        "\n",
        "batch_size = 32\n",
        "\n",
        "target_cols"
      ],
      "id": "golden-edmonton",
      "execution_count": 5,
      "outputs": [
        {
          "output_type": "execute_result",
          "data": {
            "text/plain": [
              "['type_Bug',\n",
              " 'type_Dark',\n",
              " 'type_Dragon',\n",
              " 'type_Electric',\n",
              " 'type_Fairy',\n",
              " 'type_Fighting',\n",
              " 'type_Fire',\n",
              " 'type_Flying',\n",
              " 'type_Ghost',\n",
              " 'type_Grass',\n",
              " 'type_Ground',\n",
              " 'type_Ice',\n",
              " 'type_Normal',\n",
              " 'type_Poison',\n",
              " 'type_Psychic',\n",
              " 'type_Rock',\n",
              " 'type_Steel',\n",
              " 'type_Water']"
            ]
          },
          "metadata": {
            "tags": []
          },
          "execution_count": 5
        }
      ]
    },
    {
      "cell_type": "code",
      "metadata": {
        "id": "persistent-daily"
      },
      "source": [
        "def build_decoder(with_labels=True, target_size=(image_size, image_size)):\n",
        "    def decode(path):\n",
        "        file_bytes = tf.io.read_file(path)\n",
        "\n",
        "        image = tf.image.decode_png(file_bytes, channels=3)\n",
        "        image = tf.cast(image, tf.float32) / 255.0\n",
        "        image = tf.image.resize(image, target_size)\n",
        "        image = preprocess_input(image)\n",
        "        \n",
        "        return image\n",
        "    \n",
        "    \n",
        "    def decode_with_labels(path, label):\n",
        "        return decode(path), label\n",
        "    \n",
        "    \n",
        "    return decode_with_labels if with_labels else decode"
      ],
      "id": "persistent-daily",
      "execution_count": 6,
      "outputs": []
    },
    {
      "cell_type": "code",
      "metadata": {
        "id": "lLJkgo4fiu2g"
      },
      "source": [
        "def build_augmenter(with_labels=True):\r\n",
        "    def augment(image):\r\n",
        "        image = tf.image.random_flip_left_right(image)\r\n",
        "        image = tf.image.random_saturation(image, 0.8, 1.2)\r\n",
        "        image = tf.image.random_brightness(image, 0.2)\r\n",
        "        image = tf.image.random_contrast(image, 0.8, 1.2)\r\n",
        "        image = tf.image.random_hue(image, 0.2)\r\n",
        "        \r\n",
        "        return image\r\n",
        "    \r\n",
        "\r\n",
        "    def augment_with_labels(image, label):\r\n",
        "        return augment(image), label\r\n",
        "    \r\n",
        "    \r\n",
        "    return augment_with_labels if with_labels else augment"
      ],
      "id": "lLJkgo4fiu2g",
      "execution_count": 7,
      "outputs": []
    },
    {
      "cell_type": "code",
      "metadata": {
        "id": "removed-midnight"
      },
      "source": [
        "def build_dataset(paths, labels=None, bsize=32, decode_function=None, augment_function=None, augment=True):\n",
        "    if decode_function is None:\n",
        "        decode_function = build_decoder(labels is not None)\n",
        "\n",
        "    if augment_function is None:\n",
        "        augment_function = build_augmenter(labels is not None)\n",
        "    \n",
        "    AUTO = tf.data.experimental.AUTOTUNE\n",
        "    slices = paths if labels is None else (paths, labels)\n",
        "    \n",
        "    dataset = tf.data.Dataset.from_tensor_slices(slices)  \n",
        "    dataset = dataset.map(decode_function, num_parallel_calls=AUTO)\n",
        "    dataset = dataset.map(augment_function, num_parallel_calls=AUTO) if augment else dataset\n",
        "\n",
        "    dataset = dataset.batch(bsize).prefetch(AUTO) \n",
        "\n",
        "    return dataset"
      ],
      "id": "removed-midnight",
      "execution_count": 8,
      "outputs": []
    },
    {
      "cell_type": "code",
      "metadata": {
        "colab": {
          "base_uri": "https://localhost:8080/"
        },
        "id": "compatible-wildlife",
        "outputId": "02b8d234-ec96-431f-c197-6c3bcdcacb95"
      },
      "source": [
        "load_dir = \"data/images/\"\n",
        "\n",
        "train_paths = load_dir + df_train['file']\n",
        "\n",
        "label_cols = df_train.columns[1:]\n",
        "labels = df_train[label_cols].values\n",
        "\n",
        "labels"
      ],
      "id": "compatible-wildlife",
      "execution_count": 9,
      "outputs": [
        {
          "output_type": "execute_result",
          "data": {
            "text/plain": [
              "array([[0, 0, 0, ..., 0, 0, 0],\n",
              "       [0, 0, 0, ..., 0, 0, 0],\n",
              "       [0, 0, 0, ..., 0, 0, 0],\n",
              "       ...,\n",
              "       [0, 0, 0, ..., 0, 0, 0],\n",
              "       [0, 0, 0, ..., 0, 0, 0],\n",
              "       [0, 0, 0, ..., 0, 0, 0]])"
            ]
          },
          "metadata": {
            "tags": []
          },
          "execution_count": 9
        }
      ]
    },
    {
      "cell_type": "code",
      "metadata": {
        "id": "crucial-marsh"
      },
      "source": [
        "train_paths, valid_paths, train_labels, valid_labels = train_test_split(train_paths, labels, test_size=0.2, random_state=42)"
      ],
      "id": "crucial-marsh",
      "execution_count": 10,
      "outputs": []
    },
    {
      "cell_type": "code",
      "metadata": {
        "id": "living-marriage"
      },
      "source": [
        "decoder = build_decoder(with_labels=True, target_size=(image_size, image_size))\n",
        "\n",
        "data_train = build_dataset(train_paths, train_labels, bsize=batch_size, decode_function=decoder)\n",
        "data_valid = build_dataset(valid_paths, valid_labels, bsize=batch_size, augment=False, decode_function=decoder)"
      ],
      "id": "living-marriage",
      "execution_count": 11,
      "outputs": []
    },
    {
      "cell_type": "code",
      "metadata": {
        "id": "complete-craps"
      },
      "source": [
        "net = EfficientNetB0(include_top=False, input_shape=(image_size, image_size, 3), weights='imagenet')\n",
        "\n",
        "output = net.output\n",
        "output = Dropout(0.75)(output)\n",
        "output = GlobalAveragePooling2D()(output)\n",
        "output = Dropout(0.75)(output)\n",
        "output = Dense(number_classes, activation='sigmoid')(output)\n",
        "\n",
        "model = Model(inputs=net.input, outputs=output)\n",
        "model.compile(Adam(lr=0.0005), loss='binary_crossentropy', metrics=[tf.keras.metrics.AUC(multi_label=True, name='auc')])"
      ],
      "id": "complete-craps",
      "execution_count": 12,
      "outputs": []
    },
    {
      "cell_type": "code",
      "metadata": {
        "id": "AfzgfkOs8pC7"
      },
      "source": [
        "rlr = ReduceLROnPlateau(monitor='val_loss', factor=0.1, patience=2, verbose=1, min_delta = 1e-4, min_lr = 1e-6, mode = 'min')\r\n",
        "        \r\n",
        "ckp = ModelCheckpoint('model.h5', monitor='val_loss', verbose=1, save_best_only=True, mode='min')\r\n",
        "        \r\n",
        "es = EarlyStopping(monitor='val_loss', min_delta=1e-4, patience=5, mode='min', restore_best_weights=True, verbose=1)"
      ],
      "id": "AfzgfkOs8pC7",
      "execution_count": 13,
      "outputs": []
    },
    {
      "cell_type": "code",
      "metadata": {
        "id": "general-executive",
        "colab": {
          "base_uri": "https://localhost:8080/"
        },
        "outputId": "9a88b0f7-9f10-4ece-f797-cba06f7724da"
      },
      "source": [
        "history = model.fit(data_train,                      \n",
        "                    validation_data=data_valid,                                       \n",
        "                    epochs=number_epochs,\n",
        "                    callbacks=[rlr,es,ckp],\n",
        "                    shuffle=True,\n",
        "                    verbose=1)"
      ],
      "id": "general-executive",
      "execution_count": 14,
      "outputs": [
        {
          "output_type": "stream",
          "text": [
            "Epoch 1/30\n",
            "211/211 [==============================] - 295s 1s/step - loss: 0.3388 - auc: 0.5677 - val_loss: 0.3583 - val_auc: 0.5156\n",
            "\n",
            "Epoch 00001: val_loss improved from inf to 0.35834, saving model to model.h5\n",
            "Epoch 2/30\n",
            "211/211 [==============================] - 283s 1s/step - loss: 0.1711 - auc: 0.8707 - val_loss: 0.2884 - val_auc: 0.6959\n",
            "\n",
            "Epoch 00002: val_loss improved from 0.35834 to 0.28843, saving model to model.h5\n",
            "Epoch 3/30\n",
            "211/211 [==============================] - 282s 1s/step - loss: 0.1057 - auc: 0.9517 - val_loss: 0.2161 - val_auc: 0.8485\n",
            "\n",
            "Epoch 00003: val_loss improved from 0.28843 to 0.21609, saving model to model.h5\n",
            "Epoch 4/30\n",
            "211/211 [==============================] - 284s 1s/step - loss: 0.0760 - auc: 0.9723 - val_loss: 0.7869 - val_auc: 0.5709\n",
            "\n",
            "Epoch 00004: val_loss did not improve from 0.21609\n",
            "Epoch 5/30\n",
            "211/211 [==============================] - 285s 1s/step - loss: 0.0591 - auc: 0.9824 - val_loss: 0.5055 - val_auc: 0.7294\n",
            "\n",
            "Epoch 00005: ReduceLROnPlateau reducing learning rate to 5.0000002374872565e-05.\n",
            "\n",
            "Epoch 00005: val_loss did not improve from 0.21609\n",
            "Epoch 6/30\n",
            "211/211 [==============================] - 285s 1s/step - loss: 0.0443 - auc: 0.9895 - val_loss: 0.0695 - val_auc: 0.9745\n",
            "\n",
            "Epoch 00006: val_loss improved from 0.21609 to 0.06946, saving model to model.h5\n",
            "Epoch 7/30\n",
            "211/211 [==============================] - 284s 1s/step - loss: 0.0349 - auc: 0.9932 - val_loss: 0.0614 - val_auc: 0.9789\n",
            "\n",
            "Epoch 00007: val_loss improved from 0.06946 to 0.06136, saving model to model.h5\n",
            "Epoch 8/30\n",
            "211/211 [==============================] - 284s 1s/step - loss: 0.0313 - auc: 0.9937 - val_loss: 0.0612 - val_auc: 0.9759\n",
            "\n",
            "Epoch 00008: val_loss improved from 0.06136 to 0.06125, saving model to model.h5\n",
            "Epoch 9/30\n",
            "211/211 [==============================] - 285s 1s/step - loss: 0.0286 - auc: 0.9945 - val_loss: 0.0712 - val_auc: 0.9703\n",
            "\n",
            "Epoch 00009: val_loss did not improve from 0.06125\n",
            "Epoch 10/30\n",
            "211/211 [==============================] - 284s 1s/step - loss: 0.0268 - auc: 0.9959 - val_loss: 0.0625 - val_auc: 0.9759\n",
            "\n",
            "Epoch 00010: ReduceLROnPlateau reducing learning rate to 5.000000237487257e-06.\n",
            "\n",
            "Epoch 00010: val_loss did not improve from 0.06125\n",
            "Epoch 11/30\n",
            "211/211 [==============================] - 284s 1s/step - loss: 0.0238 - auc: 0.9966 - val_loss: 0.0513 - val_auc: 0.9831\n",
            "\n",
            "Epoch 00011: val_loss improved from 0.06125 to 0.05128, saving model to model.h5\n",
            "Epoch 12/30\n",
            "211/211 [==============================] - 284s 1s/step - loss: 0.0235 - auc: 0.9965 - val_loss: 0.0513 - val_auc: 0.9829\n",
            "\n",
            "Epoch 00012: val_loss did not improve from 0.05128\n",
            "Epoch 13/30\n",
            "211/211 [==============================] - 285s 1s/step - loss: 0.0227 - auc: 0.9971 - val_loss: 0.0510 - val_auc: 0.9829\n",
            "\n",
            "Epoch 00013: val_loss improved from 0.05128 to 0.05105, saving model to model.h5\n",
            "Epoch 14/30\n",
            "211/211 [==============================] - 282s 1s/step - loss: 0.0232 - auc: 0.9966 - val_loss: 0.0507 - val_auc: 0.9838\n",
            "\n",
            "Epoch 00014: val_loss improved from 0.05105 to 0.05073, saving model to model.h5\n",
            "Epoch 15/30\n",
            "211/211 [==============================] - 283s 1s/step - loss: 0.0219 - auc: 0.9965 - val_loss: 0.0525 - val_auc: 0.9805\n",
            "\n",
            "Epoch 00015: val_loss did not improve from 0.05073\n",
            "Epoch 16/30\n",
            "211/211 [==============================] - 285s 1s/step - loss: 0.0215 - auc: 0.9970 - val_loss: 0.0507 - val_auc: 0.9833\n",
            "\n",
            "Epoch 00016: ReduceLROnPlateau reducing learning rate to 1e-06.\n",
            "\n",
            "Epoch 00016: val_loss did not improve from 0.05073\n",
            "Epoch 17/30\n",
            "211/211 [==============================] - 283s 1s/step - loss: 0.0218 - auc: 0.9972 - val_loss: 0.0508 - val_auc: 0.9835\n",
            "\n",
            "Epoch 00017: val_loss did not improve from 0.05073\n",
            "Epoch 18/30\n",
            "211/211 [==============================] - 284s 1s/step - loss: 0.0223 - auc: 0.9970 - val_loss: 0.0508 - val_auc: 0.9832\n",
            "\n",
            "Epoch 00018: val_loss did not improve from 0.05073\n",
            "Epoch 19/30\n",
            "211/211 [==============================] - 283s 1s/step - loss: 0.0213 - auc: 0.9972 - val_loss: 0.0507 - val_auc: 0.9832\n",
            "Restoring model weights from the end of the best epoch.\n",
            "\n",
            "Epoch 00019: val_loss improved from 0.05073 to 0.05071, saving model to model.h5\n",
            "Epoch 00019: early stopping\n"
          ],
          "name": "stdout"
        }
      ]
    },
    {
      "cell_type": "code",
      "metadata": {
        "id": "unique-campaign",
        "colab": {
          "base_uri": "https://localhost:8080/",
          "height": 705
        },
        "outputId": "f39f6c73-04a1-4cd7-9283-56a3da5ab961"
      },
      "source": [
        "plt.rcParams.update({'font.size': 16})\n",
        "hist = pd.DataFrame(history.history)\n",
        "fig, (ax1, ax2) = plt.subplots(figsize=(12,12), nrows=2, ncols=1)\n",
        "\n",
        "hist['loss'].plot(ax=ax1, c='k', label='training loss')\n",
        "hist['val_loss'].plot(ax=ax1, c='r', label='validation loss')\n",
        "ax1.legend()\n",
        "\n",
        "hist['auc'].plot(ax=ax2, c='k', label='training AUC')\n",
        "hist['val_auc'].plot(ax=ax2, c='r', label='validation AUC')\n",
        "ax2.legend()\n",
        "\n",
        "plt.show()"
      ],
      "id": "unique-campaign",
      "execution_count": 15,
      "outputs": [
        {
          "output_type": "display_data",
          "data": {
            "image/png": "[encoded data removed]",
            "text/plain": [
              "<Figure size 864x864 with 2 Axes>"
            ]
          },
          "metadata": {
            "tags": [],
            "needs_background": "light"
          }
        }
      ]
    },
    {
      "cell_type": "code",
      "metadata": {
        "id": "obBvV9Y5tj4P"
      },
      "source": [
        ""
      ],
      "id": "obBvV9Y5tj4P",
      "execution_count": 15,
      "outputs": []
    }
  ]
}