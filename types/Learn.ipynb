{
  "nbformat": 4,
  "nbformat_minor": 5,
  "metadata": {
    "kernelspec": {
      "display_name": "Python 3",
      "language": "python",
      "name": "python3"
    },
    "language_info": {
      "codemirror_mode": {
        "name": "ipython",
        "version": 3
      },
      "file_extension": ".py",
      "mimetype": "text/x-python",
      "name": "python",
      "nbconvert_exporter": "python",
      "pygments_lexer": "ipython3",
      "version": "3.8.7"
    },
    "colab": {
      "name": "Learn.ipynb",
      "provenance": [],
      "collapsed_sections": []
    },
    "accelerator": "GPU"
  },
  "cells": [
    {
      "cell_type": "code",
      "metadata": {
        "id": "close-colorado"
      },
      "source": [
        "import os\n",
        "import numpy as np \n",
        "import pandas as pd\n",
        "\n",
        "from sklearn.model_selection import train_test_split\n",
        "\n",
        "import tensorflow as tf\n",
        "import matplotlib.pyplot as plt\n",
        "\n",
        "from tensorflow.keras.applications import EfficientNetB0\n",
        "from tensorflow.keras.layers import Dense, Dropout, GlobalAveragePooling2D\n",
        "from tensorflow.keras.optimizers import Adam\n",
        "from tensorflow.keras import Model\n",
        "from tensorflow.keras.callbacks import ReduceLROnPlateau, ModelCheckpoint, EarlyStopping"
      ],
      "id": "close-colorado",
      "execution_count": null,
      "outputs": []
    },
    {
      "cell_type": "code",
      "metadata": {
        "colab": {
          "base_uri": "https://localhost:8080/"
        },
        "id": "QvtFiVRPkSFA",
        "outputId": "c5153223-2556-4846-8c5b-c53c749baae8"
      },
      "source": [
        "from google.colab import drive\r\n",
        "drive.mount('/content/gdrive')"
      ],
      "id": "QvtFiVRPkSFA",
      "execution_count": null,
      "outputs": [
        {
          "output_type": "stream",
          "text": [
            "Drive already mounted at /content/gdrive; to attempt to forcibly remount, call drive.mount(\"/content/gdrive\", force_remount=True).\n"
          ],
          "name": "stdout"
        }
      ]
    },
    {
      "cell_type": "code",
      "metadata": {
        "colab": {
          "base_uri": "https://localhost:8080/"
        },
        "id": "3ySJdy7pkVCJ",
        "outputId": "2677a92f-af9a-4734-f99b-6f3809b7ca4a"
      },
      "source": [
        "%cd '/content/gdrive/My Drive/pokepredict/types'"
      ],
      "id": "3ySJdy7pkVCJ",
      "execution_count": null,
      "outputs": [
        {
          "output_type": "stream",
          "text": [
            "/content/gdrive/My Drive/pokepredict/types\n"
          ],
          "name": "stdout"
        }
      ]
    },
    {
      "cell_type": "code",
      "metadata": {
        "colab": {
          "base_uri": "https://localhost:8080/",
          "height": 240
        },
        "id": "unlikely-solomon",
        "outputId": "74e04500-d1ea-4185-c498-bb09a3b47fca"
      },
      "source": [
        "df_train = pd.read_csv(\"data/type_encodings.csv\")\n",
        "print(df_train.shape)\n",
        "df_train.head()"
      ],
      "id": "unlikely-solomon",
      "execution_count": null,
      "outputs": [
        {
          "output_type": "stream",
          "text": [
            "(8430, 19)\n"
          ],
          "name": "stdout"
        },
        {
          "output_type": "execute_result",
          "data": {
            "text/html": [
              "<div>\n",
              "<style scoped>\n",
              "    .dataframe tbody tr th:only-of-type {\n",
              "        vertical-align: middle;\n",
              "    }\n",
              "\n",
              "    .dataframe tbody tr th {\n",
              "        vertical-align: top;\n",
              "    }\n",
              "\n",
              "    .dataframe thead th {\n",
              "        text-align: right;\n",
              "    }\n",
              "</style>\n",
              "<table border=\"1\" class=\"dataframe\">\n",
              "  <thead>\n",
              "    <tr style=\"text-align: right;\">\n",
              "      <th></th>\n",
              "      <th>file</th>\n",
              "      <th>type_Bug</th>\n",
              "      <th>type_Dark</th>\n",
              "      <th>type_Dragon</th>\n",
              "      <th>type_Electric</th>\n",
              "      <th>type_Fairy</th>\n",
              "      <th>type_Fighting</th>\n",
              "      <th>type_Fire</th>\n",
              "      <th>type_Flying</th>\n",
              "      <th>type_Ghost</th>\n",
              "      <th>type_Grass</th>\n",
              "      <th>type_Ground</th>\n",
              "      <th>type_Ice</th>\n",
              "      <th>type_Normal</th>\n",
              "      <th>type_Poison</th>\n",
              "      <th>type_Psychic</th>\n",
              "      <th>type_Rock</th>\n",
              "      <th>type_Steel</th>\n",
              "      <th>type_Water</th>\n",
              "    </tr>\n",
              "  </thead>\n",
              "  <tbody>\n",
              "    <tr>\n",
              "      <th>0</th>\n",
              "      <td>0001.png</td>\n",
              "      <td>0</td>\n",
              "      <td>0</td>\n",
              "      <td>0</td>\n",
              "      <td>0</td>\n",
              "      <td>0</td>\n",
              "      <td>0</td>\n",
              "      <td>0</td>\n",
              "      <td>0</td>\n",
              "      <td>0</td>\n",
              "      <td>1</td>\n",
              "      <td>0</td>\n",
              "      <td>0</td>\n",
              "      <td>0</td>\n",
              "      <td>1</td>\n",
              "      <td>0</td>\n",
              "      <td>0</td>\n",
              "      <td>0</td>\n",
              "      <td>0</td>\n",
              "    </tr>\n",
              "    <tr>\n",
              "      <th>1</th>\n",
              "      <td>0002.png</td>\n",
              "      <td>0</td>\n",
              "      <td>0</td>\n",
              "      <td>0</td>\n",
              "      <td>0</td>\n",
              "      <td>0</td>\n",
              "      <td>0</td>\n",
              "      <td>0</td>\n",
              "      <td>0</td>\n",
              "      <td>0</td>\n",
              "      <td>1</td>\n",
              "      <td>0</td>\n",
              "      <td>0</td>\n",
              "      <td>0</td>\n",
              "      <td>1</td>\n",
              "      <td>0</td>\n",
              "      <td>0</td>\n",
              "      <td>0</td>\n",
              "      <td>0</td>\n",
              "    </tr>\n",
              "    <tr>\n",
              "      <th>2</th>\n",
              "      <td>0003.png</td>\n",
              "      <td>0</td>\n",
              "      <td>0</td>\n",
              "      <td>0</td>\n",
              "      <td>0</td>\n",
              "      <td>0</td>\n",
              "      <td>0</td>\n",
              "      <td>0</td>\n",
              "      <td>0</td>\n",
              "      <td>0</td>\n",
              "      <td>1</td>\n",
              "      <td>0</td>\n",
              "      <td>0</td>\n",
              "      <td>0</td>\n",
              "      <td>1</td>\n",
              "      <td>0</td>\n",
              "      <td>0</td>\n",
              "      <td>0</td>\n",
              "      <td>0</td>\n",
              "    </tr>\n",
              "    <tr>\n",
              "      <th>3</th>\n",
              "      <td>0004.png</td>\n",
              "      <td>0</td>\n",
              "      <td>0</td>\n",
              "      <td>0</td>\n",
              "      <td>0</td>\n",
              "      <td>0</td>\n",
              "      <td>0</td>\n",
              "      <td>1</td>\n",
              "      <td>0</td>\n",
              "      <td>0</td>\n",
              "      <td>0</td>\n",
              "      <td>0</td>\n",
              "      <td>0</td>\n",
              "      <td>0</td>\n",
              "      <td>0</td>\n",
              "      <td>0</td>\n",
              "      <td>0</td>\n",
              "      <td>0</td>\n",
              "      <td>0</td>\n",
              "    </tr>\n",
              "    <tr>\n",
              "      <th>4</th>\n",
              "      <td>0005.png</td>\n",
              "      <td>0</td>\n",
              "      <td>0</td>\n",
              "      <td>0</td>\n",
              "      <td>0</td>\n",
              "      <td>0</td>\n",
              "      <td>0</td>\n",
              "      <td>1</td>\n",
              "      <td>0</td>\n",
              "      <td>0</td>\n",
              "      <td>0</td>\n",
              "      <td>0</td>\n",
              "      <td>0</td>\n",
              "      <td>0</td>\n",
              "      <td>0</td>\n",
              "      <td>0</td>\n",
              "      <td>0</td>\n",
              "      <td>0</td>\n",
              "      <td>0</td>\n",
              "    </tr>\n",
              "  </tbody>\n",
              "</table>\n",
              "</div>"
            ],
            "text/plain": [
              "       file  type_Bug  type_Dark  ...  type_Rock  type_Steel  type_Water\n",
              "0  0001.png         0          0  ...          0           0           0\n",
              "1  0002.png         0          0  ...          0           0           0\n",
              "2  0003.png         0          0  ...          0           0           0\n",
              "3  0004.png         0          0  ...          0           0           0\n",
              "4  0005.png         0          0  ...          0           0           0\n",
              "\n",
              "[5 rows x 19 columns]"
            ]
          },
          "metadata": {
            "tags": []
          },
          "execution_count": 4
        }
      ]
    },
    {
      "cell_type": "code",
      "metadata": {
        "colab": {
          "base_uri": "https://localhost:8080/"
        },
        "id": "golden-edmonton",
        "outputId": "589339ae-ea9a-4222-bc01-cbbbf746c2c8"
      },
      "source": [
        "target_cols = df_train.drop(['file'], axis=1).columns.to_list()\n",
        "\n",
        "number_classes = len(target_cols)\n",
        "image_size = 200\n",
        "number_epochs = 20\n",
        "\n",
        "batch_size = 32\n",
        "\n",
        "target_cols"
      ],
      "id": "golden-edmonton",
      "execution_count": null,
      "outputs": [
        {
          "output_type": "execute_result",
          "data": {
            "text/plain": [
              "['type_Bug',\n",
              " 'type_Dark',\n",
              " 'type_Dragon',\n",
              " 'type_Electric',\n",
              " 'type_Fairy',\n",
              " 'type_Fighting',\n",
              " 'type_Fire',\n",
              " 'type_Flying',\n",
              " 'type_Ghost',\n",
              " 'type_Grass',\n",
              " 'type_Ground',\n",
              " 'type_Ice',\n",
              " 'type_Normal',\n",
              " 'type_Poison',\n",
              " 'type_Psychic',\n",
              " 'type_Rock',\n",
              " 'type_Steel',\n",
              " 'type_Water']"
            ]
          },
          "metadata": {
            "tags": []
          },
          "execution_count": 5
        }
      ]
    },
    {
      "cell_type": "code",
      "metadata": {
        "id": "persistent-daily"
      },
      "source": [
        "def build_decoder(with_labels=True, target_size=(image_size, image_size)):\n",
        "    def decode(path):\n",
        "        file_bytes = tf.io.read_file(path)\n",
        "\n",
        "        image = tf.image.decode_png(file_bytes, channels=3)\n",
        "        image = tf.cast(image, tf.float32) / 255.0\n",
        "        image = tf.image.resize(image, target_size)\n",
        "        \n",
        "        return image\n",
        "    \n",
        "    \n",
        "    def decode_with_labels(path, label):\n",
        "        return decode(path), label\n",
        "    \n",
        "    \n",
        "    return decode_with_labels if with_labels else decode"
      ],
      "id": "persistent-daily",
      "execution_count": null,
      "outputs": []
    },
    {
      "cell_type": "code",
      "metadata": {
        "id": "removed-midnight"
      },
      "source": [
        "def build_dataset(paths, labels=None, bsize=32, decode_function=None):\n",
        "    if decode_function is None:\n",
        "        decode_function = build_decoder(labels is not None)\n",
        "    \n",
        "    AUTO = tf.data.experimental.AUTOTUNE\n",
        "    slices = paths if labels is None else (paths, labels)\n",
        "    \n",
        "    dataset = tf.data.Dataset.from_tensor_slices(slices)  \n",
        "    dataset = dataset.map(decode_function, num_parallel_calls=AUTO)\n",
        "\n",
        "    dataset = dataset.batch(bsize).prefetch(AUTO) \n",
        "\n",
        "    return dataset"
      ],
      "id": "removed-midnight",
      "execution_count": null,
      "outputs": []
    },
    {
      "cell_type": "code",
      "metadata": {
        "colab": {
          "base_uri": "https://localhost:8080/"
        },
        "id": "compatible-wildlife",
        "outputId": "7a312fd1-770a-483c-d636-8aeba9c60561"
      },
      "source": [
        "load_dir = \"data/images/\"\n",
        "\n",
        "train_paths = load_dir + df_train['file']\n",
        "\n",
        "label_cols = df_train.columns[1:]\n",
        "labels = df_train[label_cols].values\n",
        "\n",
        "labels"
      ],
      "id": "compatible-wildlife",
      "execution_count": null,
      "outputs": [
        {
          "output_type": "execute_result",
          "data": {
            "text/plain": [
              "array([[0, 0, 0, ..., 0, 0, 0],\n",
              "       [0, 0, 0, ..., 0, 0, 0],\n",
              "       [0, 0, 0, ..., 0, 0, 0],\n",
              "       ...,\n",
              "       [0, 0, 0, ..., 0, 0, 0],\n",
              "       [0, 0, 0, ..., 0, 0, 0],\n",
              "       [0, 0, 0, ..., 0, 0, 0]])"
            ]
          },
          "metadata": {
            "tags": []
          },
          "execution_count": 8
        }
      ]
    },
    {
      "cell_type": "code",
      "metadata": {
        "id": "crucial-marsh"
      },
      "source": [
        "train_paths, valid_paths, train_labels, valid_labels = train_test_split(train_paths, labels, test_size=0.2, random_state=42)"
      ],
      "id": "crucial-marsh",
      "execution_count": null,
      "outputs": []
    },
    {
      "cell_type": "code",
      "metadata": {
        "id": "living-marriage"
      },
      "source": [
        "decoder = build_decoder(with_labels=True, target_size=(image_size, image_size))\n",
        "\n",
        "data_train = build_dataset(train_paths, train_labels, bsize=batch_size, decode_function=decoder)\n",
        "data_valid = build_dataset(valid_paths, valid_labels, bsize=batch_size, decode_function=decoder)"
      ],
      "id": "living-marriage",
      "execution_count": null,
      "outputs": []
    },
    {
      "cell_type": "code",
      "metadata": {
        "id": "complete-craps"
      },
      "source": [
        "net = EfficientNetB0(include_top=False, input_shape=(image_size, image_size, 3), weights='imagenet')\n",
        "\n",
        "output = net.output\n",
        "output = Dropout(0.75)(output)\n",
        "output = GlobalAveragePooling2D()(output)\n",
        "output = Dropout(0.75)(output)\n",
        "output = Dense(number_classes, activation='sigmoid')(output)\n",
        "\n",
        "model = Model(inputs=net.input, outputs=output)\n",
        "model.compile(Adam(lr=0.0005), loss='binary_crossentropy', metrics=[tf.keras.metrics.AUC(multi_label=True, name='auc')])"
      ],
      "id": "complete-craps",
      "execution_count": null,
      "outputs": []
    },
    {
      "cell_type": "code",
      "metadata": {
        "id": "AfzgfkOs8pC7"
      },
      "source": [
        "rlr = ReduceLROnPlateau(monitor='val_loss', factor=0.1, patience=2, verbose=1, min_delta = 1e-4, min_lr = 1e-6, mode = 'min')\r\n",
        "        \r\n",
        "ckp = ModelCheckpoint('model.h5', monitor='val_loss', verbose=1, save_best_only=True, mode='min')\r\n",
        "        \r\n",
        "es = EarlyStopping(monitor='val_loss', min_delta=1e-4, patience=5, mode='min', restore_best_weights=True, verbose=1)"
      ],
      "id": "AfzgfkOs8pC7",
      "execution_count": null,
      "outputs": []
    },
    {
      "cell_type": "code",
      "metadata": {
        "id": "general-executive",
        "colab": {
          "base_uri": "https://localhost:8080/"
        },
        "outputId": "5f97655f-b610-424a-9e0f-0641b2387d6f"
      },
      "source": [
        "history = model.fit(data_train,                      \n",
        "                    validation_data=data_valid,                                       \n",
        "                    epochs=number_epochs,\n",
        "                    callbacks=[rlr,es,ckp],\n",
        "                    shuffle=True,\n",
        "                    verbose=1)"
      ],
      "id": "general-executive",
      "execution_count": null,
      "outputs": [
        {
          "output_type": "stream",
          "text": [
            "Epoch 1/20\n",
            "211/211 [==============================] - 94s 401ms/step - loss: 0.4090 - auc: 0.5779 - val_loss: 0.2739 - val_auc: 0.5017\n",
            "\n",
            "Epoch 00001: val_loss improved from inf to 0.27386, saving model to model.h5\n",
            "Epoch 2/20\n",
            "211/211 [==============================] - 78s 368ms/step - loss: 0.1616 - auc: 0.8877 - val_loss: 0.2649 - val_auc: 0.6669\n",
            "\n",
            "Epoch 00002: val_loss improved from 0.27386 to 0.26492, saving model to model.h5\n",
            "Epoch 3/20\n",
            "211/211 [==============================] - 78s 368ms/step - loss: 0.0954 - auc: 0.9560 - val_loss: 0.2468 - val_auc: 0.8038\n",
            "\n",
            "Epoch 00003: val_loss improved from 0.26492 to 0.24683, saving model to model.h5\n",
            "Epoch 4/20\n",
            "211/211 [==============================] - 78s 368ms/step - loss: 0.0646 - auc: 0.9782 - val_loss: 0.3155 - val_auc: 0.6092\n",
            "\n",
            "Epoch 00004: val_loss did not improve from 0.24683\n",
            "Epoch 5/20\n",
            "211/211 [==============================] - 78s 370ms/step - loss: 0.0478 - auc: 0.9845 - val_loss: 0.2885 - val_auc: 0.6939\n",
            "\n",
            "Epoch 00005: ReduceLROnPlateau reducing learning rate to 5.0000002374872565e-05.\n",
            "\n",
            "Epoch 00005: val_loss did not improve from 0.24683\n",
            "Epoch 6/20\n",
            "211/211 [==============================] - 78s 370ms/step - loss: 0.0365 - auc: 0.9897 - val_loss: 0.0853 - val_auc: 0.9600\n",
            "\n",
            "Epoch 00006: val_loss improved from 0.24683 to 0.08534, saving model to model.h5\n",
            "Epoch 7/20\n",
            "211/211 [==============================] - 78s 367ms/step - loss: 0.0287 - auc: 0.9946 - val_loss: 0.0638 - val_auc: 0.9725\n",
            "\n",
            "Epoch 00007: val_loss improved from 0.08534 to 0.06376, saving model to model.h5\n",
            "Epoch 8/20\n",
            "211/211 [==============================] - 79s 371ms/step - loss: 0.0256 - auc: 0.9952 - val_loss: 0.0627 - val_auc: 0.9753\n",
            "\n",
            "Epoch 00008: val_loss improved from 0.06376 to 0.06271, saving model to model.h5\n",
            "Epoch 9/20\n",
            "211/211 [==============================] - 78s 369ms/step - loss: 0.0226 - auc: 0.9962 - val_loss: 0.0748 - val_auc: 0.9632\n",
            "\n",
            "Epoch 00009: val_loss did not improve from 0.06271\n",
            "Epoch 10/20\n",
            "211/211 [==============================] - 78s 370ms/step - loss: 0.0210 - auc: 0.9967 - val_loss: 0.0739 - val_auc: 0.9631\n",
            "\n",
            "Epoch 00010: ReduceLROnPlateau reducing learning rate to 5.000000237487257e-06.\n",
            "\n",
            "Epoch 00010: val_loss did not improve from 0.06271\n",
            "Epoch 11/20\n",
            "211/211 [==============================] - 78s 369ms/step - loss: 0.0189 - auc: 0.9960 - val_loss: 0.0582 - val_auc: 0.9769\n",
            "\n",
            "Epoch 00011: val_loss improved from 0.06271 to 0.05821, saving model to model.h5\n",
            "Epoch 12/20\n",
            "211/211 [==============================] - 78s 370ms/step - loss: 0.0188 - auc: 0.9976 - val_loss: 0.0583 - val_auc: 0.9776\n",
            "\n",
            "Epoch 00012: val_loss did not improve from 0.05821\n",
            "Epoch 13/20\n",
            "211/211 [==============================] - 78s 367ms/step - loss: 0.0185 - auc: 0.9971 - val_loss: 0.0605 - val_auc: 0.9755\n",
            "\n",
            "Epoch 00013: ReduceLROnPlateau reducing learning rate to 1e-06.\n",
            "\n",
            "Epoch 00013: val_loss did not improve from 0.05821\n",
            "Epoch 14/20\n",
            "211/211 [==============================] - 78s 370ms/step - loss: 0.0181 - auc: 0.9943 - val_loss: 0.0583 - val_auc: 0.9768\n",
            "\n",
            "Epoch 00014: val_loss did not improve from 0.05821\n",
            "Epoch 15/20\n",
            "211/211 [==============================] - 78s 371ms/step - loss: 0.0184 - auc: 0.9975 - val_loss: 0.0582 - val_auc: 0.9769\n",
            "\n",
            "Epoch 00015: val_loss improved from 0.05821 to 0.05820, saving model to model.h5\n",
            "Epoch 16/20\n",
            "211/211 [==============================] - 78s 371ms/step - loss: 0.0178 - auc: 0.9969 - val_loss: 0.0583 - val_auc: 0.9769\n",
            "Restoring model weights from the end of the best epoch.\n",
            "\n",
            "Epoch 00016: val_loss did not improve from 0.05820\n",
            "Epoch 00016: early stopping\n"
          ],
          "name": "stdout"
        }
      ]
    },
    {
      "cell_type": "code",
      "metadata": {
        "id": "unique-campaign",
        "colab": {
          "base_uri": "https://localhost:8080/",
          "height": 705
        },
        "outputId": "f63f1aaa-c62b-4e85-b188-166f3fedfd4e"
      },
      "source": [
        "plt.rcParams.update({'font.size': 16})\n",
        "hist = pd.DataFrame(history.history)\n",
        "fig, (ax1, ax2) = plt.subplots(figsize=(12,12),nrows=2, ncols=1)\n",
        "\n",
        "hist['loss'].plot(ax=ax1, c='k', label='training loss')\n",
        "hist['val_loss'].plot(ax=ax1, c='r', label='validation loss')\n",
        "ax1.legend()\n",
        "\n",
        "hist['auc'].plot(ax=ax2, c='k', label='training AUC')\n",
        "hist['val_auc'].plot(ax=ax2, c='r', label='validation AUC')\n",
        "ax2.legend()\n",
        "\n",
        "plt.show()"
      ],
      "id": "unique-campaign",
      "execution_count": null,
      "outputs": [
        {
          "output_type": "display_data",
          "data": {
            "image/png": "[encoded data removed]",
            "text/plain": [
              "<Figure size 864x864 with 2 Axes>"
            ]
          },
          "metadata": {
            "tags": [],
            "needs_background": "light"
          }
        }
      ]
    },
    {
      "cell_type": "code",
      "metadata": {
        "id": "obBvV9Y5tj4P"
      },
      "source": [
        ""
      ],
      "id": "obBvV9Y5tj4P",
      "execution_count": null,
      "outputs": []
    }
  ]
}