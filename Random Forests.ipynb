{
 "cells": [
  {
   "cell_type": "markdown",
   "id": "conditional-diploma",
   "metadata": {},
   "source": [
    "## Random Forests\n",
    "In this notebook, we use sklearn.ensemble.RandomForestClassifier to predict the status (legendary, sub-legendary, mythical, normal) of pokemon based on their stats."
   ]
  },
  {
   "cell_type": "code",
   "execution_count": 1,
   "id": "thick-annex",
   "metadata": {},
   "outputs": [],
   "source": [
    "import pandas as pd\n",
    "import numpy as np\n",
    "import matplotlib.pyplot as plt\n",
    "import seaborn as sns\n",
    "\n",
    "from sklearn.ensemble import RandomForestClassifier\n",
    "from sklearn.model_selection import train_test_split"
   ]
  },
  {
   "cell_type": "markdown",
   "id": "invalid-preference",
   "metadata": {},
   "source": [
    "### 0. Data Prep"
   ]
  },
  {
   "cell_type": "code",
   "execution_count": 2,
   "id": "eleven-canyon",
   "metadata": {},
   "outputs": [],
   "source": [
    "df = pd.read_csv(\"./data/pokedex_enc.csv\", index_col=0)"
   ]
  },
  {
   "cell_type": "code",
   "execution_count": 3,
   "id": "protecting-scott",
   "metadata": {},
   "outputs": [
    {
     "data": {
      "text/html": [
       "<div>\n",
       "<style scoped>\n",
       "    .dataframe tbody tr th:only-of-type {\n",
       "        vertical-align: middle;\n",
       "    }\n",
       "\n",
       "    .dataframe tbody tr th {\n",
       "        vertical-align: top;\n",
       "    }\n",
       "\n",
       "    .dataframe thead th {\n",
       "        text-align: right;\n",
       "    }\n",
       "</style>\n",
       "<table border=\"1\" class=\"dataframe\">\n",
       "  <thead>\n",
       "    <tr style=\"text-align: right;\">\n",
       "      <th></th>\n",
       "      <th>status_Legendary</th>\n",
       "      <th>status_Mythical</th>\n",
       "      <th>status_Normal</th>\n",
       "      <th>status_Sub Legendary</th>\n",
       "    </tr>\n",
       "  </thead>\n",
       "  <tbody>\n",
       "    <tr>\n",
       "      <th>0</th>\n",
       "      <td>0.0</td>\n",
       "      <td>0.0</td>\n",
       "      <td>1.0</td>\n",
       "      <td>0.0</td>\n",
       "    </tr>\n",
       "    <tr>\n",
       "      <th>1</th>\n",
       "      <td>0.0</td>\n",
       "      <td>0.0</td>\n",
       "      <td>1.0</td>\n",
       "      <td>0.0</td>\n",
       "    </tr>\n",
       "    <tr>\n",
       "      <th>2</th>\n",
       "      <td>0.0</td>\n",
       "      <td>0.0</td>\n",
       "      <td>1.0</td>\n",
       "      <td>0.0</td>\n",
       "    </tr>\n",
       "    <tr>\n",
       "      <th>3</th>\n",
       "      <td>0.0</td>\n",
       "      <td>0.0</td>\n",
       "      <td>1.0</td>\n",
       "      <td>0.0</td>\n",
       "    </tr>\n",
       "    <tr>\n",
       "      <th>4</th>\n",
       "      <td>0.0</td>\n",
       "      <td>0.0</td>\n",
       "      <td>1.0</td>\n",
       "      <td>0.0</td>\n",
       "    </tr>\n",
       "  </tbody>\n",
       "</table>\n",
       "</div>"
      ],
      "text/plain": [
       "   status_Legendary  status_Mythical  status_Normal  status_Sub Legendary\n",
       "0               0.0              0.0            1.0                   0.0\n",
       "1               0.0              0.0            1.0                   0.0\n",
       "2               0.0              0.0            1.0                   0.0\n",
       "3               0.0              0.0            1.0                   0.0\n",
       "4               0.0              0.0            1.0                   0.0"
      ]
     },
     "metadata": {},
     "output_type": "display_data"
    },
    {
     "data": {
      "text/html": [
       "<div>\n",
       "<style scoped>\n",
       "    .dataframe tbody tr th:only-of-type {\n",
       "        vertical-align: middle;\n",
       "    }\n",
       "\n",
       "    .dataframe tbody tr th {\n",
       "        vertical-align: top;\n",
       "    }\n",
       "\n",
       "    .dataframe thead th {\n",
       "        text-align: right;\n",
       "    }\n",
       "</style>\n",
       "<table border=\"1\" class=\"dataframe\">\n",
       "  <thead>\n",
       "    <tr style=\"text-align: right;\">\n",
       "      <th></th>\n",
       "      <th>generation</th>\n",
       "      <th>type_number</th>\n",
       "      <th>height_m</th>\n",
       "      <th>weight_kg</th>\n",
       "      <th>abilities_number</th>\n",
       "      <th>total_points</th>\n",
       "      <th>hp</th>\n",
       "      <th>attack</th>\n",
       "      <th>defense</th>\n",
       "      <th>sp_attack</th>\n",
       "      <th>...</th>\n",
       "      <th>species_Wish Pokémon</th>\n",
       "      <th>species_Wolf Pokémon</th>\n",
       "      <th>species_Wood Gecko Pokémon</th>\n",
       "      <th>species_Woodpecker Pokémon</th>\n",
       "      <th>species_Wool Pokémon</th>\n",
       "      <th>species_Woolly Crab Pokémon</th>\n",
       "      <th>species_Worm Pokémon</th>\n",
       "      <th>species_Wrestling Pokémon</th>\n",
       "      <th>species_Young Fowl Pokémon</th>\n",
       "      <th>species_Zen Charm Pokémon</th>\n",
       "    </tr>\n",
       "  </thead>\n",
       "  <tbody>\n",
       "    <tr>\n",
       "      <th>0</th>\n",
       "      <td>1</td>\n",
       "      <td>2</td>\n",
       "      <td>0.7</td>\n",
       "      <td>6.9</td>\n",
       "      <td>2</td>\n",
       "      <td>318.0</td>\n",
       "      <td>45.0</td>\n",
       "      <td>49.0</td>\n",
       "      <td>49.0</td>\n",
       "      <td>65.0</td>\n",
       "      <td>...</td>\n",
       "      <td>0.0</td>\n",
       "      <td>0.0</td>\n",
       "      <td>0.0</td>\n",
       "      <td>0.0</td>\n",
       "      <td>0.0</td>\n",
       "      <td>0.0</td>\n",
       "      <td>0.0</td>\n",
       "      <td>0.0</td>\n",
       "      <td>0.0</td>\n",
       "      <td>0.0</td>\n",
       "    </tr>\n",
       "    <tr>\n",
       "      <th>1</th>\n",
       "      <td>1</td>\n",
       "      <td>2</td>\n",
       "      <td>1.0</td>\n",
       "      <td>13.0</td>\n",
       "      <td>2</td>\n",
       "      <td>405.0</td>\n",
       "      <td>60.0</td>\n",
       "      <td>62.0</td>\n",
       "      <td>63.0</td>\n",
       "      <td>80.0</td>\n",
       "      <td>...</td>\n",
       "      <td>0.0</td>\n",
       "      <td>0.0</td>\n",
       "      <td>0.0</td>\n",
       "      <td>0.0</td>\n",
       "      <td>0.0</td>\n",
       "      <td>0.0</td>\n",
       "      <td>0.0</td>\n",
       "      <td>0.0</td>\n",
       "      <td>0.0</td>\n",
       "      <td>0.0</td>\n",
       "    </tr>\n",
       "    <tr>\n",
       "      <th>2</th>\n",
       "      <td>1</td>\n",
       "      <td>2</td>\n",
       "      <td>2.0</td>\n",
       "      <td>100.0</td>\n",
       "      <td>2</td>\n",
       "      <td>525.0</td>\n",
       "      <td>80.0</td>\n",
       "      <td>82.0</td>\n",
       "      <td>83.0</td>\n",
       "      <td>100.0</td>\n",
       "      <td>...</td>\n",
       "      <td>0.0</td>\n",
       "      <td>0.0</td>\n",
       "      <td>0.0</td>\n",
       "      <td>0.0</td>\n",
       "      <td>0.0</td>\n",
       "      <td>0.0</td>\n",
       "      <td>0.0</td>\n",
       "      <td>0.0</td>\n",
       "      <td>0.0</td>\n",
       "      <td>0.0</td>\n",
       "    </tr>\n",
       "    <tr>\n",
       "      <th>3</th>\n",
       "      <td>1</td>\n",
       "      <td>2</td>\n",
       "      <td>2.4</td>\n",
       "      <td>155.5</td>\n",
       "      <td>1</td>\n",
       "      <td>625.0</td>\n",
       "      <td>80.0</td>\n",
       "      <td>100.0</td>\n",
       "      <td>123.0</td>\n",
       "      <td>122.0</td>\n",
       "      <td>...</td>\n",
       "      <td>0.0</td>\n",
       "      <td>0.0</td>\n",
       "      <td>0.0</td>\n",
       "      <td>0.0</td>\n",
       "      <td>0.0</td>\n",
       "      <td>0.0</td>\n",
       "      <td>0.0</td>\n",
       "      <td>0.0</td>\n",
       "      <td>0.0</td>\n",
       "      <td>0.0</td>\n",
       "    </tr>\n",
       "    <tr>\n",
       "      <th>4</th>\n",
       "      <td>1</td>\n",
       "      <td>1</td>\n",
       "      <td>0.6</td>\n",
       "      <td>8.5</td>\n",
       "      <td>2</td>\n",
       "      <td>309.0</td>\n",
       "      <td>39.0</td>\n",
       "      <td>52.0</td>\n",
       "      <td>43.0</td>\n",
       "      <td>60.0</td>\n",
       "      <td>...</td>\n",
       "      <td>0.0</td>\n",
       "      <td>0.0</td>\n",
       "      <td>0.0</td>\n",
       "      <td>0.0</td>\n",
       "      <td>0.0</td>\n",
       "      <td>0.0</td>\n",
       "      <td>0.0</td>\n",
       "      <td>0.0</td>\n",
       "      <td>0.0</td>\n",
       "      <td>0.0</td>\n",
       "    </tr>\n",
       "  </tbody>\n",
       "</table>\n",
       "<p>5 rows × 970 columns</p>\n",
       "</div>"
      ],
      "text/plain": [
       "   generation  type_number  height_m  weight_kg  abilities_number  \\\n",
       "0           1            2       0.7        6.9                 2   \n",
       "1           1            2       1.0       13.0                 2   \n",
       "2           1            2       2.0      100.0                 2   \n",
       "3           1            2       2.4      155.5                 1   \n",
       "4           1            1       0.6        8.5                 2   \n",
       "\n",
       "   total_points    hp  attack  defense  sp_attack  ...  species_Wish Pokémon  \\\n",
       "0         318.0  45.0    49.0     49.0       65.0  ...                   0.0   \n",
       "1         405.0  60.0    62.0     63.0       80.0  ...                   0.0   \n",
       "2         525.0  80.0    82.0     83.0      100.0  ...                   0.0   \n",
       "3         625.0  80.0   100.0    123.0      122.0  ...                   0.0   \n",
       "4         309.0  39.0    52.0     43.0       60.0  ...                   0.0   \n",
       "\n",
       "   species_Wolf Pokémon  species_Wood Gecko Pokémon  \\\n",
       "0                   0.0                         0.0   \n",
       "1                   0.0                         0.0   \n",
       "2                   0.0                         0.0   \n",
       "3                   0.0                         0.0   \n",
       "4                   0.0                         0.0   \n",
       "\n",
       "   species_Woodpecker Pokémon  species_Wool Pokémon  \\\n",
       "0                         0.0                   0.0   \n",
       "1                         0.0                   0.0   \n",
       "2                         0.0                   0.0   \n",
       "3                         0.0                   0.0   \n",
       "4                         0.0                   0.0   \n",
       "\n",
       "   species_Woolly Crab Pokémon  species_Worm Pokémon  \\\n",
       "0                          0.0                   0.0   \n",
       "1                          0.0                   0.0   \n",
       "2                          0.0                   0.0   \n",
       "3                          0.0                   0.0   \n",
       "4                          0.0                   0.0   \n",
       "\n",
       "   species_Wrestling Pokémon  species_Young Fowl Pokémon  \\\n",
       "0                        0.0                         0.0   \n",
       "1                        0.0                         0.0   \n",
       "2                        0.0                         0.0   \n",
       "3                        0.0                         0.0   \n",
       "4                        0.0                         0.0   \n",
       "\n",
       "   species_Zen Charm Pokémon  \n",
       "0                        0.0  \n",
       "1                        0.0  \n",
       "2                        0.0  \n",
       "3                        0.0  \n",
       "4                        0.0  \n",
       "\n",
       "[5 rows x 970 columns]"
      ]
     },
     "metadata": {},
     "output_type": "display_data"
    }
   ],
   "source": [
    "ycols = [c for c in df.columns if \"status_\" in c]\n",
    "y = df.loc[:, ycols]\n",
    "x = df.drop(ycols + [\"pokedex_number\", \"name\"], axis=1)\n",
    "display(y.head())\n",
    "display(x.head())"
   ]
  },
  {
   "cell_type": "code",
   "execution_count": 4,
   "id": "armed-vision",
   "metadata": {},
   "outputs": [],
   "source": [
    "x_train, x_test, y_train, y_test = train_test_split(x, y, test_size=0.3, stratify=y, shuffle=True)\n",
    "x_valid, x_test, y_valid, y_test = train_test_split(x_test, y_test, test_size=0.5, stratify=y_test, shuffle=True)"
   ]
  },
  {
   "cell_type": "markdown",
   "id": "aboriginal-vatican",
   "metadata": {},
   "source": [
    "### 1. Base Model\n",
    "\n",
    "In this section we create a simple preliminary model to establish a quick baseline."
   ]
  },
  {
   "cell_type": "code",
   "execution_count": 5,
   "id": "statewide-wrist",
   "metadata": {},
   "outputs": [
    {
     "name": "stdout",
     "output_type": "stream",
     "text": [
      "Wall time: 148 ms\n"
     ]
    },
    {
     "data": {
      "text/plain": [
       "RandomForestClassifier()"
      ]
     },
     "execution_count": 5,
     "metadata": {},
     "output_type": "execute_result"
    }
   ],
   "source": [
    "%%time\n",
    "clf_base = RandomForestClassifier()\n",
    "clf_base.fit(x_train, y_train)"
   ]
  },
  {
   "cell_type": "code",
   "execution_count": 6,
   "id": "regional-greensboro",
   "metadata": {},
   "outputs": [],
   "source": [
    "from sklearn.metrics import classification_report, accuracy_score, confusion_matrix, roc_auc_score, f1_score"
   ]
  },
  {
   "cell_type": "code",
   "execution_count": 7,
   "id": "indoor-mountain",
   "metadata": {},
   "outputs": [],
   "source": [
    "def getAccuracy(y_true, y_pred, names, verbose=True):\n",
    "    confusion = confusion_matrix(y_true.values.argmax(axis=1), y_pred.argmax(axis=1))\n",
    "    accuracy = accuracy_score(y_true, y_pred)\n",
    "    roc = roc_auc_score(y_true, y_pred)\n",
    "    f1_w = f1_score(y_true, y_pred, average='weighted')\n",
    "    f1_u = f1_score(y_true, y_pred, average='macro')\n",
    "    if verbose:\n",
    "        print(ycols)\n",
    "        print(confusion_matrix(y_true.values.argmax(axis=1), y_pred.argmax(axis=1)))\n",
    "        print(f\"accuracy:\\t\\t{accuracy}\\nroc:\\t\\t\\t{roc}\\nf1 (weighted):\\t\\t{f1_w}\\nf1 (unweighted):\\t{f1_u}\")\n",
    "    return {\"accuracy\": accuracy, \"roc\": roc, \"f1_w\": f1_w, \"f1_u\": f1_u, \"confusion\": confusion}"
   ]
  },
  {
   "cell_type": "code",
   "execution_count": 8,
   "id": "regular-occupation",
   "metadata": {},
   "outputs": [
    {
     "name": "stdout",
     "output_type": "stream",
     "text": [
      "['status_Legendary', 'status_Mythical', 'status_Normal', 'status_Sub Legendary']\n",
      "[[  6   0   0   0]\n",
      " [  4   1   0   0]\n",
      " [  0   0 137   0]\n",
      " [  3   0   0   3]]\n",
      "accuracy:\t\t0.948051948051948\n",
      "roc:\t\t\t0.8166666666666667\n",
      "f1 (weighted):\t\t0.9618260527351437\n",
      "f1 (unweighted):\t0.7272727272727272\n"
     ]
    }
   ],
   "source": [
    "y_pred = clf_base.predict(x_valid)\n",
    "base_acc = getAccuracy(y_valid, y_pred, ycols)"
   ]
  },
  {
   "cell_type": "markdown",
   "id": "hidden-liechtenstein",
   "metadata": {},
   "source": [
    "### 2. Hyperparameter Tuning\n",
    "\n",
    "This section will investigate notable hyperparameters to find optimal settings. Unfortunately due to a relatively small dataset, evaluations will vary from run to run. Hyperparameters are picked based on data from multiple runthroughs of the notebook, as well as best judgement to avoid overfitting. "
   ]
  },
  {
   "cell_type": "markdown",
   "id": "spatial-kelly",
   "metadata": {},
   "source": [
    "#### n_estimators"
   ]
  },
  {
   "cell_type": "code",
   "execution_count": 9,
   "id": "deluxe-phrase",
   "metadata": {},
   "outputs": [
    {
     "data": {
      "text/plain": [
       "[<matplotlib.lines.Line2D at 0x2456fb9ed30>]"
      ]
     },
     "execution_count": 9,
     "metadata": {},
     "output_type": "execute_result"
    },
    {
     "data": {
      "image/png": "[encoded data removed]",
      "text/plain": [
       "<Figure size 432x288 with 1 Axes>"
      ]
     },
     "metadata": {
      "needs_background": "light"
     },
     "output_type": "display_data"
    }
   ],
   "source": [
    "res = []\n",
    "params = [10, 20, 50, 100, 150, 200]\n",
    "for n_est in params:\n",
    "    clf = RandomForestClassifier(n_estimators=n_est)\n",
    "    clf.fit(x_train, y_train)\n",
    "    y_pred = clf.predict(x_valid)\n",
    "    res.append(getAccuracy(y_valid, y_pred, ycols, verbose=False))\n",
    "    \n",
    "plt.plot(params, [x[\"roc\"] for x in res])"
   ]
  },
  {
   "cell_type": "markdown",
   "id": "fitted-basketball",
   "metadata": {},
   "source": [
    "#### max_depth"
   ]
  },
  {
   "cell_type": "code",
   "execution_count": 10,
   "id": "external-norwegian",
   "metadata": {},
   "outputs": [
    {
     "data": {
      "text/plain": [
       "[<matplotlib.lines.Line2D at 0x2457065eb80>]"
      ]
     },
     "execution_count": 10,
     "metadata": {},
     "output_type": "execute_result"
    },
    {
     "data": {
      "image/png": "[encoded data removed]",
      "text/plain": [
       "<Figure size 432x288 with 1 Axes>"
      ]
     },
     "metadata": {
      "needs_background": "light"
     },
     "output_type": "display_data"
    }
   ],
   "source": [
    "res = []\n",
    "params = [5, 10, 15, 20, 25, None]\n",
    "for max_depth in params:\n",
    "    clf = RandomForestClassifier(max_depth=max_depth)\n",
    "    clf.fit(x_train, y_train)\n",
    "    y_pred = clf.predict(x_valid)\n",
    "    res.append(getAccuracy(y_valid, y_pred, ycols, verbose=False))\n",
    "    \n",
    "plt.plot(params, [x[\"roc\"] for x in res])"
   ]
  },
  {
   "cell_type": "markdown",
   "id": "differential-myanmar",
   "metadata": {},
   "source": [
    "#### min_samples_leaf"
   ]
  },
  {
   "cell_type": "code",
   "execution_count": 11,
   "id": "regulation-triple",
   "metadata": {},
   "outputs": [
    {
     "data": {
      "text/plain": [
       "[<matplotlib.lines.Line2D at 0x245706cb2b0>]"
      ]
     },
     "execution_count": 11,
     "metadata": {},
     "output_type": "execute_result"
    },
    {
     "data": {
      "image/png": "[encoded data removed]",
      "text/plain": [
       "<Figure size 432x288 with 1 Axes>"
      ]
     },
     "metadata": {
      "needs_background": "light"
     },
     "output_type": "display_data"
    }
   ],
   "source": [
    "res = []\n",
    "params = [1, 2, 3, 5, 10, 15, 20]\n",
    "for min_leaf in params:\n",
    "    clf = RandomForestClassifier(min_samples_leaf=min_leaf)\n",
    "    clf.fit(x_train, y_train)\n",
    "    y_pred = clf.predict(x_valid)\n",
    "    res.append(getAccuracy(y_valid, y_pred, ycols, verbose=False))\n",
    "    \n",
    "plt.plot(params, [x[\"roc\"] for x in res])"
   ]
  },
  {
   "cell_type": "markdown",
   "id": "concerned-final",
   "metadata": {},
   "source": [
    "#### max_features"
   ]
  },
  {
   "cell_type": "code",
   "execution_count": 12,
   "id": "junior-architecture",
   "metadata": {},
   "outputs": [
    {
     "data": {
      "text/plain": [
       "[<matplotlib.lines.Line2D at 0x245730787f0>]"
      ]
     },
     "execution_count": 12,
     "metadata": {},
     "output_type": "execute_result"
    },
    {
     "data": {
      "image/png": "[encoded data removed]",
      "text/plain": [
       "<Figure size 432x288 with 1 Axes>"
      ]
     },
     "metadata": {
      "needs_background": "light"
     },
     "output_type": "display_data"
    }
   ],
   "source": [
    "res = []\n",
    "params = [\"auto\", \"log2\", 0.1, 0.25, 0.5, 0.75]\n",
    "for max_feat in params:\n",
    "    clf = RandomForestClassifier(max_features=max_feat)\n",
    "    clf.fit(x_train, y_train)\n",
    "    y_pred = clf.predict(x_valid)\n",
    "    res.append(getAccuracy(y_valid, y_pred, ycols, verbose=False))\n",
    "    \n",
    "plt.plot(params, [x[\"roc\"] for x in res])"
   ]
  },
  {
   "cell_type": "markdown",
   "id": "heavy-membrane",
   "metadata": {},
   "source": [
    "### 3. Augmented Model\n",
    "\n",
    "Here we improve the base model by using the tuned hyperparameters and compare accuracy on the validation set."
   ]
  },
  {
   "cell_type": "code",
   "execution_count": 13,
   "id": "entire-success",
   "metadata": {},
   "outputs": [
    {
     "name": "stdout",
     "output_type": "stream",
     "text": [
      "{'accuracy': 0.9675324675324676, 'roc': 0.8849662162162162, 'f1_w': 0.9724025974025974, 'f1_u': 0.8124999999999999, 'confusion': array([[  5,   0,   0,   1],\n",
      "       [  1,   3,   0,   1],\n",
      "       [  0,   0, 137,   0],\n",
      "       [  2,   0,   0,   4]], dtype=int64)}\n",
      "{'accuracy': 0.948051948051948, 'roc': 0.8166666666666667, 'f1_w': 0.9618260527351437, 'f1_u': 0.7272727272727272, 'confusion': array([[  6,   0,   0,   0],\n",
      "       [  4,   1,   0,   0],\n",
      "       [  0,   0, 137,   0],\n",
      "       [  3,   0,   0,   3]], dtype=int64)}\n"
     ]
    }
   ],
   "source": [
    "clf_aug = RandomForestClassifier(n_estimators=150, max_depth=15, max_features=0.5)\n",
    "clf_aug.fit(x_train, y_train)\n",
    "y_pred = clf_aug.predict(x_valid)\n",
    "aug_acc = getAccuracy(y_valid, y_pred, ycols, verbose=False)\n",
    "print(f\"{aug_acc}\\n{base_acc}\")"
   ]
  },
  {
   "cell_type": "markdown",
   "id": "resident-contrary",
   "metadata": {},
   "source": [
    "### 4. Feature Selection\n",
    "\n",
    "We have a very large amount of features available to the model. We use feature importance to select the most relevant features from our input data to reduce complexity, noise, and overfitting in our model."
   ]
  },
  {
   "cell_type": "code",
   "execution_count": 14,
   "id": "harmful-hydrogen",
   "metadata": {},
   "outputs": [
    {
     "data": {
      "text/plain": [
       "<AxesSubplot:xlabel='feature'>"
      ]
     },
     "execution_count": 14,
     "metadata": {},
     "output_type": "execute_result"
    },
    {
     "data": {
      "image/png": "[encoded data removed]",
      "text/plain": [
       "<Figure size 432x216 with 1 Axes>"
      ]
     },
     "metadata": {
      "needs_background": "light"
     },
     "output_type": "display_data"
    }
   ],
   "source": [
    "base_importances = pd.DataFrame({\"feature\": x_train.columns, \"importance\": clf_base.feature_importances_})\n",
    "base_importances.sort_values(by=[\"importance\"], ascending=False).plot(\"feature\", \"importance\", figsize=(6, 3))"
   ]
  },
  {
   "cell_type": "code",
   "execution_count": 15,
   "id": "hidden-margin",
   "metadata": {},
   "outputs": [
    {
     "name": "stdout",
     "output_type": "stream",
     "text": [
      "                         feature  importance\n",
      "18                    egg_cycles    0.120097\n",
      "14               base_experience    0.067304\n",
      "12                    catch_rate    0.061528\n",
      "17               percentage_male    0.059940\n",
      "325        egg_type_Undiscovered    0.053129\n",
      "2                       height_m    0.042874\n",
      "13               base_friendship    0.042138\n",
      "5                   total_points    0.040127\n",
      "15                   growth_rate    0.036634\n",
      "3                      weight_kg    0.030840\n",
      "6                             hp    0.027623\n",
      "9                      sp_attack    0.024341\n",
      "7                         attack    0.020385\n",
      "10                    sp_defense    0.019475\n",
      "11                         speed    0.019329\n",
      "8                        defense    0.017910\n",
      "4               abilities_number    0.015932\n",
      "0                     generation    0.012244\n",
      "27                against_ground    0.009648\n",
      "70           ability_Beast Boost    0.009545\n",
      "24                   against_ice    0.008173\n",
      "25                 against_fight    0.007761\n",
      "30                   against_bug    0.007720\n",
      "32                 against_ghost    0.007108\n",
      "22              against_electric    0.006759\n",
      "29               against_psychic    0.006284\n",
      "23                 against_grass    0.006089\n",
      "208             ability_Pressure    0.005518\n",
      "26                against_poison    0.005510\n",
      "638  species_Land Spirit Pokémon    0.005501\n",
      "33                against_dragon    0.005341\n",
      "39                   type_Dragon    0.005250\n",
      "31                  against_rock    0.004999\n",
      "20                  against_fire    0.004814\n",
      "28                against_flying    0.004774\n",
      "34                  against_dark    0.004723\n",
      "516          species_Eon Pokémon    0.004600\n",
      "394  species_Bolt Strike Pokémon    0.004098\n",
      "35                 against_steel    0.004075\n",
      "748        species_Prism Pokémon    0.004016\n",
      "36                 against_fairy    0.003958\n",
      "715        species_Order Pokémon    0.003820\n",
      "16               egg_type_number    0.003803\n",
      "21                 against_water    0.003787\n",
      "1                    type_number    0.003144\n",
      "683       species_Melody Pokémon    0.002839\n",
      "51                  type_Psychic    0.002801\n",
      "937      species_Warrior Pokémon    0.002610\n",
      "239         ability_Serene Grace    0.002510\n",
      "324                egg_type_None    0.002497\n"
     ]
    }
   ],
   "source": [
    "print(base_importances.sort_values(by=[\"importance\"], ascending=False).iloc[:50, :])"
   ]
  },
  {
   "cell_type": "code",
   "execution_count": 16,
   "id": "bound-wrapping",
   "metadata": {},
   "outputs": [
    {
     "data": {
      "text/plain": [
       "[<matplotlib.lines.Line2D at 0x245741b3a60>]"
      ]
     },
     "execution_count": 16,
     "metadata": {},
     "output_type": "execute_result"
    },
    {
     "data": {
      "image/png": "[encoded data removed]",
      "text/plain": [
       "<Figure size 432x288 with 1 Axes>"
      ]
     },
     "metadata": {
      "needs_background": "light"
     },
     "output_type": "display_data"
    }
   ],
   "source": [
    "res = []\n",
    "params = [1e-5, 1e-4, 0.001, 0.002, 0.003, 0.005, 0.01, 0.02, 0.03, 0.04]\n",
    "for cutoff in params:\n",
    "    trimmed_x_train = x_train.drop(base_importances[base_importances[\"importance\"] < cutoff][\"feature\"], axis=1)\n",
    "    trimmed_x_valid = x_valid.drop(base_importances[base_importances[\"importance\"] < cutoff][\"feature\"], axis=1)\n",
    "    clf = RandomForestClassifier(n_estimators=150, max_depth=15)\n",
    "    clf.fit(trimmed_x_train, y_train)\n",
    "    y_pred = clf.predict(trimmed_x_valid)\n",
    "    res.append(getAccuracy(y_valid, y_pred, ycols, verbose=False))\n",
    "    \n",
    "plt.plot(params, [x[\"roc\"] for x in res])"
   ]
  },
  {
   "cell_type": "code",
   "execution_count": 17,
   "id": "brutal-choir",
   "metadata": {},
   "outputs": [
    {
     "name": "stdout",
     "output_type": "stream",
     "text": [
      "{'accuracy': 0.9675324675324676, 'roc': 0.8816441441441442, 'f1_w': 0.9730983302411874, 'f1_u': 0.8095238095238096, 'confusion': array([[  5,   0,   0,   1],\n",
      "       [  3,   2,   0,   0],\n",
      "       [  0,   0, 137,   0],\n",
      "       [  1,   0,   0,   5]], dtype=int64)}\n",
      "{'accuracy': 0.9675324675324676, 'roc': 0.8849662162162162, 'f1_w': 0.9724025974025974, 'f1_u': 0.8124999999999999, 'confusion': array([[  5,   0,   0,   1],\n",
      "       [  1,   3,   0,   1],\n",
      "       [  0,   0, 137,   0],\n",
      "       [  2,   0,   0,   4]], dtype=int64)}\n",
      "{'accuracy': 0.948051948051948, 'roc': 0.8166666666666667, 'f1_w': 0.9618260527351437, 'f1_u': 0.7272727272727272, 'confusion': array([[  6,   0,   0,   0],\n",
      "       [  4,   1,   0,   0],\n",
      "       [  0,   0, 137,   0],\n",
      "       [  3,   0,   0,   3]], dtype=int64)}\n"
     ]
    }
   ],
   "source": [
    "trimmed_x_train = x_train.drop(base_importances[base_importances[\"importance\"] < 0.02][\"feature\"], axis=1)\n",
    "trimmed_x_valid = x_valid.drop(base_importances[base_importances[\"importance\"] < 0.02][\"feature\"], axis=1)\n",
    "clf_trimmed = RandomForestClassifier(n_estimators=150, max_depth=15)\n",
    "clf_trimmed.fit(trimmed_x_train, y_train)\n",
    "y_pred = clf_trimmed.predict(trimmed_x_valid)\n",
    "trimmed_acc = getAccuracy(y_valid, y_pred, ycols, verbose=False)\n",
    "print(f\"{trimmed_acc}\\n{aug_acc}\\n{base_acc}\")"
   ]
  },
  {
   "cell_type": "markdown",
   "id": "rental-activation",
   "metadata": {},
   "source": [
    "### 5. Evaluating the Model\n",
    "We evaluate all 3 models (base, augmented, trimmed) on the unseen test set to make sure we haven't overfit on the test or validation sets. "
   ]
  },
  {
   "cell_type": "code",
   "execution_count": 18,
   "id": "metric-elevation",
   "metadata": {},
   "outputs": [
    {
     "name": "stdout",
     "output_type": "stream",
     "text": [
      "['status_Legendary', 'status_Mythical', 'status_Normal', 'status_Sub Legendary']\n",
      "[[  6   0   0   0]\n",
      " [  1   3   0   0]\n",
      " [  0   0 138   0]\n",
      " [  2   0   0   5]]\n",
      "accuracy:\t\t0.9741935483870968\n",
      "roc:\t\t\t0.912202380952381\n",
      "f1 (weighted):\t\t0.9852674207512918\n",
      "f1 (unweighted):\t0.8998917748917747\n",
      "['status_Legendary', 'status_Mythical', 'status_Normal', 'status_Sub Legendary']\n",
      "[[  5   0   0   1]\n",
      " [  0   4   0   0]\n",
      " [  0   0 138   0]\n",
      " [  0   0   0   7]]\n",
      "accuracy:\t\t0.9935483870967742\n",
      "roc:\t\t\t0.9783220720720721\n",
      "f1 (weighted):\t\t0.9934701857282501\n",
      "f1 (unweighted):\t0.9606060606060607\n",
      "['status_Legendary', 'status_Mythical', 'status_Normal', 'status_Sub Legendary']\n",
      "[[  5   0   0   1]\n",
      " [  0   4   0   0]\n",
      " [  0   0 138   0]\n",
      " [  0   0   0   7]]\n",
      "accuracy:\t\t0.9935483870967742\n",
      "roc:\t\t\t0.9783220720720721\n",
      "f1 (weighted):\t\t0.9934701857282501\n",
      "f1 (unweighted):\t0.9606060606060607\n"
     ]
    },
    {
     "data": {
      "text/plain": [
       "{'accuracy': 0.9935483870967742,\n",
       " 'roc': 0.9783220720720721,\n",
       " 'f1_w': 0.9934701857282501,\n",
       " 'f1_u': 0.9606060606060607,\n",
       " 'confusion': array([[  5,   0,   0,   1],\n",
       "        [  0,   4,   0,   0],\n",
       "        [  0,   0, 138,   0],\n",
       "        [  0,   0,   0,   7]], dtype=int64)}"
      ]
     },
     "execution_count": 18,
     "metadata": {},
     "output_type": "execute_result"
    }
   ],
   "source": [
    "getAccuracy(y_test, clf_base.predict(x_test), ycols, verbose=True)\n",
    "getAccuracy(y_test, clf_aug.predict(x_test), ycols, verbose=True)\n",
    "getAccuracy(y_test, \n",
    "            clf_trimmed.predict(x_test.drop(base_importances[base_importances[\"importance\"] < 0.02][\"feature\"], axis=1)), \n",
    "            ycols, verbose=True)"
   ]
  }
 ],
 "metadata": {
  "kernelspec": {
   "display_name": "pokepredict_venv",
   "language": "python",
   "name": "pokepredict_venv"
  },
  "language_info": {
   "codemirror_mode": {
    "name": "ipython",
    "version": 3
   },
   "file_extension": ".py",
   "mimetype": "text/x-python",
   "name": "python",
   "nbconvert_exporter": "python",
   "pygments_lexer": "ipython3",
   "version": "3.9.1"
  }
 },
 "nbformat": 4,
 "nbformat_minor": 5
}
