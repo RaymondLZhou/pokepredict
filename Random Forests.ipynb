{
 "cells": [
  {
   "cell_type": "code",
   "execution_count": 1,
   "id": "thick-annex",
   "metadata": {},
   "outputs": [],
   "source": [
    "import pandas as pd\n",
    "import numpy as np\n",
    "import matplotlib.pyplot as plt\n",
    "import seaborn as sns\n",
    "\n",
    "from sklearn.ensemble import RandomForestClassifier\n",
    "from sklearn.model_selection import train_test_split"
   ]
  },
  {
   "cell_type": "code",
   "execution_count": 2,
   "id": "eleven-canyon",
   "metadata": {},
   "outputs": [],
   "source": [
    "df = pd.read_csv(\"./data/pokedex_enc.csv\", index_col=0)"
   ]
  },
  {
   "cell_type": "code",
   "execution_count": 3,
   "id": "protecting-scott",
   "metadata": {},
   "outputs": [
    {
     "data": {
      "text/html": [
       "<div>\n",
       "<style scoped>\n",
       "    .dataframe tbody tr th:only-of-type {\n",
       "        vertical-align: middle;\n",
       "    }\n",
       "\n",
       "    .dataframe tbody tr th {\n",
       "        vertical-align: top;\n",
       "    }\n",
       "\n",
       "    .dataframe thead th {\n",
       "        text-align: right;\n",
       "    }\n",
       "</style>\n",
       "<table border=\"1\" class=\"dataframe\">\n",
       "  <thead>\n",
       "    <tr style=\"text-align: right;\">\n",
       "      <th></th>\n",
       "      <th>status_Legendary</th>\n",
       "      <th>status_Mythical</th>\n",
       "      <th>status_Normal</th>\n",
       "      <th>status_Sub Legendary</th>\n",
       "    </tr>\n",
       "  </thead>\n",
       "  <tbody>\n",
       "    <tr>\n",
       "      <th>0</th>\n",
       "      <td>0.0</td>\n",
       "      <td>0.0</td>\n",
       "      <td>1.0</td>\n",
       "      <td>0.0</td>\n",
       "    </tr>\n",
       "    <tr>\n",
       "      <th>1</th>\n",
       "      <td>0.0</td>\n",
       "      <td>0.0</td>\n",
       "      <td>1.0</td>\n",
       "      <td>0.0</td>\n",
       "    </tr>\n",
       "    <tr>\n",
       "      <th>2</th>\n",
       "      <td>0.0</td>\n",
       "      <td>0.0</td>\n",
       "      <td>1.0</td>\n",
       "      <td>0.0</td>\n",
       "    </tr>\n",
       "    <tr>\n",
       "      <th>3</th>\n",
       "      <td>0.0</td>\n",
       "      <td>0.0</td>\n",
       "      <td>1.0</td>\n",
       "      <td>0.0</td>\n",
       "    </tr>\n",
       "    <tr>\n",
       "      <th>4</th>\n",
       "      <td>0.0</td>\n",
       "      <td>0.0</td>\n",
       "      <td>1.0</td>\n",
       "      <td>0.0</td>\n",
       "    </tr>\n",
       "  </tbody>\n",
       "</table>\n",
       "</div>"
      ],
      "text/plain": [
       "   status_Legendary  status_Mythical  status_Normal  status_Sub Legendary\n",
       "0               0.0              0.0            1.0                   0.0\n",
       "1               0.0              0.0            1.0                   0.0\n",
       "2               0.0              0.0            1.0                   0.0\n",
       "3               0.0              0.0            1.0                   0.0\n",
       "4               0.0              0.0            1.0                   0.0"
      ]
     },
     "metadata": {},
     "output_type": "display_data"
    },
    {
     "data": {
      "text/html": [
       "<div>\n",
       "<style scoped>\n",
       "    .dataframe tbody tr th:only-of-type {\n",
       "        vertical-align: middle;\n",
       "    }\n",
       "\n",
       "    .dataframe tbody tr th {\n",
       "        vertical-align: top;\n",
       "    }\n",
       "\n",
       "    .dataframe thead th {\n",
       "        text-align: right;\n",
       "    }\n",
       "</style>\n",
       "<table border=\"1\" class=\"dataframe\">\n",
       "  <thead>\n",
       "    <tr style=\"text-align: right;\">\n",
       "      <th></th>\n",
       "      <th>generation</th>\n",
       "      <th>type_number</th>\n",
       "      <th>height_m</th>\n",
       "      <th>weight_kg</th>\n",
       "      <th>abilities_number</th>\n",
       "      <th>total_points</th>\n",
       "      <th>hp</th>\n",
       "      <th>attack</th>\n",
       "      <th>defense</th>\n",
       "      <th>sp_attack</th>\n",
       "      <th>...</th>\n",
       "      <th>species_Wish Pokémon</th>\n",
       "      <th>species_Wolf Pokémon</th>\n",
       "      <th>species_Wood Gecko Pokémon</th>\n",
       "      <th>species_Woodpecker Pokémon</th>\n",
       "      <th>species_Wool Pokémon</th>\n",
       "      <th>species_Woolly Crab Pokémon</th>\n",
       "      <th>species_Worm Pokémon</th>\n",
       "      <th>species_Wrestling Pokémon</th>\n",
       "      <th>species_Young Fowl Pokémon</th>\n",
       "      <th>species_Zen Charm Pokémon</th>\n",
       "    </tr>\n",
       "  </thead>\n",
       "  <tbody>\n",
       "    <tr>\n",
       "      <th>0</th>\n",
       "      <td>1</td>\n",
       "      <td>2</td>\n",
       "      <td>0.7</td>\n",
       "      <td>6.9</td>\n",
       "      <td>2</td>\n",
       "      <td>318.0</td>\n",
       "      <td>45.0</td>\n",
       "      <td>49.0</td>\n",
       "      <td>49.0</td>\n",
       "      <td>65.0</td>\n",
       "      <td>...</td>\n",
       "      <td>0.0</td>\n",
       "      <td>0.0</td>\n",
       "      <td>0.0</td>\n",
       "      <td>0.0</td>\n",
       "      <td>0.0</td>\n",
       "      <td>0.0</td>\n",
       "      <td>0.0</td>\n",
       "      <td>0.0</td>\n",
       "      <td>0.0</td>\n",
       "      <td>0.0</td>\n",
       "    </tr>\n",
       "    <tr>\n",
       "      <th>1</th>\n",
       "      <td>1</td>\n",
       "      <td>2</td>\n",
       "      <td>1.0</td>\n",
       "      <td>13.0</td>\n",
       "      <td>2</td>\n",
       "      <td>405.0</td>\n",
       "      <td>60.0</td>\n",
       "      <td>62.0</td>\n",
       "      <td>63.0</td>\n",
       "      <td>80.0</td>\n",
       "      <td>...</td>\n",
       "      <td>0.0</td>\n",
       "      <td>0.0</td>\n",
       "      <td>0.0</td>\n",
       "      <td>0.0</td>\n",
       "      <td>0.0</td>\n",
       "      <td>0.0</td>\n",
       "      <td>0.0</td>\n",
       "      <td>0.0</td>\n",
       "      <td>0.0</td>\n",
       "      <td>0.0</td>\n",
       "    </tr>\n",
       "    <tr>\n",
       "      <th>2</th>\n",
       "      <td>1</td>\n",
       "      <td>2</td>\n",
       "      <td>2.0</td>\n",
       "      <td>100.0</td>\n",
       "      <td>2</td>\n",
       "      <td>525.0</td>\n",
       "      <td>80.0</td>\n",
       "      <td>82.0</td>\n",
       "      <td>83.0</td>\n",
       "      <td>100.0</td>\n",
       "      <td>...</td>\n",
       "      <td>0.0</td>\n",
       "      <td>0.0</td>\n",
       "      <td>0.0</td>\n",
       "      <td>0.0</td>\n",
       "      <td>0.0</td>\n",
       "      <td>0.0</td>\n",
       "      <td>0.0</td>\n",
       "      <td>0.0</td>\n",
       "      <td>0.0</td>\n",
       "      <td>0.0</td>\n",
       "    </tr>\n",
       "    <tr>\n",
       "      <th>3</th>\n",
       "      <td>1</td>\n",
       "      <td>2</td>\n",
       "      <td>2.4</td>\n",
       "      <td>155.5</td>\n",
       "      <td>1</td>\n",
       "      <td>625.0</td>\n",
       "      <td>80.0</td>\n",
       "      <td>100.0</td>\n",
       "      <td>123.0</td>\n",
       "      <td>122.0</td>\n",
       "      <td>...</td>\n",
       "      <td>0.0</td>\n",
       "      <td>0.0</td>\n",
       "      <td>0.0</td>\n",
       "      <td>0.0</td>\n",
       "      <td>0.0</td>\n",
       "      <td>0.0</td>\n",
       "      <td>0.0</td>\n",
       "      <td>0.0</td>\n",
       "      <td>0.0</td>\n",
       "      <td>0.0</td>\n",
       "    </tr>\n",
       "    <tr>\n",
       "      <th>4</th>\n",
       "      <td>1</td>\n",
       "      <td>1</td>\n",
       "      <td>0.6</td>\n",
       "      <td>8.5</td>\n",
       "      <td>2</td>\n",
       "      <td>309.0</td>\n",
       "      <td>39.0</td>\n",
       "      <td>52.0</td>\n",
       "      <td>43.0</td>\n",
       "      <td>60.0</td>\n",
       "      <td>...</td>\n",
       "      <td>0.0</td>\n",
       "      <td>0.0</td>\n",
       "      <td>0.0</td>\n",
       "      <td>0.0</td>\n",
       "      <td>0.0</td>\n",
       "      <td>0.0</td>\n",
       "      <td>0.0</td>\n",
       "      <td>0.0</td>\n",
       "      <td>0.0</td>\n",
       "      <td>0.0</td>\n",
       "    </tr>\n",
       "  </tbody>\n",
       "</table>\n",
       "<p>5 rows × 970 columns</p>\n",
       "</div>"
      ],
      "text/plain": [
       "   generation  type_number  height_m  weight_kg  abilities_number  \\\n",
       "0           1            2       0.7        6.9                 2   \n",
       "1           1            2       1.0       13.0                 2   \n",
       "2           1            2       2.0      100.0                 2   \n",
       "3           1            2       2.4      155.5                 1   \n",
       "4           1            1       0.6        8.5                 2   \n",
       "\n",
       "   total_points    hp  attack  defense  sp_attack  ...  species_Wish Pokémon  \\\n",
       "0         318.0  45.0    49.0     49.0       65.0  ...                   0.0   \n",
       "1         405.0  60.0    62.0     63.0       80.0  ...                   0.0   \n",
       "2         525.0  80.0    82.0     83.0      100.0  ...                   0.0   \n",
       "3         625.0  80.0   100.0    123.0      122.0  ...                   0.0   \n",
       "4         309.0  39.0    52.0     43.0       60.0  ...                   0.0   \n",
       "\n",
       "   species_Wolf Pokémon  species_Wood Gecko Pokémon  \\\n",
       "0                   0.0                         0.0   \n",
       "1                   0.0                         0.0   \n",
       "2                   0.0                         0.0   \n",
       "3                   0.0                         0.0   \n",
       "4                   0.0                         0.0   \n",
       "\n",
       "   species_Woodpecker Pokémon  species_Wool Pokémon  \\\n",
       "0                         0.0                   0.0   \n",
       "1                         0.0                   0.0   \n",
       "2                         0.0                   0.0   \n",
       "3                         0.0                   0.0   \n",
       "4                         0.0                   0.0   \n",
       "\n",
       "   species_Woolly Crab Pokémon  species_Worm Pokémon  \\\n",
       "0                          0.0                   0.0   \n",
       "1                          0.0                   0.0   \n",
       "2                          0.0                   0.0   \n",
       "3                          0.0                   0.0   \n",
       "4                          0.0                   0.0   \n",
       "\n",
       "   species_Wrestling Pokémon  species_Young Fowl Pokémon  \\\n",
       "0                        0.0                         0.0   \n",
       "1                        0.0                         0.0   \n",
       "2                        0.0                         0.0   \n",
       "3                        0.0                         0.0   \n",
       "4                        0.0                         0.0   \n",
       "\n",
       "   species_Zen Charm Pokémon  \n",
       "0                        0.0  \n",
       "1                        0.0  \n",
       "2                        0.0  \n",
       "3                        0.0  \n",
       "4                        0.0  \n",
       "\n",
       "[5 rows x 970 columns]"
      ]
     },
     "metadata": {},
     "output_type": "display_data"
    }
   ],
   "source": [
    "ycols = [c for c in df.columns if \"status_\" in c]\n",
    "y = df.loc[:, ycols]\n",
    "x = df.drop(ycols + [\"pokedex_number\", \"name\"], axis=1)\n",
    "display(y.head())\n",
    "display(x.head())"
   ]
  },
  {
   "cell_type": "code",
   "execution_count": 4,
   "id": "armed-vision",
   "metadata": {},
   "outputs": [],
   "source": [
    "x_train, x_test, y_train, y_test = train_test_split(x, y, test_size=0.3, stratify=y, shuffle=True)\n",
    "x_valid, x_test, y_valid, y_test = train_test_split(x_test, y_test, test_size=0.5, stratify=y_test, shuffle=True)"
   ]
  },
  {
   "cell_type": "code",
   "execution_count": 5,
   "id": "statewide-wrist",
   "metadata": {},
   "outputs": [
    {
     "name": "stdout",
     "output_type": "stream",
     "text": [
      "Wall time: 146 ms\n"
     ]
    },
    {
     "data": {
      "text/plain": [
       "RandomForestClassifier()"
      ]
     },
     "execution_count": 5,
     "metadata": {},
     "output_type": "execute_result"
    }
   ],
   "source": [
    "%%time\n",
    "clf_base = RandomForestClassifier()\n",
    "clf_base.fit(x_train, y_train)"
   ]
  },
  {
   "cell_type": "code",
   "execution_count": 6,
   "id": "regional-greensboro",
   "metadata": {},
   "outputs": [],
   "source": [
    "from sklearn.metrics import classification_report, accuracy_score, confusion_matrix, roc_auc_score, f1_score"
   ]
  },
  {
   "cell_type": "code",
   "execution_count": 7,
   "id": "indoor-mountain",
   "metadata": {},
   "outputs": [],
   "source": [
    "def getAccuracy(y_true, y_pred, names, verbose=True):\n",
    "    confusion = confusion_matrix(y_true.values.argmax(axis=1), y_pred.argmax(axis=1))\n",
    "    accuracy = accuracy_score(y_true, y_pred)\n",
    "    roc = roc_auc_score(y_true, y_pred)\n",
    "    f1_w = f1_score(y_true, y_pred, average='weighted')\n",
    "    f1_u = f1_score(y_true, y_pred, average='macro')\n",
    "    if verbose:\n",
    "        print(ycols)\n",
    "        print(confusion_matrix(y_true.values.argmax(axis=1), y_pred.argmax(axis=1)))\n",
    "        print(f\"accuracy:\\t\\t{accuracy}\\nroc:\\t\\t\\t{roc}\\nf1 (weighted):\\t\\t{f1_w}\\nf1 (unweighted):\\t{f1_u}\")\n",
    "    return {\"accuracy\": accuracy, \"roc\": roc, \"f1_w\": f1_w, \"f1_u\": f1_u, \"confusion\": confusion}"
   ]
  },
  {
   "cell_type": "code",
   "execution_count": 8,
   "id": "regular-occupation",
   "metadata": {},
   "outputs": [
    {
     "name": "stdout",
     "output_type": "stream",
     "text": [
      "['status_Legendary', 'status_Mythical', 'status_Normal', 'status_Sub Legendary']\n",
      "[[  6   0   0   0]\n",
      " [  3   2   0   0]\n",
      " [  0   0 137   0]\n",
      " [  1   0   0   5]]\n",
      "accuracy:\t\t0.974025974025974\n",
      "roc:\t\t\t0.9041666666666668\n",
      "f1 (weighted):\t\t0.9825434305953787\n",
      "f1 (unweighted):\t0.8701298701298702\n"
     ]
    }
   ],
   "source": [
    "y_pred = clf_base.predict(x_valid)\n",
    "base_acc = getAccuracy(y_valid, y_pred, ycols)"
   ]
  },
  {
   "cell_type": "code",
   "execution_count": 9,
   "id": "deluxe-phrase",
   "metadata": {},
   "outputs": [
    {
     "data": {
      "text/plain": [
       "[<matplotlib.lines.Line2D at 0x2066877ed30>]"
      ]
     },
     "execution_count": 9,
     "metadata": {},
     "output_type": "execute_result"
    },
    {
     "data": {
      "image/png": "[encoded data removed]",
      "text/plain": [
       "<Figure size 432x288 with 1 Axes>"
      ]
     },
     "metadata": {
      "needs_background": "light"
     },
     "output_type": "display_data"
    }
   ],
   "source": [
    "res = []\n",
    "params = [10, 20, 50, 100, 150, 200]\n",
    "for n_est in params:\n",
    "    clf = RandomForestClassifier(n_estimators=n_est)\n",
    "    clf.fit(x_train, y_train)\n",
    "    y_pred = clf.predict(x_valid)\n",
    "    res.append(getAccuracy(y_valid, y_pred, ycols, verbose=False))\n",
    "    \n",
    "plt.plot(params, [x[\"roc\"] for x in res])"
   ]
  },
  {
   "cell_type": "code",
   "execution_count": 10,
   "id": "external-norwegian",
   "metadata": {},
   "outputs": [
    {
     "data": {
      "text/plain": [
       "[<matplotlib.lines.Line2D at 0x206692751f0>]"
      ]
     },
     "execution_count": 10,
     "metadata": {},
     "output_type": "execute_result"
    },
    {
     "data": {
      "image/png": "[encoded data removed]",
      "text/plain": [
       "<Figure size 432x288 with 1 Axes>"
      ]
     },
     "metadata": {
      "needs_background": "light"
     },
     "output_type": "display_data"
    }
   ],
   "source": [
    "res = []\n",
    "params = [5, 10, 15, 20, 25, None]\n",
    "for max_depth in params:\n",
    "    clf = RandomForestClassifier(max_depth=max_depth)\n",
    "    clf.fit(x_train, y_train)\n",
    "    y_pred = clf.predict(x_valid)\n",
    "    res.append(getAccuracy(y_valid, y_pred, ycols, verbose=False))\n",
    "    \n",
    "plt.plot(params, [x[\"roc\"] for x in res])"
   ]
  },
  {
   "cell_type": "code",
   "execution_count": 11,
   "id": "regulation-triple",
   "metadata": {},
   "outputs": [
    {
     "data": {
      "text/plain": [
       "[<matplotlib.lines.Line2D at 0x206692de4c0>]"
      ]
     },
     "execution_count": 11,
     "metadata": {},
     "output_type": "execute_result"
    },
    {
     "data": {
      "image/png": "[encoded data removed]",
      "text/plain": [
       "<Figure size 432x288 with 1 Axes>"
      ]
     },
     "metadata": {
      "needs_background": "light"
     },
     "output_type": "display_data"
    }
   ],
   "source": [
    "res = []\n",
    "params = [1, 2, 3, 5, 10, 15, 20]\n",
    "for min_leaf in params:\n",
    "    clf = RandomForestClassifier(min_samples_leaf=min_leaf)\n",
    "    clf.fit(x_train, y_train)\n",
    "    y_pred = clf.predict(x_valid)\n",
    "    res.append(getAccuracy(y_valid, y_pred, ycols, verbose=False))\n",
    "    \n",
    "plt.plot(params, [x[\"roc\"] for x in res])"
   ]
  },
  {
   "cell_type": "code",
   "execution_count": 12,
   "id": "junior-architecture",
   "metadata": {},
   "outputs": [
    {
     "data": {
      "text/plain": [
       "[<matplotlib.lines.Line2D at 0x2066bc83520>]"
      ]
     },
     "execution_count": 12,
     "metadata": {},
     "output_type": "execute_result"
    },
    {
     "data": {
      "image/png": "[encoded data removed]",
      "text/plain": [
       "<Figure size 432x288 with 1 Axes>"
      ]
     },
     "metadata": {
      "needs_background": "light"
     },
     "output_type": "display_data"
    }
   ],
   "source": [
    "res = []\n",
    "params = [\"auto\", \"log2\", 0.1, 0.25, 0.5, 0.75]\n",
    "for max_feat in params:\n",
    "    clf = RandomForestClassifier(max_features=max_feat)\n",
    "    clf.fit(x_train, y_train)\n",
    "    y_pred = clf.predict(x_valid)\n",
    "    res.append(getAccuracy(y_valid, y_pred, ycols, verbose=False))\n",
    "    \n",
    "plt.plot(params, [x[\"roc\"] for x in res])"
   ]
  },
  {
   "cell_type": "code",
   "execution_count": 13,
   "id": "entire-success",
   "metadata": {},
   "outputs": [
    {
     "name": "stdout",
     "output_type": "stream",
     "text": [
      "{'accuracy': 0.9935064935064936, 'roc': 0.9791666666666667, 'f1_w': 0.9964580873671782, 'f1_u': 0.9772727272727273, 'confusion': array([[  6,   0,   0,   0],\n",
      "       [  0,   5,   0,   0],\n",
      "       [  0,   0, 137,   0],\n",
      "       [  0,   0,   0,   6]], dtype=int64)}\n",
      "{'accuracy': 0.974025974025974, 'roc': 0.9041666666666668, 'f1_w': 0.9825434305953787, 'f1_u': 0.8701298701298702, 'confusion': array([[  6,   0,   0,   0],\n",
      "       [  3,   2,   0,   0],\n",
      "       [  0,   0, 137,   0],\n",
      "       [  1,   0,   0,   5]], dtype=int64)}\n"
     ]
    }
   ],
   "source": [
    "clf_aug = RandomForestClassifier(n_estimators=150, max_depth=15, max_features=0.5)\n",
    "clf_aug.fit(x_train, y_train)\n",
    "y_pred = clf_aug.predict(x_valid)\n",
    "aug_acc = getAccuracy(y_valid, y_pred, ycols, verbose=False)\n",
    "print(f\"{aug_acc}\\n{base_acc}\")"
   ]
  },
  {
   "cell_type": "code",
   "execution_count": 14,
   "id": "harmful-hydrogen",
   "metadata": {},
   "outputs": [
    {
     "data": {
      "text/plain": [
       "<AxesSubplot:xlabel='feature'>"
      ]
     },
     "execution_count": 14,
     "metadata": {},
     "output_type": "execute_result"
    },
    {
     "data": {
      "image/png": "[encoded data removed]",
      "text/plain": [
       "<Figure size 432x216 with 1 Axes>"
      ]
     },
     "metadata": {
      "needs_background": "light"
     },
     "output_type": "display_data"
    }
   ],
   "source": [
    "base_importances = pd.DataFrame({\"feature\": x_train.columns, \"importance\": clf_base.feature_importances_})\n",
    "base_importances.sort_values(by=[\"importance\"], ascending=False).plot(\"feature\", \"importance\", figsize=(6, 3))"
   ]
  },
  {
   "cell_type": "code",
   "execution_count": 15,
   "id": "hidden-margin",
   "metadata": {},
   "outputs": [
    {
     "name": "stdout",
     "output_type": "stream",
     "text": [
      "                         feature  importance\n",
      "18                    egg_cycles    0.098978\n",
      "14               base_experience    0.074137\n",
      "325        egg_type_Undiscovered    0.069824\n",
      "5                   total_points    0.062838\n",
      "12                    catch_rate    0.059552\n",
      "13               base_friendship    0.057362\n",
      "17               percentage_male    0.054919\n",
      "2                       height_m    0.025394\n",
      "9                      sp_attack    0.025081\n",
      "3                      weight_kg    0.024956\n",
      "6                             hp    0.024578\n",
      "15                   growth_rate    0.022301\n",
      "7                         attack    0.020731\n",
      "11                         speed    0.020305\n",
      "4               abilities_number    0.019687\n",
      "10                    sp_defense    0.018824\n",
      "8                        defense    0.017401\n",
      "70           ability_Beast Boost    0.011150\n",
      "0                     generation    0.009706\n",
      "20                  against_fire    0.008241\n",
      "27                against_ground    0.007816\n",
      "24                   against_ice    0.007570\n",
      "30                   against_bug    0.007283\n",
      "25                 against_fight    0.007176\n",
      "32                 against_ghost    0.006534\n",
      "33                against_dragon    0.006270\n",
      "158             ability_Levitate    0.006234\n",
      "26                against_poison    0.005861\n",
      "22              against_electric    0.005796\n",
      "23                 against_grass    0.005736\n",
      "28                against_flying    0.005519\n",
      "21                 against_water    0.005477\n",
      "34                  against_dark    0.005253\n",
      "29               against_psychic    0.005208\n",
      "31                  against_rock    0.005194\n",
      "1                    type_number    0.004813\n",
      "35                 against_steel    0.004433\n",
      "748        species_Prism Pokémon    0.004202\n",
      "16               egg_type_number    0.004155\n",
      "36                 against_fairy    0.004078\n",
      "937      species_Warrior Pokémon    0.004025\n",
      "39                   type_Dragon    0.003486\n",
      "51                  type_Psychic    0.003464\n",
      "324                egg_type_None    0.003202\n",
      "638  species_Land Spirit Pokémon    0.003182\n",
      "19                against_normal    0.003107\n",
      "239         ability_Serene Grace    0.002743\n",
      "516          species_Eon Pokémon    0.002742\n",
      "49                   type_Normal    0.002693\n",
      "208             ability_Pressure    0.002649\n"
     ]
    }
   ],
   "source": [
    "print(base_importances.sort_values(by=[\"importance\"], ascending=False).iloc[:50, :])"
   ]
  },
  {
   "cell_type": "code",
   "execution_count": 16,
   "id": "bound-wrapping",
   "metadata": {},
   "outputs": [
    {
     "data": {
      "text/plain": [
       "[<matplotlib.lines.Line2D at 0x2066bde4f10>]"
      ]
     },
     "execution_count": 16,
     "metadata": {},
     "output_type": "execute_result"
    },
    {
     "data": {
      "image/png": "[encoded data removed]",
      "text/plain": [
       "<Figure size 432x288 with 1 Axes>"
      ]
     },
     "metadata": {
      "needs_background": "light"
     },
     "output_type": "display_data"
    }
   ],
   "source": [
    "res = []\n",
    "params = [1e-5, 1e-4, 0.001, 0.002, 0.003, 0.005, 0.01, 0.02, 0.03, 0.04]\n",
    "for cutoff in params:\n",
    "    trimmed_x_train = x_train.drop(base_importances[base_importances[\"importance\"] < cutoff][\"feature\"], axis=1)\n",
    "    trimmed_x_valid = x_valid.drop(base_importances[base_importances[\"importance\"] < cutoff][\"feature\"], axis=1)\n",
    "    clf = RandomForestClassifier(n_estimators=150, max_depth=15)\n",
    "    clf.fit(trimmed_x_train, y_train)\n",
    "    y_pred = clf.predict(trimmed_x_valid)\n",
    "    res.append(getAccuracy(y_valid, y_pred, ycols, verbose=False))\n",
    "    \n",
    "plt.plot(params, [x[\"roc\"] for x in res])"
   ]
  },
  {
   "cell_type": "code",
   "execution_count": 17,
   "id": "brutal-choir",
   "metadata": {},
   "outputs": [
    {
     "name": "stdout",
     "output_type": "stream",
     "text": [
      "{'accuracy': 0.9935064935064936, 'roc': 0.9791666666666667, 'f1_w': 0.9964580873671782, 'f1_u': 0.9772727272727273, 'confusion': array([[  6,   0,   0,   0],\n",
      "       [  0,   5,   0,   0],\n",
      "       [  0,   0, 137,   0],\n",
      "       [  0,   0,   0,   6]], dtype=int64)}\n",
      "{'accuracy': 0.9935064935064936, 'roc': 0.9791666666666667, 'f1_w': 0.9964580873671782, 'f1_u': 0.9772727272727273, 'confusion': array([[  6,   0,   0,   0],\n",
      "       [  0,   5,   0,   0],\n",
      "       [  0,   0, 137,   0],\n",
      "       [  0,   0,   0,   6]], dtype=int64)}\n",
      "{'accuracy': 0.974025974025974, 'roc': 0.9041666666666668, 'f1_w': 0.9825434305953787, 'f1_u': 0.8701298701298702, 'confusion': array([[  6,   0,   0,   0],\n",
      "       [  3,   2,   0,   0],\n",
      "       [  0,   0, 137,   0],\n",
      "       [  1,   0,   0,   5]], dtype=int64)}\n"
     ]
    }
   ],
   "source": [
    "trimmed_x_train = x_train.drop(base_importances[base_importances[\"importance\"] < 0.02][\"feature\"], axis=1)\n",
    "trimmed_x_valid = x_valid.drop(base_importances[base_importances[\"importance\"] < 0.02][\"feature\"], axis=1)\n",
    "clf_trimmed = RandomForestClassifier(n_estimators=150, max_depth=15)\n",
    "clf_trimmed.fit(trimmed_x_train, y_train)\n",
    "y_pred = clf_trimmed.predict(trimmed_x_valid)\n",
    "trimmed_acc = getAccuracy(y_valid, y_pred, ycols, verbose=False)\n",
    "print(f\"{trimmed_acc}\\n{aug_acc}\\n{base_acc}\")"
   ]
  },
  {
   "cell_type": "code",
   "execution_count": 18,
   "id": "metric-elevation",
   "metadata": {},
   "outputs": [
    {
     "name": "stdout",
     "output_type": "stream",
     "text": [
      "['status_Legendary', 'status_Mythical', 'status_Normal', 'status_Sub Legendary']\n",
      "[[  6   0   0   0]\n",
      " [  2   2   0   0]\n",
      " [  0   0 138   0]\n",
      " [  3   0   0   4]]\n",
      "accuracy:\t\t0.9612903225806452\n",
      "roc:\t\t\t0.8630952380952381\n",
      "f1 (weighted):\t\t0.9755620723362659\n",
      "f1 (unweighted):\t0.8257575757575757\n",
      "['status_Legendary', 'status_Mythical', 'status_Normal', 'status_Sub Legendary']\n",
      "[[  6   0   0   0]\n",
      " [  0   4   0   0]\n",
      " [  0   0 138   0]\n",
      " [  1   0   0   6]]\n",
      "accuracy:\t\t0.9935483870967742\n",
      "roc:\t\t\t0.9821428571428572\n",
      "f1 (weighted):\t\t0.9965260545905706\n",
      "f1 (unweighted):\t0.9807692307692307\n",
      "['status_Legendary', 'status_Mythical', 'status_Normal', 'status_Sub Legendary']\n",
      "[[  6   0   0   0]\n",
      " [  0   4   0   0]\n",
      " [  0   0 138   0]\n",
      " [  1   0   0   6]]\n",
      "accuracy:\t\t0.9935483870967742\n",
      "roc:\t\t\t0.9821428571428572\n",
      "f1 (weighted):\t\t0.9965260545905706\n",
      "f1 (unweighted):\t0.9807692307692307\n"
     ]
    },
    {
     "data": {
      "text/plain": [
       "{'accuracy': 0.9935483870967742,\n",
       " 'roc': 0.9821428571428572,\n",
       " 'f1_w': 0.9965260545905706,\n",
       " 'f1_u': 0.9807692307692307,\n",
       " 'confusion': array([[  6,   0,   0,   0],\n",
       "        [  0,   4,   0,   0],\n",
       "        [  0,   0, 138,   0],\n",
       "        [  1,   0,   0,   6]], dtype=int64)}"
      ]
     },
     "execution_count": 18,
     "metadata": {},
     "output_type": "execute_result"
    }
   ],
   "source": [
    "getAccuracy(y_test, clf_base.predict(x_test), ycols, verbose=True)\n",
    "getAccuracy(y_test, clf_aug.predict(x_test), ycols, verbose=True)\n",
    "getAccuracy(y_test, \n",
    "            clf_trimmed.predict(x_test.drop(base_importances[base_importances[\"importance\"] < 0.02][\"feature\"], axis=1)), \n",
    "            ycols, verbose=True)"
   ]
  }
 ],
 "metadata": {
  "kernelspec": {
   "display_name": "pokepredict_venv",
   "language": "python",
   "name": "pokepredict_venv"
  },
  "language_info": {
   "codemirror_mode": {
    "name": "ipython",
    "version": 3
   },
   "file_extension": ".py",
   "mimetype": "text/x-python",
   "name": "python",
   "nbconvert_exporter": "python",
   "pygments_lexer": "ipython3",
   "version": "3.9.1"
  }
 },
 "nbformat": 4,
 "nbformat_minor": 5
}
