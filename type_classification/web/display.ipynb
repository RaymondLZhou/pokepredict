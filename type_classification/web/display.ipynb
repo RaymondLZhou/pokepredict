{
 "cells": [
  {
   "cell_type": "code",
   "execution_count": 1,
   "id": "bronze-inside",
   "metadata": {},
   "outputs": [],
   "source": [
    "saved_model_path = \"model.h5\""
   ]
  },
  {
   "cell_type": "code",
   "execution_count": 2,
   "id": "eight-credits",
   "metadata": {},
   "outputs": [
    {
     "output_type": "stream",
     "name": "stderr",
     "text": [
      "2021-04-03 17:41:57.118564: W tensorflow/stream_executor/platform/default/dso_loader.cc:60] Could not load dynamic library 'cudart64_110.dll'; dlerror: cudart64_110.dll not found\n2021-04-03 17:41:57.119196: I tensorflow/stream_executor/cuda/cudart_stub.cc:29] Ignore above cudart dlerror if you do not have a GPU set up on your machine.\n"
     ]
    }
   ],
   "source": [
    "!tensorflowjs_converter --input_format=keras {saved_model_path} ./"
   ]
  },
  {
   "cell_type": "code",
   "execution_count": null,
   "metadata": {},
   "outputs": [],
   "source": []
  }
 ],
 "metadata": {
  "kernelspec": {
   "name": "python387jvsc74a57bd0ecb776122052db33db68400d55ec0b809698b80b42e4d6dc99dfd3b558dcba9d",
   "display_name": "Python 3.8.7 64-bit"
  },
  "language_info": {
   "codemirror_mode": {
    "name": "ipython",
    "version": 3
   },
   "file_extension": ".py",
   "mimetype": "text/x-python",
   "name": "python",
   "nbconvert_exporter": "python",
   "pygments_lexer": "ipython3",
   "version": "3.8.7"
  }
 },
 "nbformat": 4,
 "nbformat_minor": 5
}