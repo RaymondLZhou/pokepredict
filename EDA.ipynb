{
 "cells": [
  {
   "source": [
    "# EDA\n",
    "The goal of this notebook is to:\n",
    "- [Remove null values and validate data](#remove_null)\n",
    "- [Transform data into a usable state for modelling](#transform_model)\n",
    "- Perform data analysis to uncover patterns\n",
    "- Eliminate any sources of data leakage"
   ],
   "cell_type": "markdown",
   "metadata": {}
  },
  {
   "source": [
    "## 0. Imports"
   ],
   "cell_type": "markdown",
   "metadata": {}
  },
  {
   "cell_type": "code",
   "execution_count": 1,
   "metadata": {},
   "outputs": [],
   "source": [
    "import pandas as pd\n",
    "import matplotlib.pyplot as plt\n",
    "import seaborn as sns\n",
    "import numpy as np\n",
    "\n",
    "import requests\n",
    "from bs4 import BeautifulSoup\n",
    "import re\n",
    "\n",
    "from sklearn import preprocessing"
   ]
  },
  {
   "source": [
    "<a id='remove_null'></a>\n",
    "## 1. Removing Nulls & Validating Data"
   ],
   "cell_type": "markdown",
   "metadata": {}
  },
  {
   "cell_type": "code",
   "execution_count": 2,
   "metadata": {},
   "outputs": [
    {
     "output_type": "stream",
     "name": "stdout",
     "text": [
      "<class 'pandas.core.frame.DataFrame'>\nInt64Index: 1028 entries, 0 to 1027\nData columns (total 50 columns):\n #   Column            Non-Null Count  Dtype  \n---  ------            --------------  -----  \n 0   pokedex_number    1028 non-null   int64  \n 1   name              1028 non-null   object \n 2   german_name       938 non-null    object \n 3   japanese_name     938 non-null    object \n 4   generation        1028 non-null   int64  \n 5   status            1028 non-null   object \n 6   species           1028 non-null   object \n 7   type_number       1028 non-null   int64  \n 8   type_1            1028 non-null   object \n 9   type_2            542 non-null    object \n 10  height_m          1028 non-null   float64\n 11  weight_kg         1027 non-null   float64\n 12  abilities_number  1028 non-null   int64  \n 13  ability_1         1025 non-null   object \n 14  ability_2         513 non-null    object \n 15  ability_hidden    810 non-null    object \n 16  total_points      1028 non-null   float64\n 17  hp                1028 non-null   float64\n 18  attack            1028 non-null   float64\n 19  defense           1028 non-null   float64\n 20  sp_attack         1028 non-null   float64\n 21  sp_defense        1028 non-null   float64\n 22  speed             1028 non-null   float64\n 23  catch_rate        924 non-null    float64\n 24  base_friendship   924 non-null    float64\n 25  base_experience   924 non-null    float64\n 26  growth_rate       1027 non-null   object \n 27  egg_type_number   1028 non-null   int64  \n 28  egg_type_1        1025 non-null   object \n 29  egg_type_2        282 non-null    object \n 30  percentage_male   792 non-null    float64\n 31  egg_cycles        1027 non-null   float64\n 32  against_normal    1028 non-null   float64\n 33  against_fire      1028 non-null   float64\n 34  against_water     1028 non-null   float64\n 35  against_electric  1028 non-null   float64\n 36  against_grass     1028 non-null   float64\n 37  against_ice       1028 non-null   float64\n 38  against_fight     1028 non-null   float64\n 39  against_poison    1028 non-null   float64\n 40  against_ground    1028 non-null   float64\n 41  against_flying    1028 non-null   float64\n 42  against_psychic   1028 non-null   float64\n 43  against_bug       1028 non-null   float64\n 44  against_rock      1028 non-null   float64\n 45  against_ghost     1028 non-null   float64\n 46  against_dragon    1028 non-null   float64\n 47  against_dark      1028 non-null   float64\n 48  against_steel     1028 non-null   float64\n 49  against_fairy     1028 non-null   float64\ndtypes: float64(32), int64(5), object(13)\nmemory usage: 409.6+ KB\n"
     ]
    }
   ],
   "source": [
    "df = pd.read_csv(\"./data/pokedex_raw.csv\", index_col=0)\n",
    "df.info()"
   ]
  },
  {
   "cell_type": "markdown",
   "metadata": {},
   "source": [
    "### Dropping Unnecessary Columns"
   ]
  },
  {
   "cell_type": "code",
   "execution_count": 3,
   "metadata": {},
   "outputs": [],
   "source": [
    "df.drop([\"german_name\", \"japanese_name\"], axis=1, inplace=True)"
   ]
  },
  {
   "cell_type": "markdown",
   "metadata": {},
   "source": [
    "### Base Friendship,  Base Experience, Catch Rate, Percentage Male\n",
    "base_friendship, base_experience, catch_rate, and percentage_male have the same number of null values. Let's investigate."
   ]
  },
  {
   "cell_type": "code",
   "execution_count": 4,
   "metadata": {},
   "outputs": [
    {
     "output_type": "execute_result",
     "data": {
      "text/plain": [
       "                                name  generation     status  base_friendship  \\\n",
       "69                   Galarian Meowth           1     Normal              NaN   \n",
       "100                  Galarian Ponyta           1     Normal              NaN   \n",
       "102                Galarian Rapidash           1     Normal              NaN   \n",
       "109              Galarian Farfetch'd           1     Normal              NaN   \n",
       "142                 Galarian Weezing           1     Normal              NaN   \n",
       "...                              ...         ...        ...              ...   \n",
       "1023     Zacian Hero of Many Battles           8  Legendary              NaN   \n",
       "1024        Zamazenta Crowned Shield           8  Legendary              NaN   \n",
       "1025  Zamazenta Hero of Many Battles           8  Legendary              NaN   \n",
       "1026                       Eternatus           8  Legendary              NaN   \n",
       "1027             Eternatus Eternamax           8  Legendary              NaN   \n",
       "\n",
       "      base_experience  catch_rate  percentage_male  \n",
       "69                NaN         NaN              NaN  \n",
       "100               NaN         NaN              NaN  \n",
       "102               NaN         NaN              NaN  \n",
       "109               NaN         NaN              NaN  \n",
       "142               NaN         NaN              NaN  \n",
       "...               ...         ...              ...  \n",
       "1023              NaN         NaN              NaN  \n",
       "1024              NaN         NaN              NaN  \n",
       "1025              NaN         NaN              NaN  \n",
       "1026              NaN         NaN              NaN  \n",
       "1027              NaN         NaN              NaN  \n",
       "\n",
       "[104 rows x 7 columns]"
      ],
      "text/html": "<div>\n<style scoped>\n    .dataframe tbody tr th:only-of-type {\n        vertical-align: middle;\n    }\n\n    .dataframe tbody tr th {\n        vertical-align: top;\n    }\n\n    .dataframe thead th {\n        text-align: right;\n    }\n</style>\n<table border=\"1\" class=\"dataframe\">\n  <thead>\n    <tr style=\"text-align: right;\">\n      <th></th>\n      <th>name</th>\n      <th>generation</th>\n      <th>status</th>\n      <th>base_friendship</th>\n      <th>base_experience</th>\n      <th>catch_rate</th>\n      <th>percentage_male</th>\n    </tr>\n  </thead>\n  <tbody>\n    <tr>\n      <th>69</th>\n      <td>Galarian Meowth</td>\n      <td>1</td>\n      <td>Normal</td>\n      <td>NaN</td>\n      <td>NaN</td>\n      <td>NaN</td>\n      <td>NaN</td>\n    </tr>\n    <tr>\n      <th>100</th>\n      <td>Galarian Ponyta</td>\n      <td>1</td>\n      <td>Normal</td>\n      <td>NaN</td>\n      <td>NaN</td>\n      <td>NaN</td>\n      <td>NaN</td>\n    </tr>\n    <tr>\n      <th>102</th>\n      <td>Galarian Rapidash</td>\n      <td>1</td>\n      <td>Normal</td>\n      <td>NaN</td>\n      <td>NaN</td>\n      <td>NaN</td>\n      <td>NaN</td>\n    </tr>\n    <tr>\n      <th>109</th>\n      <td>Galarian Farfetch'd</td>\n      <td>1</td>\n      <td>Normal</td>\n      <td>NaN</td>\n      <td>NaN</td>\n      <td>NaN</td>\n      <td>NaN</td>\n    </tr>\n    <tr>\n      <th>142</th>\n      <td>Galarian Weezing</td>\n      <td>1</td>\n      <td>Normal</td>\n      <td>NaN</td>\n      <td>NaN</td>\n      <td>NaN</td>\n      <td>NaN</td>\n    </tr>\n    <tr>\n      <th>...</th>\n      <td>...</td>\n      <td>...</td>\n      <td>...</td>\n      <td>...</td>\n      <td>...</td>\n      <td>...</td>\n      <td>...</td>\n    </tr>\n    <tr>\n      <th>1023</th>\n      <td>Zacian Hero of Many Battles</td>\n      <td>8</td>\n      <td>Legendary</td>\n      <td>NaN</td>\n      <td>NaN</td>\n      <td>NaN</td>\n      <td>NaN</td>\n    </tr>\n    <tr>\n      <th>1024</th>\n      <td>Zamazenta Crowned Shield</td>\n      <td>8</td>\n      <td>Legendary</td>\n      <td>NaN</td>\n      <td>NaN</td>\n      <td>NaN</td>\n      <td>NaN</td>\n    </tr>\n    <tr>\n      <th>1025</th>\n      <td>Zamazenta Hero of Many Battles</td>\n      <td>8</td>\n      <td>Legendary</td>\n      <td>NaN</td>\n      <td>NaN</td>\n      <td>NaN</td>\n      <td>NaN</td>\n    </tr>\n    <tr>\n      <th>1026</th>\n      <td>Eternatus</td>\n      <td>8</td>\n      <td>Legendary</td>\n      <td>NaN</td>\n      <td>NaN</td>\n      <td>NaN</td>\n      <td>NaN</td>\n    </tr>\n    <tr>\n      <th>1027</th>\n      <td>Eternatus Eternamax</td>\n      <td>8</td>\n      <td>Legendary</td>\n      <td>NaN</td>\n      <td>NaN</td>\n      <td>NaN</td>\n      <td>NaN</td>\n    </tr>\n  </tbody>\n</table>\n<p>104 rows × 7 columns</p>\n</div>"
     },
     "metadata": {},
     "execution_count": 4
    }
   ],
   "source": [
    "df.loc[df[\"base_friendship\"].isnull() & df[\"base_experience\"].isnull() & df[\"catch_rate\"].isnull() & df[\"percentage_male\"].isnull(), [\"name\", \"generation\", \"status\", \"base_friendship\", \"base_experience\", \"catch_rate\", \"percentage_male\"]]"
   ]
  },
  {
   "cell_type": "markdown",
   "metadata": {},
   "source": [
    "A lot of the nulls seem to be either from \"Galarian\" forms, or from generation 8. We can also see that the four fields are null in the same rows."
   ]
  },
  {
   "cell_type": "code",
   "execution_count": 5,
   "metadata": {},
   "outputs": [
    {
     "output_type": "execute_result",
     "data": {
      "text/plain": [
       "                                  name  pokedex_number  generation    status\n",
       "69                     Galarian Meowth              52           1    Normal\n",
       "100                    Galarian Ponyta              77           1    Normal\n",
       "102                  Galarian Rapidash              78           1    Normal\n",
       "109                Galarian Farfetch'd              83           1    Normal\n",
       "142                   Galarian Weezing             110           1    Normal\n",
       "156                  Galarian Mr. Mime             122           1    Normal\n",
       "267                   Galarian Corsola             222           2    Normal\n",
       "314                 Galarian Zigzagoon             263           3    Normal\n",
       "316                   Galarian Linoone             264           3    Normal\n",
       "648                  Galarian Darumaka             554           5    Normal\n",
       "651  Darmanitan Galarian Standard Mode             555           5    Normal\n",
       "652       Darmanitan Galarian Zen Mode             555           5    Normal\n",
       "660                    Galarian Yamask             562           5    Normal\n",
       "717                  Galarian Stunfisk             618           5    Normal\n",
       "938                             Meltan             808           7  Mythical\n",
       "939                           Melmetal             809           7  Mythical"
      ],
      "text/html": "<div>\n<style scoped>\n    .dataframe tbody tr th:only-of-type {\n        vertical-align: middle;\n    }\n\n    .dataframe tbody tr th {\n        vertical-align: top;\n    }\n\n    .dataframe thead th {\n        text-align: right;\n    }\n</style>\n<table border=\"1\" class=\"dataframe\">\n  <thead>\n    <tr style=\"text-align: right;\">\n      <th></th>\n      <th>name</th>\n      <th>pokedex_number</th>\n      <th>generation</th>\n      <th>status</th>\n    </tr>\n  </thead>\n  <tbody>\n    <tr>\n      <th>69</th>\n      <td>Galarian Meowth</td>\n      <td>52</td>\n      <td>1</td>\n      <td>Normal</td>\n    </tr>\n    <tr>\n      <th>100</th>\n      <td>Galarian Ponyta</td>\n      <td>77</td>\n      <td>1</td>\n      <td>Normal</td>\n    </tr>\n    <tr>\n      <th>102</th>\n      <td>Galarian Rapidash</td>\n      <td>78</td>\n      <td>1</td>\n      <td>Normal</td>\n    </tr>\n    <tr>\n      <th>109</th>\n      <td>Galarian Farfetch'd</td>\n      <td>83</td>\n      <td>1</td>\n      <td>Normal</td>\n    </tr>\n    <tr>\n      <th>142</th>\n      <td>Galarian Weezing</td>\n      <td>110</td>\n      <td>1</td>\n      <td>Normal</td>\n    </tr>\n    <tr>\n      <th>156</th>\n      <td>Galarian Mr. Mime</td>\n      <td>122</td>\n      <td>1</td>\n      <td>Normal</td>\n    </tr>\n    <tr>\n      <th>267</th>\n      <td>Galarian Corsola</td>\n      <td>222</td>\n      <td>2</td>\n      <td>Normal</td>\n    </tr>\n    <tr>\n      <th>314</th>\n      <td>Galarian Zigzagoon</td>\n      <td>263</td>\n      <td>3</td>\n      <td>Normal</td>\n    </tr>\n    <tr>\n      <th>316</th>\n      <td>Galarian Linoone</td>\n      <td>264</td>\n      <td>3</td>\n      <td>Normal</td>\n    </tr>\n    <tr>\n      <th>648</th>\n      <td>Galarian Darumaka</td>\n      <td>554</td>\n      <td>5</td>\n      <td>Normal</td>\n    </tr>\n    <tr>\n      <th>651</th>\n      <td>Darmanitan Galarian Standard Mode</td>\n      <td>555</td>\n      <td>5</td>\n      <td>Normal</td>\n    </tr>\n    <tr>\n      <th>652</th>\n      <td>Darmanitan Galarian Zen Mode</td>\n      <td>555</td>\n      <td>5</td>\n      <td>Normal</td>\n    </tr>\n    <tr>\n      <th>660</th>\n      <td>Galarian Yamask</td>\n      <td>562</td>\n      <td>5</td>\n      <td>Normal</td>\n    </tr>\n    <tr>\n      <th>717</th>\n      <td>Galarian Stunfisk</td>\n      <td>618</td>\n      <td>5</td>\n      <td>Normal</td>\n    </tr>\n    <tr>\n      <th>938</th>\n      <td>Meltan</td>\n      <td>808</td>\n      <td>7</td>\n      <td>Mythical</td>\n    </tr>\n    <tr>\n      <th>939</th>\n      <td>Melmetal</td>\n      <td>809</td>\n      <td>7</td>\n      <td>Mythical</td>\n    </tr>\n  </tbody>\n</table>\n</div>"
     },
     "metadata": {},
     "execution_count": 5
    }
   ],
   "source": [
    "df.loc[df[\"base_friendship\"].isnull() & (df[\"generation\"] != 8)].loc[:, [\"name\", \"pokedex_number\", \"generation\", \"status\"]]"
   ]
  },
  {
   "cell_type": "code",
   "execution_count": 6,
   "metadata": {},
   "outputs": [
    {
     "output_type": "execute_result",
     "data": {
      "text/plain": [
       "pokedex_number       0\n",
       "name                 0\n",
       "generation           0\n",
       "status               0\n",
       "species              0\n",
       "type_number          0\n",
       "type_1               0\n",
       "type_2              48\n",
       "height_m             0\n",
       "weight_kg            1\n",
       "abilities_number     0\n",
       "ability_1            1\n",
       "ability_2           42\n",
       "ability_hidden      13\n",
       "total_points         0\n",
       "hp                   0\n",
       "attack               0\n",
       "defense              0\n",
       "sp_attack            0\n",
       "sp_defense           0\n",
       "speed                0\n",
       "catch_rate          88\n",
       "base_friendship     88\n",
       "base_experience     88\n",
       "growth_rate          0\n",
       "egg_type_number      0\n",
       "egg_type_1           0\n",
       "egg_type_2          47\n",
       "percentage_male     88\n",
       "egg_cycles           0\n",
       "against_normal       0\n",
       "against_fire         0\n",
       "against_water        0\n",
       "against_electric     0\n",
       "against_grass        0\n",
       "against_ice          0\n",
       "against_fight        0\n",
       "against_poison       0\n",
       "against_ground       0\n",
       "against_flying       0\n",
       "against_psychic      0\n",
       "against_bug          0\n",
       "against_rock         0\n",
       "against_ghost        0\n",
       "against_dragon       0\n",
       "against_dark         0\n",
       "against_steel        0\n",
       "against_fairy        0\n",
       "dtype: int64"
      ]
     },
     "metadata": {},
     "execution_count": 6
    }
   ],
   "source": [
    "df[df[\"generation\"] == 8].isnull().sum()"
   ]
  },
  {
   "cell_type": "markdown",
   "metadata": {},
   "source": [
    "### Filling Gen 8 Nulls\n",
    "We need percentage_male, catch_rate, base_friendship, base_experience. We use webscraping with BeautifulSoup and bulbapedia.bulbagarden.net."
   ]
  },
  {
   "cell_type": "code",
   "execution_count": 7,
   "metadata": {},
   "outputs": [],
   "source": [
    "soup = BeautifulSoup(requests.get(\"https://bulbapedia.bulbagarden.net/wiki/List_of_Pok%C3%A9mon_by_effort_value_yield\").content, \"html.parser\")\n",
    "expTable = soup.find_all(\"tr\")\n",
    "def getBaseExp(pNum, tablerow):\n",
    "    for row in tablerow[1:]:\n",
    "        if int(re.search(\"[0-9]+\", str(row.findChildren(\"td\")[0])).group()) == pNum:\n",
    "            return int(re.search(\"[0-9]+\", str(row.findChildren(\"td\")[3])).group())\n",
    "for pNum in df.loc[df[\"generation\"] == 8, \"pokedex_number\"]:\n",
    "    df.loc[df[\"pokedex_number\"] == pNum, \"base_experience\"] = getBaseExp(pNum, expTable)"
   ]
  },
  {
   "cell_type": "code",
   "execution_count": 8,
   "metadata": {},
   "outputs": [],
   "source": [
    "soup = BeautifulSoup(requests.get(\"https://bulbapedia.bulbagarden.net/wiki/List_of_Pok%C3%A9mon_by_base_friendship\").content, \"html.parser\")\n",
    "friendTable = soup.find_all(\"tr\")\n",
    "def getBaseFriendship(pNum, tablerow):\n",
    "    for row in tablerow[2:]:\n",
    "        if int(re.search(\"[0-9]+\", str(row.findChildren(\"td\")[0])).group()) == pNum:\n",
    "            return int(re.search(\"[0-9]+\", str(row.findChildren(\"td\")[4])).group())\n",
    "for pNum in df[\"pokedex_number\"]:\n",
    "    df.loc[df[\"pokedex_number\"] == pNum, \"base_friendship\"] = getBaseFriendship(pNum, friendTable)"
   ]
  },
  {
   "cell_type": "code",
   "execution_count": 9,
   "metadata": {},
   "outputs": [],
   "source": [
    "soup = BeautifulSoup(requests.get(\"https://bulbapedia.bulbagarden.net/wiki/List_of_Pok%C3%A9mon_by_catch_rate\").content, \"html.parser\")\n",
    "catchTable = soup.find_all(\"tr\")\n",
    "def getCatchRate(pNum, tablerow):\n",
    "    for row in tablerow[2:]:\n",
    "        if int(re.search(\"[0-9]+\", str(row.findChildren(\"th\")[0])).group()) == pNum:\n",
    "            return int(re.search(\"[0-9]+\", str(row.findChildren(\"td\")[2])).group())\n",
    "for pNum in df.loc[df[\"generation\"] == 8, \"pokedex_number\"]:\n",
    "    df.loc[df[\"pokedex_number\"] == pNum, \"catch_rate\"] = getCatchRate(pNum, catchTable)"
   ]
  },
  {
   "cell_type": "code",
   "execution_count": 10,
   "metadata": {},
   "outputs": [],
   "source": [
    "soup = BeautifulSoup(requests.get(\"https://bulbapedia.bulbagarden.net/wiki/List_of_Pok%C3%A9mon_by_gender_ratio\").content, \"html.parser\")\n",
    "genderTable = soup.find_all(\"table\", {\"class\": \"sortable\"})\n",
    "def getPercentageMale(pNum, table):\n",
    "    for i in range(len(table)):\n",
    "        rows = table[i].findChildren(\"tr\")[1:]\n",
    "        for row in rows:\n",
    "            if int(re.search(\"[0-9]+\", str(row.findChildren(\"td\")[0])).group()) == pNum:\n",
    "                if 0 <= i < 2: return 100.\n",
    "                elif 2 <= i < 4: return 87.5\n",
    "                elif 4 <= i < 6: return 75.\n",
    "                elif 6 <= i < 8: return 50.\n",
    "                elif 8 <= i < 10: return 25.\n",
    "                elif 10 <= i < 11: return 12.5\n",
    "                elif 11 <= i < 13: return 0.\n",
    "                else: return np.nan\n",
    "for pNum in df.loc[df[\"generation\"] == 8, \"pokedex_number\"]:\n",
    "    df.loc[df[\"pokedex_number\"] == pNum, \"percentage_male\"] = getPercentageMale(pNum, genderTable)"
   ]
  },
  {
   "cell_type": "markdown",
   "metadata": {},
   "source": [
    "### Meltan, Melmetal, and Galarians\n",
    "In addition to the Galarian forms, there are still 2 null rows for the four fields above, and they correspond to meltan and melmetal (pokedex numbers 808, 809)."
   ]
  },
  {
   "cell_type": "code",
   "execution_count": 11,
   "metadata": {},
   "outputs": [],
   "source": [
    "for pNum in range(808, 810):\n",
    "    df.loc[df[\"pokedex_number\"] == pNum, \"percentage_male\"] = getPercentageMale(pNum, genderTable)\n",
    "    df.loc[df[\"pokedex_number\"] == pNum, \"catch_rate\"] = getCatchRate(pNum, catchTable)\n",
    "    df.loc[df[\"pokedex_number\"] == pNum, \"base_friendship\"] = getBaseFriendship(pNum, friendTable)\n",
    "    df.loc[df[\"pokedex_number\"] == pNum, \"base_experience\"] = getBaseExp(pNum, expTable)\n",
    "for pNum in df[df[\"name\"].str.contains(\"Galarian\")][\"pokedex_number\"]:\n",
    "    df.loc[df[\"pokedex_number\"] == pNum, \"percentage_male\"] = getPercentageMale(pNum, genderTable)\n",
    "    df.loc[df[\"pokedex_number\"] == pNum, \"catch_rate\"] = getCatchRate(pNum, catchTable)\n",
    "    df.loc[df[\"pokedex_number\"] == pNum, \"base_friendship\"] = getBaseFriendship(pNum, friendTable)\n",
    "    df.loc[df[\"pokedex_number\"] == pNum, \"base_experience\"] = getBaseExp(pNum, expTable)\n"
   ]
  },
  {
   "cell_type": "markdown",
   "metadata": {},
   "source": [
    "### Percentage Male\n",
    "A large number of percentage_male is null, but null is an acceptable field (genderless). We check the validity of the original data by comparing it to our calculated results for the entire dataset."
   ]
  },
  {
   "cell_type": "code",
   "execution_count": 12,
   "metadata": {},
   "outputs": [
    {
     "output_type": "stream",
     "name": "stdout",
     "text": [
      "0\n"
     ]
    }
   ],
   "source": [
    "maleTester = pd.DataFrame(df[\"pokedex_number\"])\n",
    "maleTester[\"calculated_percentage_male\"] = df.apply(lambda row: getPercentageMale(row[\"pokedex_number\"], genderTable), axis=1)\n",
    "df[df[\"percentage_male\"] != maleTester[\"calculated_percentage_male\"]]\n",
    "\n",
    "print(len(df[df[\"percentage_male\"].isnull() ^ maleTester[\"calculated_percentage_male\"].isnull()]))"
   ]
  },
  {
   "cell_type": "markdown",
   "metadata": {},
   "source": [
    "### Weight\n",
    "We see one missing value for weight."
   ]
  },
  {
   "cell_type": "code",
   "execution_count": 13,
   "metadata": {
    "scrolled": true
   },
   "outputs": [
    {
     "output_type": "execute_result",
     "data": {
      "text/plain": [
       "      pokedex_number                 name  generation     status  \\\n",
       "1027             890  Eternatus Eternamax           8  Legendary   \n",
       "\n",
       "               species  type_number  type_1  type_2  height_m  weight_kg  ...  \\\n",
       "1027  Gigantic Pokémon            2  Poison  Dragon     100.0        NaN  ...   \n",
       "\n",
       "      against_ground against_flying against_psychic against_bug  against_rock  \\\n",
       "1027             2.0            1.0             2.0         0.5           1.0   \n",
       "\n",
       "      against_ghost  against_dragon  against_dark  against_steel  \\\n",
       "1027            1.0             2.0           1.0            1.0   \n",
       "\n",
       "      against_fairy  \n",
       "1027            1.0  \n",
       "\n",
       "[1 rows x 48 columns]"
      ],
      "text/html": "<div>\n<style scoped>\n    .dataframe tbody tr th:only-of-type {\n        vertical-align: middle;\n    }\n\n    .dataframe tbody tr th {\n        vertical-align: top;\n    }\n\n    .dataframe thead th {\n        text-align: right;\n    }\n</style>\n<table border=\"1\" class=\"dataframe\">\n  <thead>\n    <tr style=\"text-align: right;\">\n      <th></th>\n      <th>pokedex_number</th>\n      <th>name</th>\n      <th>generation</th>\n      <th>status</th>\n      <th>species</th>\n      <th>type_number</th>\n      <th>type_1</th>\n      <th>type_2</th>\n      <th>height_m</th>\n      <th>weight_kg</th>\n      <th>...</th>\n      <th>against_ground</th>\n      <th>against_flying</th>\n      <th>against_psychic</th>\n      <th>against_bug</th>\n      <th>against_rock</th>\n      <th>against_ghost</th>\n      <th>against_dragon</th>\n      <th>against_dark</th>\n      <th>against_steel</th>\n      <th>against_fairy</th>\n    </tr>\n  </thead>\n  <tbody>\n    <tr>\n      <th>1027</th>\n      <td>890</td>\n      <td>Eternatus Eternamax</td>\n      <td>8</td>\n      <td>Legendary</td>\n      <td>Gigantic Pokémon</td>\n      <td>2</td>\n      <td>Poison</td>\n      <td>Dragon</td>\n      <td>100.0</td>\n      <td>NaN</td>\n      <td>...</td>\n      <td>2.0</td>\n      <td>1.0</td>\n      <td>2.0</td>\n      <td>0.5</td>\n      <td>1.0</td>\n      <td>1.0</td>\n      <td>2.0</td>\n      <td>1.0</td>\n      <td>1.0</td>\n      <td>1.0</td>\n    </tr>\n  </tbody>\n</table>\n<p>1 rows × 48 columns</p>\n</div>"
     },
     "metadata": {},
     "execution_count": 13
    }
   ],
   "source": [
    "df.loc[df[\"weight_kg\"].isnull()]"
   ]
  },
  {
   "cell_type": "markdown",
   "metadata": {},
   "source": [
    "A quick manual search shows that Eternatus Eternamax is a pokemon so large, it has no known weight, so we set it to int max for now. "
   ]
  },
  {
   "cell_type": "code",
   "execution_count": 14,
   "metadata": {},
   "outputs": [],
   "source": [
    "df.loc[df[\"weight_kg\"].isnull(), \"weight_kg\"] = np.finfo(np.float64).max"
   ]
  },
  {
   "cell_type": "markdown",
   "metadata": {},
   "source": [
    "### Ability 1\n",
    "There are 3 missing values for ability 1. "
   ]
  },
  {
   "cell_type": "code",
   "execution_count": 15,
   "metadata": {},
   "outputs": [
    {
     "output_type": "execute_result",
     "data": {
      "text/plain": [
       "                     name  pokedex_number  abilities_number ability_1  \\\n",
       "33        Partner Pikachu              25                 1       NaN   \n",
       "170         Partner Eevee             133                 1       NaN   \n",
       "1027  Eternatus Eternamax             890                 0       NaN   \n",
       "\n",
       "     ability_2 ability_hidden  \n",
       "33         NaN  Lightning Rod  \n",
       "170        NaN   Anticipation  \n",
       "1027       NaN            NaN  "
      ],
      "text/html": "<div>\n<style scoped>\n    .dataframe tbody tr th:only-of-type {\n        vertical-align: middle;\n    }\n\n    .dataframe tbody tr th {\n        vertical-align: top;\n    }\n\n    .dataframe thead th {\n        text-align: right;\n    }\n</style>\n<table border=\"1\" class=\"dataframe\">\n  <thead>\n    <tr style=\"text-align: right;\">\n      <th></th>\n      <th>name</th>\n      <th>pokedex_number</th>\n      <th>abilities_number</th>\n      <th>ability_1</th>\n      <th>ability_2</th>\n      <th>ability_hidden</th>\n    </tr>\n  </thead>\n  <tbody>\n    <tr>\n      <th>33</th>\n      <td>Partner Pikachu</td>\n      <td>25</td>\n      <td>1</td>\n      <td>NaN</td>\n      <td>NaN</td>\n      <td>Lightning Rod</td>\n    </tr>\n    <tr>\n      <th>170</th>\n      <td>Partner Eevee</td>\n      <td>133</td>\n      <td>1</td>\n      <td>NaN</td>\n      <td>NaN</td>\n      <td>Anticipation</td>\n    </tr>\n    <tr>\n      <th>1027</th>\n      <td>Eternatus Eternamax</td>\n      <td>890</td>\n      <td>0</td>\n      <td>NaN</td>\n      <td>NaN</td>\n      <td>NaN</td>\n    </tr>\n  </tbody>\n</table>\n</div>"
     },
     "metadata": {},
     "execution_count": 15
    }
   ],
   "source": [
    "df.loc[df[\"ability_1\"].isnull(), [\"name\", \"pokedex_number\", \"abilities_number\", \"ability_1\", \"ability_2\", \"ability_hidden\"]]"
   ]
  },
  {
   "cell_type": "markdown",
   "metadata": {},
   "source": [
    "We leave these pokemon in for completeness. \n",
    "\n",
    "As for Eternatus Eternamax, we fill its null values with its base form, Eternatus."
   ]
  },
  {
   "cell_type": "code",
   "execution_count": 16,
   "metadata": {},
   "outputs": [
    {
     "output_type": "execute_result",
     "data": {
      "text/plain": [
       "pokedex_number      False\n",
       "name                False\n",
       "generation          False\n",
       "status              False\n",
       "species             False\n",
       "type_number         False\n",
       "type_1              False\n",
       "type_2              False\n",
       "height_m            False\n",
       "weight_kg           False\n",
       "abilities_number    False\n",
       "ability_1            True\n",
       "ability_2           False\n",
       "ability_hidden      False\n",
       "total_points        False\n",
       "hp                  False\n",
       "attack              False\n",
       "defense             False\n",
       "sp_attack           False\n",
       "sp_defense          False\n",
       "speed               False\n",
       "catch_rate          False\n",
       "base_friendship     False\n",
       "base_experience     False\n",
       "growth_rate         False\n",
       "egg_type_number     False\n",
       "egg_type_1          False\n",
       "egg_type_2          False\n",
       "percentage_male     False\n",
       "egg_cycles          False\n",
       "against_normal      False\n",
       "against_fire        False\n",
       "against_water       False\n",
       "against_electric    False\n",
       "against_grass       False\n",
       "against_ice         False\n",
       "against_fight       False\n",
       "against_poison      False\n",
       "against_ground      False\n",
       "against_flying      False\n",
       "against_psychic     False\n",
       "against_bug         False\n",
       "against_rock        False\n",
       "against_ghost       False\n",
       "against_dragon      False\n",
       "against_dark        False\n",
       "against_steel       False\n",
       "against_fairy       False\n",
       "dtype: bool"
      ]
     },
     "metadata": {},
     "execution_count": 16
    }
   ],
   "source": [
    "df[df[\"name\"] == \"Eternatus Eternamax\"].isnull().any() & ~df[df[\"name\"] == \"Eternatus\"].isnull().any()"
   ]
  },
  {
   "cell_type": "code",
   "execution_count": 17,
   "metadata": {},
   "outputs": [],
   "source": [
    "df.loc[df[\"name\"] == \"Eternatus Eternamax\", \"ability_1\"] = df[df[\"name\"] == \"Eternatus\"][\"ability_1\"].values"
   ]
  },
  {
   "cell_type": "markdown",
   "metadata": {},
   "source": [
    "### Egg Cycles and Growth Rate"
   ]
  },
  {
   "cell_type": "code",
   "execution_count": 18,
   "metadata": {
    "scrolled": true
   },
   "outputs": [
    {
     "output_type": "execute_result",
     "data": {
      "text/plain": [
       "     pokedex_number                          name  generation  status  \\\n",
       "652             555  Darmanitan Galarian Zen Mode           5  Normal   \n",
       "\n",
       "               species  type_number type_1 type_2  height_m  weight_kg  ...  \\\n",
       "652  Zen Charm Pokémon            2    Ice   Fire       1.7      120.0  ...   \n",
       "\n",
       "     against_ground against_flying against_psychic against_bug  against_rock  \\\n",
       "652             2.0            1.0             1.0         0.5           4.0   \n",
       "\n",
       "     against_ghost  against_dragon  against_dark  against_steel  against_fairy  \n",
       "652            1.0             1.0           1.0            1.0            0.5  \n",
       "\n",
       "[1 rows x 48 columns]"
      ],
      "text/html": "<div>\n<style scoped>\n    .dataframe tbody tr th:only-of-type {\n        vertical-align: middle;\n    }\n\n    .dataframe tbody tr th {\n        vertical-align: top;\n    }\n\n    .dataframe thead th {\n        text-align: right;\n    }\n</style>\n<table border=\"1\" class=\"dataframe\">\n  <thead>\n    <tr style=\"text-align: right;\">\n      <th></th>\n      <th>pokedex_number</th>\n      <th>name</th>\n      <th>generation</th>\n      <th>status</th>\n      <th>species</th>\n      <th>type_number</th>\n      <th>type_1</th>\n      <th>type_2</th>\n      <th>height_m</th>\n      <th>weight_kg</th>\n      <th>...</th>\n      <th>against_ground</th>\n      <th>against_flying</th>\n      <th>against_psychic</th>\n      <th>against_bug</th>\n      <th>against_rock</th>\n      <th>against_ghost</th>\n      <th>against_dragon</th>\n      <th>against_dark</th>\n      <th>against_steel</th>\n      <th>against_fairy</th>\n    </tr>\n  </thead>\n  <tbody>\n    <tr>\n      <th>652</th>\n      <td>555</td>\n      <td>Darmanitan Galarian Zen Mode</td>\n      <td>5</td>\n      <td>Normal</td>\n      <td>Zen Charm Pokémon</td>\n      <td>2</td>\n      <td>Ice</td>\n      <td>Fire</td>\n      <td>1.7</td>\n      <td>120.0</td>\n      <td>...</td>\n      <td>2.0</td>\n      <td>1.0</td>\n      <td>1.0</td>\n      <td>0.5</td>\n      <td>4.0</td>\n      <td>1.0</td>\n      <td>1.0</td>\n      <td>1.0</td>\n      <td>1.0</td>\n      <td>0.5</td>\n    </tr>\n  </tbody>\n</table>\n<p>1 rows × 48 columns</p>\n</div>"
     },
     "metadata": {},
     "execution_count": 18
    }
   ],
   "source": [
    "df[df[\"egg_cycles\"].isnull() & df[\"growth_rate\"].isnull()]"
   ]
  },
  {
   "cell_type": "markdown",
   "metadata": {},
   "source": [
    "We fill this pokemon's null fields with its non-Galarian version."
   ]
  },
  {
   "cell_type": "code",
   "execution_count": 19,
   "metadata": {},
   "outputs": [],
   "source": [
    "df.loc[df[\"name\"] == \"Darmanitan Galarian Zen Mode\", \"egg_cycles\"] = df[df[\"name\"] == \"Darmanitan Zen Mode\"][\"egg_cycles\"].values\n",
    "df.loc[df[\"name\"] == \"Darmanitan Galarian Zen Mode\", \"growth_rate\"] = df[df[\"name\"] == \"Darmanitan Zen Mode\"][\"growth_rate\"].values\n",
    "df.loc[df[\"name\"] == \"Darmanitan Galarian Zen Mode\", \"egg_type_1\"] = df[df[\"name\"] == \"Darmanitan Zen Mode\"][\"egg_type_1\"].values"
   ]
  },
  {
   "source": [
    "### Type Number, Ability Number, and Egg Type Number"
   ],
   "cell_type": "markdown",
   "metadata": {}
  },
  {
   "source": [
    "We note that there are two inconsistencies with these fields, where the ability or egg type number is 0, but the pokemon does have an ability or egg type, respectively."
   ],
   "cell_type": "markdown",
   "metadata": {}
  },
  {
   "cell_type": "code",
   "execution_count": 20,
   "metadata": {},
   "outputs": [
    {
     "output_type": "execute_result",
     "data": {
      "text/plain": [
       "                     name  abilities_number ability_1 ability_2 ability_hidden\n",
       "1027  Eternatus Eternamax                 0  Pressure       NaN            NaN"
      ],
      "text/html": "<div>\n<style scoped>\n    .dataframe tbody tr th:only-of-type {\n        vertical-align: middle;\n    }\n\n    .dataframe tbody tr th {\n        vertical-align: top;\n    }\n\n    .dataframe thead th {\n        text-align: right;\n    }\n</style>\n<table border=\"1\" class=\"dataframe\">\n  <thead>\n    <tr style=\"text-align: right;\">\n      <th></th>\n      <th>name</th>\n      <th>abilities_number</th>\n      <th>ability_1</th>\n      <th>ability_2</th>\n      <th>ability_hidden</th>\n    </tr>\n  </thead>\n  <tbody>\n    <tr>\n      <th>1027</th>\n      <td>Eternatus Eternamax</td>\n      <td>0</td>\n      <td>Pressure</td>\n      <td>NaN</td>\n      <td>NaN</td>\n    </tr>\n  </tbody>\n</table>\n</div>"
     },
     "metadata": {},
     "execution_count": 20
    }
   ],
   "source": [
    "df.loc[(df['abilities_number'] == 0) & ~df['ability_1'].isnull(), ['name', 'abilities_number', 'ability_1', 'ability_2', 'ability_hidden']]"
   ]
  },
  {
   "cell_type": "code",
   "execution_count": 21,
   "metadata": {},
   "outputs": [
    {
     "output_type": "execute_result",
     "data": {
      "text/plain": [
       "                             name  egg_type_number egg_type_1 egg_type_2\n",
       "652  Darmanitan Galarian Zen Mode                0      Field        NaN"
      ],
      "text/html": "<div>\n<style scoped>\n    .dataframe tbody tr th:only-of-type {\n        vertical-align: middle;\n    }\n\n    .dataframe tbody tr th {\n        vertical-align: top;\n    }\n\n    .dataframe thead th {\n        text-align: right;\n    }\n</style>\n<table border=\"1\" class=\"dataframe\">\n  <thead>\n    <tr style=\"text-align: right;\">\n      <th></th>\n      <th>name</th>\n      <th>egg_type_number</th>\n      <th>egg_type_1</th>\n      <th>egg_type_2</th>\n    </tr>\n  </thead>\n  <tbody>\n    <tr>\n      <th>652</th>\n      <td>Darmanitan Galarian Zen Mode</td>\n      <td>0</td>\n      <td>Field</td>\n      <td>NaN</td>\n    </tr>\n  </tbody>\n</table>\n</div>"
     },
     "metadata": {},
     "execution_count": 21
    }
   ],
   "source": [
    "df.loc[(df['egg_type_number'] == 0) & ~df['egg_type_1'].isnull(), ['name', 'egg_type_number', 'egg_type_1', 'egg_type_2']]"
   ]
  },
  {
   "source": [
    "We set these values to 1."
   ],
   "cell_type": "markdown",
   "metadata": {}
  },
  {
   "cell_type": "code",
   "execution_count": 22,
   "metadata": {},
   "outputs": [],
   "source": [
    "df.loc[df[\"name\"] == \"Eternatus Eternamax\", \"abilities_number\"] = 1\n",
    "df.loc[df[\"name\"] == \"Darmanitan Galarian Zen Mode\", \"egg_type_number\"] = 1"
   ]
  },
  {
   "source": [
    "We then verify that the remaining data is valid."
   ],
   "cell_type": "markdown",
   "metadata": {}
  },
  {
   "cell_type": "code",
   "execution_count": 23,
   "metadata": {},
   "outputs": [
    {
     "output_type": "stream",
     "name": "stdout",
     "text": [
      "0\n0\n0\n0\n0\n0\n0\n0\n0\n0\n"
     ]
    }
   ],
   "source": [
    "print(len(df[(df['type_number'] == 0) & ~df['type_1'].isnull()]))\n",
    "print(len(df[(df['type_number'] == 1) & ~df['type_2'].isnull()]))\n",
    "print(len(df[(df['type_number'] == 2) & df['type_2'].isnull()]))\n",
    "\n",
    "print(len(df[df['abilities_number'] == 0] & ~df['ability_1'].isnull()))\n",
    "print(len(df[(df['abilities_number'] == 1) & ~(df['ability_2'].isnull() | df['ability_hidden'].isnull())]))\n",
    "print(len(df[(df['abilities_number'] == 2) & (df['ability_2'].isnull() & df['ability_hidden'].isnull())]))\n",
    "print(len(df[(df['abilities_number'] == 3) & (df['ability_2'].isnull() | df['ability_hidden'].isnull())]))\n",
    "\n",
    "print(len(df[(df['egg_type_number'] == 0) & ~df['egg_type_1'].isnull()]))\n",
    "print(len(df[(df['egg_type_number'] == 1) & ~df['egg_type_2'].isnull()]))\n",
    "print(len(df[(df['egg_type_number'] == 2) & df['egg_type_2'].isnull()]))"
   ]
  },
  {
   "cell_type": "markdown",
   "metadata": {},
   "source": [
    "### Saving Version"
   ]
  },
  {
   "cell_type": "code",
   "execution_count": 24,
   "metadata": {},
   "outputs": [],
   "source": [
    "df.to_csv(\"./data/pokedex_clean.csv\")"
   ]
  },
  {
   "cell_type": "markdown",
   "metadata": {},
   "source": [
    "<a id='transform_model'></a>\n",
    "## 2. Transform Data for Modelling\n",
    "\n",
    "All the invalid/incomplete data has been filled. This section will replace remaining valid null values with a more appropriate number or by encoding it with a one-hot tensor, for example."
   ]
  },
  {
   "cell_type": "code",
   "execution_count": 25,
   "metadata": {},
   "outputs": [
    {
     "output_type": "stream",
     "name": "stdout",
     "text": [
      "<class 'pandas.core.frame.DataFrame'>\nInt64Index: 1028 entries, 0 to 1027\nData columns (total 48 columns):\n #   Column            Non-Null Count  Dtype  \n---  ------            --------------  -----  \n 0   pokedex_number    1028 non-null   int64  \n 1   name              1028 non-null   object \n 2   generation        1028 non-null   int64  \n 3   status            1028 non-null   object \n 4   species           1028 non-null   object \n 5   type_number       1028 non-null   int64  \n 6   type_1            1028 non-null   object \n 7   type_2            542 non-null    object \n 8   height_m          1028 non-null   float64\n 9   weight_kg         1028 non-null   float64\n 10  abilities_number  1028 non-null   int64  \n 11  ability_1         1026 non-null   object \n 12  ability_2         513 non-null    object \n 13  ability_hidden    810 non-null    object \n 14  total_points      1028 non-null   float64\n 15  hp                1028 non-null   float64\n 16  attack            1028 non-null   float64\n 17  defense           1028 non-null   float64\n 18  sp_attack         1028 non-null   float64\n 19  sp_defense        1028 non-null   float64\n 20  speed             1028 non-null   float64\n 21  catch_rate        1028 non-null   float64\n 22  base_friendship   1028 non-null   float64\n 23  base_experience   1028 non-null   float64\n 24  growth_rate       1028 non-null   object \n 25  egg_type_number   1028 non-null   int64  \n 26  egg_type_1        1026 non-null   object \n 27  egg_type_2        282 non-null    object \n 28  percentage_male   881 non-null    float64\n 29  egg_cycles        1028 non-null   float64\n 30  against_normal    1028 non-null   float64\n 31  against_fire      1028 non-null   float64\n 32  against_water     1028 non-null   float64\n 33  against_electric  1028 non-null   float64\n 34  against_grass     1028 non-null   float64\n 35  against_ice       1028 non-null   float64\n 36  against_fight     1028 non-null   float64\n 37  against_poison    1028 non-null   float64\n 38  against_ground    1028 non-null   float64\n 39  against_flying    1028 non-null   float64\n 40  against_psychic   1028 non-null   float64\n 41  against_bug       1028 non-null   float64\n 42  against_rock      1028 non-null   float64\n 43  against_ghost     1028 non-null   float64\n 44  against_dragon    1028 non-null   float64\n 45  against_dark      1028 non-null   float64\n 46  against_steel     1028 non-null   float64\n 47  against_fairy     1028 non-null   float64\ndtypes: float64(32), int64(5), object(11)\nmemory usage: 393.5+ KB\n"
     ]
    }
   ],
   "source": [
    "df = pd.read_csv(\"./data/pokedex_clean.csv\", index_col = 0)\n",
    "df.info()"
   ]
  },
  {
   "cell_type": "markdown",
   "metadata": {},
   "source": [
    "### Multilabel Categorical Encoding"
   ]
  },
  {
   "cell_type": "markdown",
   "metadata": {},
   "source": [
    "#### Type 1, Type 2"
   ]
  },
  {
   "cell_type": "code",
   "execution_count": 26,
   "metadata": {},
   "outputs": [],
   "source": [
    "df[\"types\"] = df[[\"type_1\", \"type_2\"]].fillna(\"\").apply(lambda row: [x for x in [row[\"type_1\"], row[\"type_2\"]] if len(x) > 0], axis=1)\n",
    "mlb_types = preprocessing.MultiLabelBinarizer()\n",
    "encoded_types = pd.DataFrame(mlb_types.fit_transform(df[\"types\"]), columns=\"type_\" + mlb_types.classes_, index=df.index)\n",
    "df = pd.concat([df, encoded_types], axis=1).drop([\"types\", \"type_1\", \"type_2\"], axis=1)"
   ]
  },
  {
   "cell_type": "markdown",
   "metadata": {},
   "source": [
    "#### Ability 1, Ability 2, Ability Hidden"
   ]
  },
  {
   "cell_type": "code",
   "execution_count": 27,
   "metadata": {},
   "outputs": [],
   "source": [
    "df[\"abilities\"] = df[[\"ability_1\", \"ability_2\", \"ability_hidden\"]].fillna(\"\").apply(lambda row: [x for x in [row[\"ability_1\"], row[\"ability_2\"], row[\"ability_hidden\"]] if len(x) > 0], axis=1)\n",
    "mlb_abilities = preprocessing.MultiLabelBinarizer()\n",
    "encoded_abilities = pd.DataFrame(mlb_abilities.fit_transform(df[\"abilities\"]), columns=\"ability_\" + mlb_abilities.classes_, index=df.index)\n",
    "df = pd.concat([df, encoded_abilities], axis=1).drop([\"abilities\", \"ability_1\", \"ability_2\", \"ability_hidden\"], axis=1)"
   ]
  },
  {
   "cell_type": "markdown",
   "metadata": {},
   "source": [
    "#### Egg Type 1, Egg Type 2"
   ]
  },
  {
   "cell_type": "code",
   "execution_count": 28,
   "metadata": {},
   "outputs": [],
   "source": [
    "df[\"egg_types\"] = df[[\"egg_type_1\", \"egg_type_2\"]].fillna(\"None\").apply(lambda row: [x for x in [row[\"egg_type_1\"], row[\"egg_type_2\"]] if len(x) > 0], axis=1)\n",
    "mlb_egg_types = preprocessing.MultiLabelBinarizer()\n",
    "encoded_egg_types = pd.DataFrame(mlb_egg_types.fit_transform(df[\"egg_types\"]), columns=\"egg_type_\" + mlb_egg_types.classes_, index=df.index)\n",
    "df = pd.concat([df, encoded_egg_types], axis=1).drop([\"egg_types\", \"egg_type_1\", \"egg_type_2\"], axis=1)"
   ]
  },
  {
   "cell_type": "markdown",
   "metadata": {},
   "source": [
    "### Ordinal Encoding"
   ]
  },
  {
   "cell_type": "markdown",
   "metadata": {},
   "source": [
    "#### Growth Rate"
   ]
  },
  {
   "cell_type": "code",
   "execution_count": 29,
   "metadata": {},
   "outputs": [
    {
     "output_type": "execute_result",
     "data": {
      "text/plain": [
       "50.0     634\n",
       "87.5     130\n",
       "0.0       36\n",
       "25.0      33\n",
       "100.0     28\n",
       "75.0      20\n",
       "Name: percentage_male, dtype: int64"
      ]
     },
     "metadata": {},
     "execution_count": 29
    }
   ],
   "source": [
    "df[\"percentage_male\"].value_counts()"
   ]
  },
  {
   "cell_type": "code",
   "execution_count": 30,
   "metadata": {},
   "outputs": [],
   "source": [
    "oe = preprocessing.OrdinalEncoder(categories = [[\"Erratic\", \"Fast\", \"Medium Fast\", \"Medium Slow\", \"Slow\", \"Fluctuating\"], [-1.0, 0.0, 25.0, 50.0, 75.0, 87.5, 100.0]])\n",
    "df.loc[:, [\"growth_rate\", \"percentage_male\"]] = oe.fit_transform(df[[\"growth_rate\", \"percentage_male\"]].fillna(-1.0))"
   ]
  },
  {
   "cell_type": "markdown",
   "metadata": {},
   "source": [
    "### One Hot Encoding\n",
    "\n",
    "#### Status"
   ]
  },
  {
   "cell_type": "code",
   "execution_count": 31,
   "metadata": {},
   "outputs": [],
   "source": [
    "ohe_status = preprocessing.OneHotEncoder(sparse=False)\n",
    "encoded_status = pd.DataFrame(ohe_status.fit_transform(df[[\"status\"]]), columns=\"status_\" +  ohe_status.categories_[0], index=df.index)\n",
    "df = pd.concat([df, encoded_status], axis=1).drop([\"status\"], axis=1)"
   ]
  },
  {
   "cell_type": "markdown",
   "metadata": {},
   "source": [
    "#### Species"
   ]
  },
  {
   "cell_type": "code",
   "execution_count": 32,
   "metadata": {},
   "outputs": [],
   "source": [
    "ohe_species = preprocessing.OneHotEncoder(sparse=False)\n",
    "encoded_species = pd.DataFrame(ohe_species.fit_transform(df[[\"species\"]]), columns=\"species_\" + ohe_species.categories_[0], index=df.index)\n",
    "df = pd.concat([df, encoded_species], axis=1).drop([\"species\"], axis=1)"
   ]
  },
  {
   "cell_type": "code",
   "execution_count": 33,
   "metadata": {
    "tags": [
     "outputPrepend"
    ]
   },
   "outputs": [
    {
     "output_type": "stream",
     "name": "stdout",
     "text": [
      "mon           1028 non-null   float64\n 650  species_Leaf Pokémon           1028 non-null   float64\n 651  species_Leaf-Wrapped Pokémon   1028 non-null   float64\n 652  species_Legendary Pokémon      1028 non-null   float64\n 653  species_Licking Pokémon        1028 non-null   float64\n 654  species_Life Pokémon           1028 non-null   float64\n 655  species_Light Pokémon          1028 non-null   float64\n 656  species_Lightning Pokémon      1028 non-null   float64\n 657  species_Lingering Pokémon      1028 non-null   float64\n 658  species_Lion Cub Pokémon       1028 non-null   float64\n 659  species_Lissome Pokémon        1028 non-null   float64\n 660  species_Little Bear Pokémon    1028 non-null   float64\n 661  species_Live Coal Pokémon      1028 non-null   float64\n 662  species_Lizard Pokémon         1028 non-null   float64\n 663  species_Loitering Pokémon      1028 non-null   float64\n 664  species_Lonely Pokémon         1028 non-null   float64\n 665  species_Long Body Pokémon      1028 non-null   float64\n 666  species_Long Leg Pokémon       1028 non-null   float64\n 667  species_Long Neck Pokémon      1028 non-null   float64\n 668  species_Long Nose Pokémon      1028 non-null   float64\n 669  species_Long Tail Pokémon      1028 non-null   float64\n 670  species_Longevity Pokémon      1028 non-null   float64\n 671  species_Lookout Pokémon        1028 non-null   float64\n 672  species_Loud Noise Pokémon     1028 non-null   float64\n 673  species_Loyal Dog Pokémon      1028 non-null   float64\n 674  species_Lunar Pokémon          1028 non-null   float64\n 675  species_Luring Pokémon         1028 non-null   float64\n 676  species_Mach Pokémon           1028 non-null   float64\n 677  species_Magical Pokémon        1028 non-null   float64\n 678  species_Magnet Area Pokémon    1028 non-null   float64\n 679  species_Magnet Pokémon         1028 non-null   float64\n 680  species_Manipulate Pokémon     1028 non-null   float64\n 681  species_Mantis Pokémon         1028 non-null   float64\n 682  species_Mantle Pokémon         1028 non-null   float64\n 683  species_Marionette Pokémon     1028 non-null   float64\n 684  species_Martial Arts Pokémon   1028 non-null   float64\n 685  species_Meditate Pokémon       1028 non-null   float64\n 686  species_Mega Fire Pig Pokémon  1028 non-null   float64\n 687  species_Megapede Pokémon       1028 non-null   float64\n 688  species_Megaton Pokémon        1028 non-null   float64\n 689  species_Melody Pokémon         1028 non-null   float64\n 690  species_Meringue Pokémon       1028 non-null   float64\n 691  species_Meteor Pokémon         1028 non-null   float64\n 692  species_Meteorite Pokémon      1028 non-null   float64\n 693  species_Milk Cow Pokémon       1028 non-null   float64\n 694  species_Mime Pokémon           1028 non-null   float64\n 695  species_Mischief Pokémon       1028 non-null   float64\n 696  species_Mitosis Pokémon        1028 non-null   float64\n 697  species_Mock Kelp Pokémon      1028 non-null   float64\n 698  species_Mold Pokémon           1028 non-null   float64\n 699  species_Mole Pokémon           1028 non-null   float64\n 700  species_Moone Pokémon          1028 non-null   float64\n 701  species_Moonlight Pokémon      1028 non-null   float64\n 702  species_Moth Pokémon           1028 non-null   float64\n 703  species_Mount Pokémon          1028 non-null   float64\n 704  species_Mouse Pokémon          1028 non-null   float64\n 705  species_Mud Fish Pokémon       1028 non-null   float64\n 706  species_Multiplying Pokémon    1028 non-null   float64\n 707  species_Muscular Pokémon       1028 non-null   float64\n 708  species_Mushroom Pokémon       1028 non-null   float64\n 709  species_Music Note Pokémon     1028 non-null   float64\n 710  species_Mysterious Pokémon     1028 non-null   float64\n 711  species_Mystic Pokémon         1028 non-null   float64\n 712  species_Nebula Pokémon         1028 non-null   float64\n 713  species_Neon Pokémon           1028 non-null   float64\n 714  species_New Species Pokémon    1028 non-null   float64\n 715  species_Ninja Pokémon          1028 non-null   float64\n 716  species_Numb Pokémon           1028 non-null   float64\n 717  species_Nurturing Pokémon      1028 non-null   float64\n 718  species_Ogre Darner Pokémon    1028 non-null   float64\n 719  species_Ogre Scorp Pokémon     1028 non-null   float64\n 720  species_Old Shrimp Pokémon     1028 non-null   float64\n 721  species_Order Pokémon          1028 non-null   float64\n 722  species_Ore Pokémon            1028 non-null   float64\n 723  species_Overturning Pokémon    1028 non-null   float64\n 724  species_Owl Pokémon            1028 non-null   float64\n 725  species_Painter Pokémon        1028 non-null   float64\n 726  species_Paleozoic Pokémon      1028 non-null   float64\n 727  species_Parasite Pokémon       1028 non-null   float64\n 728  species_Parent Pokémon         1028 non-null   float64\n 729  species_Patient Pokémon        1028 non-null   float64\n 730  species_Penguin Pokémon        1028 non-null   float64\n 731  species_Perfume Pokémon        1028 non-null   float64\n 732  species_Pig Monkey Pokémon     1028 non-null   float64\n 733  species_Pig Pokémon            1028 non-null   float64\n 734  species_Pincer Pokémon         1028 non-null   float64\n 735  species_Pitch-Black Pokémon    1028 non-null   float64\n 736  species_Placid Pokémon         1028 non-null   float64\n 737  species_Plasma Pokémon         1028 non-null   float64\n 738  species_Plate Pokémon          1028 non-null   float64\n 739  species_Playful Pokémon        1028 non-null   float64\n 740  species_Playhouse Pokémon      1028 non-null   float64\n 741  species_Plump Mouse Pokémon    1028 non-null   float64\n 742  species_Poison Bag Pokémon     1028 non-null   float64\n 743  species_Poison Bee Pokémon     1028 non-null   float64\n 744  species_Poison Gas Pokémon     1028 non-null   float64\n 745  species_Poison Moth Pokémon    1028 non-null   float64\n 746  species_Poison Pin Pokémon     1028 non-null   float64\n 747  species_Polka Dot Pokémon      1028 non-null   float64\n 748  species_Pond Skater Pokémon    1028 non-null   float64\n 749  species_Poodle Pokémon         1028 non-null   float64\n 750  species_Pop Star Pokémon       1028 non-null   float64\n 751  species_Posy Picker Pokémon    1028 non-null   float64\n 752  species_Predator Pokémon       1028 non-null   float64\n 753  species_Prim Pokémon           1028 non-null   float64\n 754  species_Prism Pokémon          1028 non-null   float64\n 755  species_Protostar Pokémon      1028 non-null   float64\n 756  species_Prototurtle Pokémon    1028 non-null   float64\n 757  species_Proud Pokémon          1028 non-null   float64\n 758  species_Psi Pokémon            1028 non-null   float64\n 759  species_Pumpkin Pokémon        1028 non-null   float64\n 760  species_Punching Pokémon       1028 non-null   float64\n 761  species_Punk Pokémon           1028 non-null   float64\n 762  species_Puppet Pokémon         1028 non-null   float64\n 763  species_Puppy Pokémon          1028 non-null   float64\n 764  species_Rabbit Pokémon         1028 non-null   float64\n 765  species_Radiator Pokémon       1028 non-null   float64\n 766  species_Radome Pokémon         1028 non-null   float64\n 767  species_Rainbow Pokémon        1028 non-null   float64\n 768  species_Rampart Pokémon        1028 non-null   float64\n 769  species_Raven Pokémon          1028 non-null   float64\n 770  species_Regal Pokémon          1028 non-null   float64\n 771  species_Rendezvous Pokémon     1028 non-null   float64\n 772  species_Renegade Pokémon       1028 non-null   float64\n 773  species_Requiem Pokémon        1028 non-null   float64\n 774  species_Restraint Pokémon      1028 non-null   float64\n 775  species_Revolving Pokémon      1028 non-null   float64\n 776  species_River Crab Pokémon     1028 non-null   float64\n 777  species_Rock Head Pokémon      1028 non-null   float64\n 778  species_Rock Inn Pokémon       1028 non-null   float64\n 779  species_Rock Peak Pokémon      1028 non-null   float64\n 780  species_Rock Pokémon           1028 non-null   float64\n 781  species_Rock Skin Pokémon      1028 non-null   float64\n 782  species_Rock Snake Pokémon     1028 non-null   float64\n 783  species_Rogue Pokémon          1028 non-null   float64\n 784  species_Roly-Poly Pokémon      1028 non-null   float64\n 785  species_Royal Heir Pokémon     1028 non-null   float64\n 786  species_Royal Pokémon          1028 non-null   float64\n 787  species_Royal Sword Pokémon    1028 non-null   float64\n 788  species_Ruffian Pokémon        1028 non-null   float64\n 789  species_Rush Pokémon           1028 non-null   float64\n 790  species_Rushing Pokémon        1028 non-null   float64\n 791  species_Sage Pokémon           1028 non-null   float64\n 792  species_Sand Castle Pokémon    1028 non-null   float64\n 793  species_Sand Heap Pokémon      1028 non-null   float64\n 794  species_Sand Snake Pokémon     1028 non-null   float64\n 795  species_Savage Pokémon         1028 non-null   float64\n 796  species_Scale Pokémon          1028 non-null   float64\n 797  species_Scaly Pokémon          1028 non-null   float64\n 798  species_Scarecrow Pokémon      1028 non-null   float64\n 799  species_Scarf Pokémon          1028 non-null   float64\n 800  species_Scatterdust Pokémon    1028 non-null   float64\n 801  species_Scorching Pokémon      1028 non-null   float64\n 802  species_Scorpion Pokémon       1028 non-null   float64\n 803  species_Scout Pokémon          1028 non-null   float64\n 804  species_Scratch Cat Pokémon    1028 non-null   float64\n 805  species_Screech Pokémon        1028 non-null   float64\n 806  species_Scuffle Pokémon        1028 non-null   float64\n 807  species_Sea Basin Pokémon      1028 non-null   float64\n 808  species_Sea Creeper Pokémon    1028 non-null   float64\n 809  species_Sea Cucumber Pokémon   1028 non-null   float64\n 810  species_Sea Drifter Pokémon    1028 non-null   float64\n 811  species_Sea Lily Pokémon       1028 non-null   float64\n 812  species_Sea Lion Pokémon       1028 non-null   float64\n 813  species_Sea Otter Pokémon      1028 non-null   float64\n 814  species_Sea Slug Pokémon       1028 non-null   float64\n 815  species_Sea Urchin Pokémon     1028 non-null   float64\n 816  species_Sea Weasel Pokémon     1028 non-null   float64\n 817  species_Seafaring Pokémon      1028 non-null   float64\n 818  species_Seagull Pokémon        1028 non-null   float64\n 819  species_Season Pokémon         1028 non-null   float64\n 820  species_Secret Agent Pokémon   1028 non-null   float64\n 821  species_Seed Pokémon           1028 non-null   float64\n 822  species_Serene Pokémon         1028 non-null   float64\n 823  species_Seven Spot Pokémon     1028 non-null   float64\n 824  species_Sewing Pokémon         1028 non-null   float64\n 825  species_Shadow Pokémon         1028 non-null   float64\n 826  species_Sharp Blade Pokémon    1028 non-null   float64\n 827  species_Sharp Claw Pokémon     1028 non-null   float64\n 828  species_Shed Pokémon           1028 non-null   float64\n 829  species_Shedding Pokémon       1028 non-null   float64\n 830  species_Sheep Pokémon          1028 non-null   float64\n 831  species_Shell Out Pokémon      1028 non-null   float64\n 832  species_Shellfish Pokémon      1028 non-null   float64\n 833  species_Shield Pokémon         1028 non-null   float64\n 834  species_Sickle Grass Pokémon   1028 non-null   float64\n 835  species_Silent Pokémon         1028 non-null   float64\n 836  species_Single Bloom Pokémon   1028 non-null   float64\n 837  species_Single Horn Pokémon    1028 non-null   float64\n 838  species_Skewer Pokémon         1028 non-null   float64\n 839  species_Skunk Pokémon          1028 non-null   float64\n 840  species_Sky High Pokémon       1028 non-null   float64\n 841  species_Sky Squirrel Pokémon   1028 non-null   float64\n 842  species_Slacker Pokémon        1028 non-null   float64\n 843  species_Sleeping Pokémon       1028 non-null   float64\n 844  species_Sludge Pokémon         1028 non-null   float64\n 845  species_Small Fry Pokémon      1028 non-null   float64\n 846  species_Snail Pokémon          1028 non-null   float64\n 847  species_Snake Pokémon          1028 non-null   float64\n 848  species_Snapping Pokémon       1028 non-null   float64\n 849  species_Snow Hat Pokémon       1028 non-null   float64\n 850  species_Snow Land Pokémon      1028 non-null   float64\n 851  species_Snowstorm Pokémon      1028 non-null   float64\n 852  species_Soft Tissue Pokémon    1028 non-null   float64\n 853  species_Soloist Pokémon        1028 non-null   float64\n 854  species_Sound Wave Pokémon     1028 non-null   float64\n 855  species_South Sea Pokémon      1028 non-null   float64\n 856  species_Spark Pokémon          1028 non-null   float64\n 857  species_Spatial Pokémon        1028 non-null   float64\n 858  species_Spike Ball Pokémon     1028 non-null   float64\n 859  species_Spikes Pokémon         1028 non-null   float64\n 860  species_Spiny Armor Pokémon    1028 non-null   float64\n 861  species_Spiny Nut Pokémon      1028 non-null   float64\n 862  species_Spiral Pokémon         1028 non-null   float64\n 863  species_Spirit Pokémon         1028 non-null   float64\n 864  species_Spitfire Pokémon       1028 non-null   float64\n 865  species_Spot Panda Pokémon     1028 non-null   float64\n 866  species_Spray Pokémon          1028 non-null   float64\n 867  species_Stag Beetle Pokémon    1028 non-null   float64\n 868  species_Stakeout Pokémon       1028 non-null   float64\n 869  species_Star Shape Pokémon     1028 non-null   float64\n 870  species_Starling Pokémon       1028 non-null   float64\n 871  species_Stealth Pokémon        1028 non-null   float64\n 872  species_Steam Pokémon          1028 non-null   float64\n 873  species_Stomach Pokémon        1028 non-null   float64\n 874  species_Stone Home Pokémon     1028 non-null   float64\n 875  species_Striker Pokémon        1028 non-null   float64\n 876  species_String Spit Pokémon    1028 non-null   float64\n 877  species_Strong Arm Pokémon     1028 non-null   float64\n 878  species_Stump Pokémon          1028 non-null   float64\n 879  species_Subterrene Pokémon     1028 non-null   float64\n 880  species_Sun Pokémon            1028 non-null   float64\n 881  species_Sunne Pokémon          1028 non-null   float64\n 882  species_Superpower Pokémon     1028 non-null   float64\n 883  species_Swallow Pokémon        1028 non-null   float64\n 884  species_Swine Pokémon          1028 non-null   float64\n 885  species_Swollen Pokémon        1028 non-null   float64\n 886  species_Sword Blade Pokémon    1028 non-null   float64\n 887  species_Sword Pokémon          1028 non-null   float64\n 888  species_Symbol Pokémon         1028 non-null   float64\n 889  species_Synthetic Pokémon      1028 non-null   float64\n 890  species_Tadpole Pokémon        1028 non-null   float64\n 891  species_Tantrum Pokémon        1028 non-null   float64\n 892  species_Teamwork Pokémon       1028 non-null   float64\n 893  species_Temporal Pokémon       1028 non-null   float64\n 894  species_Tender Pokémon         1028 non-null   float64\n 895  species_Thorn Monkey Pokémon   1028 non-null   float64\n 896  species_Thorn Pod Pokémon      1028 non-null   float64\n 897  species_Thorn Pokémon          1028 non-null   float64\n 898  species_Thorn Seed Pokémon     1028 non-null   float64\n 899  species_Thunder Pokémon        1028 non-null   float64\n 900  species_Thunderbolt Pokémon    1028 non-null   float64\n 901  species_Thunderclap Pokémon    1028 non-null   float64\n 902  species_Tiger Cat Pokémon      1028 non-null   float64\n 903  species_Time Travel Pokémon    1028 non-null   float64\n 904  species_Tiny Bee Pokémon       1028 non-null   float64\n 905  species_Tiny Bird Pokémon      1028 non-null   float64\n 906  species_Tiny Leaf Pokémon      1028 non-null   float64\n 907  species_Tiny Mouse Pokémon     1028 non-null   float64\n 908  species_Tiny Pigeon Pokémon    1028 non-null   float64\n 909  species_Tiny Raccoon Pokémon   1028 non-null   float64\n 910  species_Tiny Robin Pokémon     1028 non-null   float64\n 911  species_Tiny Turtle Pokémon    1028 non-null   float64\n 912  species_TinyRaccoon Pokémon    1028 non-null   float64\n 913  species_TinySwallow Pokémon    1028 non-null   float64\n 914  species_Torch Pokémon          1028 non-null   float64\n 915  species_Toxic Lizard Pokémon   1028 non-null   float64\n 916  species_Toxic Mouth Pokémon    1028 non-null   float64\n 917  species_Trainee Pokémon        1028 non-null   float64\n 918  species_Transform Pokémon      1028 non-null   float64\n 919  species_Transport Pokémon      1028 non-null   float64\n 920  species_Trap Pokémon           1028 non-null   float64\n 921  species_Trash Bag Pokémon      1028 non-null   float64\n 922  species_Trash Heap Pokémon     1028 non-null   float64\n 923  species_Tricky Fox Pokémon     1028 non-null   float64\n 924  species_Triple Bird Pokémon    1028 non-null   float64\n 925  species_Tundra Pokémon         1028 non-null   float64\n 926  species_Turn Tail Pokémon      1028 non-null   float64\n 927  species_Turtle Pokémon         1028 non-null   float64\n 928  species_Tusk Pokémon           1028 non-null   float64\n 929  species_Twin Bird Pokémon      1028 non-null   float64\n 930  species_Twin Tusk Pokémon      1028 non-null   float64\n 931  species_Two-Handed Pokémon     1028 non-null   float64\n 932  species_Two-Sided Pokémon      1028 non-null   float64\n 933  species_Unique Horn Pokémon    1028 non-null   float64\n 934  species_Valiant Pokémon        1028 non-null   float64\n 935  species_Vast White Pokémon     1028 non-null   float64\n 936  species_Verdant Pokémon        1028 non-null   float64\n 937  species_Vibration Pokémon      1028 non-null   float64\n 938  species_Victory Pokémon        1028 non-null   float64\n 939  species_Viking Pokémon         1028 non-null   float64\n 940  species_Vine Pokémon           1028 non-null   float64\n 941  species_Virtual Pokémon        1028 non-null   float64\n 942  species_Volcano Pokémon        1028 non-null   float64\n 943  species_Warrior Pokémon        1028 non-null   float64\n 944  species_Water Bird Pokémon     1028 non-null   float64\n 945  species_Water Bubble Pokémon   1028 non-null   float64\n 946  species_Water Fish Pokémon     1028 non-null   float64\n 947  species_Water Gun Pokémon      1028 non-null   float64\n 948  species_Water Lizard Pokémon   1028 non-null   float64\n 949  species_Water Weed Pokémon     1028 non-null   float64\n 950  species_Water lizard Pokémon   1028 non-null   float64\n 951  species_Weather Pokémon        1028 non-null   float64\n 952  species_Weed Pokémon           1028 non-null   float64\n 953  species_Whiskers Pokémon       1028 non-null   float64\n 954  species_Whisper Pokémon        1028 non-null   float64\n 955  species_White Bird Pokémon     1028 non-null   float64\n 956  species_Wicked Pokémon         1028 non-null   float64\n 957  species_Wild Bull Pokémon      1028 non-null   float64\n 958  species_Wild Duck Pokémon      1028 non-null   float64\n 959  species_Wild Monkey Pokémon    1028 non-null   float64\n 960  species_Wild Pigeon Pokémon    1028 non-null   float64\n 961  species_Willpower Pokémon      1028 non-null   float64\n 962  species_Wily Pokémon           1028 non-null   float64\n 963  species_Wind Chime Pokémon     1028 non-null   float64\n 964  species_Windveiled Pokémon     1028 non-null   float64\n 965  species_Wing Fish Pokémon      1028 non-null   float64\n 966  species_Wish Pokémon           1028 non-null   float64\n 967  species_Wolf Pokémon           1028 non-null   float64\n 968  species_Wood Gecko Pokémon     1028 non-null   float64\n 969  species_Woodpecker Pokémon     1028 non-null   float64\n 970  species_Wool Pokémon           1028 non-null   float64\n 971  species_Woolly Crab Pokémon    1028 non-null   float64\n 972  species_Worm Pokémon           1028 non-null   float64\n 973  species_Wrestling Pokémon      1028 non-null   float64\n 974  species_Young Fowl Pokémon     1028 non-null   float64\n 975  species_Zen Charm Pokémon      1028 non-null   float64\ndtypes: float64(678), int32(292), int64(5), object(1)\nmemory usage: 6.5+ MB\n"
     ]
    }
   ],
   "source": [
    "df.info(verbose=True, show_counts=True)"
   ]
  },
  {
   "cell_type": "markdown",
   "metadata": {},
   "source": [
    "### Saving Version"
   ]
  },
  {
   "cell_type": "code",
   "execution_count": 34,
   "metadata": {},
   "outputs": [],
   "source": [
    "df.to_csv(\"./data/pokedex_enc.csv\")"
   ]
  }
 ],
 "metadata": {
  "kernelspec": {
   "name": "python3",
   "display_name": "Python 3.8.7 64-bit",
   "metadata": {
    "interpreter": {
     "hash": "ecb776122052db33db68400d55ec0b809698b80b42e4d6dc99dfd3b558dcba9d"
    }
   }
  },
  "language_info": {
   "codemirror_mode": {
    "name": "ipython",
    "version": 3
   },
   "file_extension": ".py",
   "mimetype": "text/x-python",
   "name": "python",
   "nbconvert_exporter": "python",
   "pygments_lexer": "ipython3",
   "version": "3.8.7-final"
  }
 },
 "nbformat": 4,
 "nbformat_minor": 4
}